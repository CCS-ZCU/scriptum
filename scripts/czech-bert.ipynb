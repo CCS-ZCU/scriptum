{
 "cells": [
  {
   "metadata": {
    "ExecuteTime": {
     "end_time": "2024-04-03T15:28:47.037446Z",
     "start_time": "2024-04-03T15:28:47.034533Z"
    }
   },
   "cell_type": "code",
   "source": [
    "import os\n",
    "import numpy as np\n",
    "import pandas as pd\n",
    "import nltk\n",
    "import re\n",
    "import torch\n",
    "from sklearn.metrics.pairwise import cosine_similarity\n",
    "from sklearn.manifold import TSNE\n",
    "\n",
    "import plotly\n",
    "import plotly.express as px\n",
    "import plotly.graph_objects as go\n"
   ],
   "id": "aa7c961cfbf8ce2c",
   "outputs": [],
   "execution_count": 113
  },
  {
   "metadata": {
    "ExecuteTime": {
     "end_time": "2024-04-03T12:24:18.848480Z",
     "start_time": "2024-04-03T12:24:16.018417Z"
    }
   },
   "cell_type": "code",
   "source": [
    "from transformers import AutoTokenizer, AutoModelForMaskedLM\n",
    "\n",
    "tokenizer = AutoTokenizer.from_pretrained(\"fav-kky/FERNET-C5\")\n",
    "model = AutoModelForMaskedLM.from_pretrained(\"fav-kky/FERNET-C5\")"
   ],
   "id": "5a99646e96f71d8e",
   "outputs": [
    {
     "name": "stderr",
     "output_type": "stream",
     "text": [
      "Some weights of the model checkpoint at fav-kky/FERNET-C5 were not used when initializing BertForMaskedLM: ['cls.seq_relationship.weight', 'bert.pooler.dense.weight', 'bert.pooler.dense.bias', 'cls.seq_relationship.bias']\n",
      "- This IS expected if you are initializing BertForMaskedLM from the checkpoint of a model trained on another task or with another architecture (e.g. initializing a BertForSequenceClassification model from a BertForPreTraining model).\n",
      "- This IS NOT expected if you are initializing BertForMaskedLM from the checkpoint of a model that you expect to be exactly identical (initializing a BertForSequenceClassification model from a BertForSequenceClassification model).\n"
     ]
    }
   ],
   "execution_count": 2
  },
  {
   "metadata": {
    "ExecuteTime": {
     "end_time": "2024-04-03T12:26:33.268820Z",
     "start_time": "2024-04-03T12:26:31.775241Z"
    }
   },
   "cell_type": "code",
   "source": [
    "from transformers import AutoTokenizer, AutoModel\n",
    "\n",
    "tokenizer = AutoTokenizer.from_pretrained(\"fav-kky/FERNET-C5\")\n",
    "model = AutoModel.from_pretrained(\"fav-kky/FERNET-C5\")"
   ],
   "id": "108c685dc4168b07",
   "outputs": [],
   "execution_count": 2
  },
  {
   "metadata": {
    "ExecuteTime": {
     "end_time": "2024-04-03T12:24:20.950220Z",
     "start_time": "2024-04-03T12:24:20.903108Z"
    }
   },
   "cell_type": "code",
   "source": [
    "path = \"../data/rawtexts/\"\n",
    "filenames = os.listdir(path)\n",
    "len(filenames)"
   ],
   "id": "686402854f4e9018",
   "outputs": [
    {
     "data": {
      "text/plain": [
       "11615"
      ]
     },
     "execution_count": 3,
     "metadata": {},
     "output_type": "execute_result"
    }
   ],
   "execution_count": 3
  },
  {
   "metadata": {
    "ExecuteTime": {
     "end_time": "2024-04-03T12:13:59.112216Z",
     "start_time": "2024-04-03T12:13:59.108195Z"
    }
   },
   "cell_type": "code",
   "source": [
    "target = \"bezpečí\"\n",
    "output_dir = \"../data/rawsentences_bezpeci/\"\n",
    "try:\n",
    "    os.mkdir(output_dir)\n",
    "except:\n",
    "    pass\n",
    "def get_concordances(filename, target, output_dir):\n",
    "    try:\n",
    "        with open(path + filename) as f:\n",
    "            text = f.read()\n",
    "        text = re.sub(\"\\[pageend\\d+\\]\", \" \", text)\n",
    "        #tokens = nltk.word_tokenize(text)\n",
    "        matches = re.findall(r'[^\\.]*?\\b{}\\b[^\\.]*\\.'.format(target), text, re.IGNORECASE)\n",
    "        if len(matches) > 0:\n",
    "            matches = [match + '\\n' for match in matches]\n",
    "            pathfn = output_dir + filename\n",
    "            with open(pathfn, 'w') as f:\n",
    "                f.writelines(matches)\n",
    "            return len(matches)\n",
    "        else:\n",
    "            return 0\n",
    "    except:\n",
    "        return 0"
   ],
   "id": "ca56f2f42f53165e",
   "outputs": [],
   "execution_count": 8
  },
  {
   "metadata": {
    "ExecuteTime": {
     "start_time": "2024-04-03T12:14:03.548985Z"
    }
   },
   "cell_type": "code",
   "source": [
    "for filename in filenames:\n",
    "    get_concordances(filename=filename, target = \"bezpečí\", output_dir = \"../data/rawsentences_bezpeci/\")"
   ],
   "id": "25b3a649b5c9a0f",
   "outputs": [],
   "execution_count": null
  },
  {
   "metadata": {
    "ExecuteTime": {
     "end_time": "2024-04-03T14:56:57.743492Z",
     "start_time": "2024-04-03T14:56:57.597849Z"
    }
   },
   "cell_type": "code",
   "source": [
    "input_path = \"../data/rawsentences_bezpeci/\"\n",
    "output_path = \"../data/processedtexts_bezpeci/\"\n",
    "try:\n",
    "    os.mkdir(output_path)\n",
    "except:\n",
    "    pass\n",
    "all_sentences = []\n",
    "for filename in os.listdir(input_path):\n",
    "    with open(input_path + filename) as f:\n",
    "        sentences = f.readlines()\n",
    "    all_sentences.extend(sentences)\n",
    "    #processed_sentences = []\n",
    "    #for sentence in sentences:\n",
    "    #    sentence = sentence.strip()\n",
    "    #    processed_sentence = pipe(sentence)[0]['sequence']\n",
    "    #    processed_sentences.append(processed_sentence)\n",
    "    #with open(output_path + filename, 'w') as f:\n",
    "    #    f.writelines(processed_sentences)\n"
   ],
   "id": "ea8c08dec6c503fc",
   "outputs": [],
   "execution_count": 72
  },
  {
   "metadata": {
    "ExecuteTime": {
     "end_time": "2024-04-03T14:56:58.748716Z",
     "start_time": "2024-04-03T14:56:58.743574Z"
    }
   },
   "cell_type": "code",
   "source": "len(all_sentences)",
   "id": "2aeb16b23a51a6be",
   "outputs": [
    {
     "data": {
      "text/plain": [
       "2757"
      ]
     },
     "execution_count": 73,
     "metadata": {},
     "output_type": "execute_result"
    }
   ],
   "execution_count": 73
  },
  {
   "metadata": {
    "jupyter": {
     "is_executing": true
    },
    "ExecuteTime": {
     "start_time": "2024-04-03T15:39:23.633375Z"
    }
   },
   "cell_type": "code",
   "source": [
    "%%time\n",
    "target = r\"\\bbezpečím?\"\n",
    "data = []\n",
    "\n",
    "sentences = all_sentences\n",
    "\n",
    "for sent in sentences:\n",
    "    inputs = tokenizer(sent, return_tensors='pt', padding=True, truncation=True, max_length=512)\n",
    "    # Convert input_ids to actual tokens\n",
    "    sentence_data = {\"sentence\" : sent}\n",
    "    sentence_data[\"sentence_tokens\"] = tokenizer.convert_ids_to_tokens(inputs['input_ids'][0])\n",
    "    sentence_data[\"token_ids\"] = inputs['input_ids'][0].tolist()\n",
    "    with torch.no_grad():\n",
    "        outputs = model(**inputs)\n",
    "        sentence_data[\"sentence_embeddings\"] = outputs.last_hidden_state.mean(dim=1)\n",
    "        sentence_data[\"sentence_token_embeddings\"] = outputs.last_hidden_state[0].numpy()\n",
    "    # embedding for a target term\n",
    "    for idx, token in enumerate(sentence_data[\"sentence_tokens\"]):\n",
    "        if re.search(target, token, re.IGNORECASE):\n",
    "            sentence_data[\"target_embedding\"] = sentence_data[\"sentence_token_embeddings\"][idx]\n",
    "            data.append(sentence_data)"
   ],
   "id": "da5c30c80c7bfc2a",
   "outputs": [],
   "execution_count": null
  },
  {
   "metadata": {
    "ExecuteTime": {
     "end_time": "2024-04-03T15:12:06.309108Z",
     "start_time": "2024-04-03T15:12:06.306430Z"
    }
   },
   "cell_type": "code",
   "source": [
    "target_vectors = [d[\"target_embedding\"] for d in data]\n",
    "sentences = [d[\"sentence\"] for d in data]"
   ],
   "id": "ac66f13807b01420",
   "outputs": [],
   "execution_count": 97
  },
  {
   "metadata": {
    "ExecuteTime": {
     "end_time": "2024-04-03T15:12:07.540320Z",
     "start_time": "2024-04-03T15:12:07.534868Z"
    }
   },
   "cell_type": "code",
   "source": [
    "target_embeddings = np.vstack(target_vectors)\n",
    "cosine_sim_matrix = pd.DataFrame(cosine_similarity(target_embeddings), index=sentences, columns=sentences)"
   ],
   "id": "934add198955f03c",
   "outputs": [],
   "execution_count": 98
  },
  {
   "metadata": {
    "ExecuteTime": {
     "end_time": "2024-04-03T15:13:12.200012Z",
     "start_time": "2024-04-03T15:13:12.193064Z"
    }
   },
   "cell_type": "code",
   "source": "cosine_sim_matrix.iloc[8].sort_values(ascending=False)",
   "id": "e3a993d9bc23c01",
   "outputs": [
    {
     "data": {
      "text/plain": [
       " Buďme však realističtí: lidé usilují o mír pro své domovy a o bezpečí; baží po slávě a po potlesku; snaží se získat moc a vliv; hledají přátelství a lásku.\\n                                                                                                                                                                                                                                                                1.000000\n",
       " Protože nikdo nemůže vyprodukovat všechno, co požaduje, podporuje dosažení všech těchto cílů směna, a právě tak působí i shromažďování majetku, skýtající bezpečí a přinášející moc.\\n                                                                                                                                                                                                                                       0.673763\n",
       " Je příznakem dnešní doby zmatku, že se ideologie a oceňování vlastních zájmů mění rychleji, nez kdy jindy a že zahraniční politika většiny států postrádá kontinuity, jež jediná může dáti světu klid a bezpečí.\\n                                                                                                                                                                                                           0.643433\n",
       " Navzdor ušili některých účastníků konference, kteří se ještě nevzdali starých omylů a chyb, a kteří vlastně byli odpůrci mocné orga- nisace, která by střežila bezpečí a mír mezi národy, charta Spojených národů dává základ mezinárodní organisaci opravdu nového typu.\\n                                                                                                                                                  0.633720\n",
       " A jako ošklivý šprým zní přípitek presidenta Roosevelta, muže, který to tak upřímné myslil: \"Abychom dali _<aždému muži, každé ženě a každému dítěti na světě možnost bezpečí a blahobytu.\\n                                                                                                                                                                                                                                 0.619876\n",
       "                                                                                                                                                                                                                                                                                                                                                                                                                                ...   \n",
       " Moře je zrádné, loď se houpe, jednou je dole, jednou nahoře, fouká pokaždé odjinud, a tak by bylo nejlepší napnout všechny síly, chytit plachty i vesla a plnou parou spěchat někam do bezpečí.\\n                                                                                                                                                                                                                            0.349641\n",
       " Od té chvíle nesmírně narostlo ne- bezpečí zahraniční intervence.\\n                                                                                                                                                                                                                                                                                                                                                          0.338240\n",
       " Čelme ne- bezpečí nervových šoků, které hrozí v naší skuteč- nosti každodenně všem, co nepatří k «blahosla- veným ».\\n                                                                                                                                                                                                                                                                                                       0.317830\n",
       " P o n ě v a d ž b y b y l o v e l m i n e b e z p e č n é c t i h o d n é m u bratru O n d ř e j i , p r a ž s k é m u b i s k u p o v i , k v ů l i králi a č e s k ý m v e l m o ž ů m v é s t s v o u při na p o d e z ř e l é m místě, sluší se, abys ty, j e h o ž rozvážnosti j s m e svěřili bezpečí j e h o o s o b y , n e j e n za nás, ale i za sebe a za t é h o ž b i s k u p a vše nutné pečlivě zařídil.\\n    0.114532\n",
       "Já však V i n c e n c , v i d a to neštěstí, z p ě č o v a l j s e m se v r h n o u t d o t a k o v é h o nebezpečí a r o z m ý š l e j e co b y c h m ě l za t a k o v é situace činit a přihlížeje v í c e k s v é m u bezpečí než k o d v a z e , připojil j s e m se se s l u ž e b n i c t v e m m ý c h s p o - lečníků k P a v i j s k ý m .\\n                                                                         0.079357\n",
       "Name:  Buďme však realističtí: lidé usilují o mír pro své domovy a o bezpečí; baží po slávě a po potlesku; snaží se získat moc a vliv; hledají přátelství a lásku.\\n, Length: 98, dtype: float32"
      ]
     },
     "execution_count": 102,
     "metadata": {},
     "output_type": "execute_result"
    }
   ],
   "execution_count": 102
  },
  {
   "metadata": {
    "ExecuteTime": {
     "end_time": "2024-04-03T15:19:53.143622Z",
     "start_time": "2024-04-03T15:19:51.644243Z"
    }
   },
   "cell_type": "code",
   "source": [
    "tsne = TSNE(n_components=3)\n",
    "embeddings_tsne = tsne.fit_transform(np.vstack(target_vectors))"
   ],
   "id": "af301f334a9574e1",
   "outputs": [
    {
     "name": "stderr",
     "output_type": "stream",
     "text": [
      "huggingface/tokenizers: The current process just got forked, after parallelism has already been used. Disabling parallelism to avoid deadlocks...\n",
      "To disable this warning, you can either:\n",
      "\t- Avoid using `tokenizers` before the fork if possible\n",
      "\t- Explicitly set the environment variable TOKENIZERS_PARALLELISM=(true | false)\n"
     ]
    }
   ],
   "execution_count": 106
  },
  {
   "metadata": {
    "ExecuteTime": {
     "end_time": "2024-04-03T15:28:31.041730Z",
     "start_time": "2024-04-03T15:28:31.036777Z"
    }
   },
   "cell_type": "code",
   "source": [
    "xs = embeddings_tsne[:, 0]\n",
    "ys = embeddings_tsne[:, 1]\n",
    "zs = embeddings_tsne[:, 2]\n",
    "\n",
    "hover_text = sentences"
   ],
   "id": "860fb41d877cc555",
   "outputs": [],
   "execution_count": 111
  },
  {
   "metadata": {
    "ExecuteTime": {
     "end_time": "2024-04-03T15:35:37.861476Z",
     "start_time": "2024-04-03T15:35:37.843630Z"
    }
   },
   "cell_type": "code",
   "source": [
    "title = \"Sentences with 'bezpečí' (N={})\".format(len(sentences))\n",
    "fig = go.Figure(data=go.Scatter3d(\n",
    "    x=xs,\n",
    "    y=ys,\n",
    "    z=zs,\n",
    "    mode='markers',\n",
    "    marker=dict(\n",
    "        size=5,\n",
    "        color='purple',\n",
    "        opacity=0.3\n",
    "    ),\n",
    "    text=hover_text,  # use mapped hover text\n",
    "    hoverinfo='text',  # ensure only the text field is displayed on hover\n",
    "))\n",
    "\n",
    "fig.update_layout(\n",
    "    title=title,\n",
    "    scene=dict(\n",
    "        xaxis=dict(title='X Axis', showgrid=False, showline=False, zeroline=False),\n",
    "        yaxis=dict(title='Y Axis', showgrid=False, showline=False, zeroline=False),\n",
    "        zaxis=dict(title='Z Axis', showgrid=False, showline=False, zeroline=False)\n",
    "    )\n",
    ")"
   ],
   "id": "c22f30d289b7794a",
   "outputs": [
    {
     "data": {
      "application/vnd.plotly.v1+json": {
       "data": [
        {
         "hoverinfo": "text",
         "marker": {
          "color": "purple",
          "opacity": 0.3,
          "size": 5
         },
         "mode": "markers",
         "text": [
          " Když se kněží modlí, jak je to jejich povinností, a podávají obět za 3vůj lid a za celý lid Boží, vyznávajíce to, co ěělají, a prožívajíce to, čím se zabývají, pak apoštolská činnost, jejl ne-  - 7 - bezpečí a obtíže jim nejsou překážkou, ale spíš je povznáSejí k dokonalejší svatosti, takže plnost vnitřního života oživuje a pod- něcuje jejich činnost k oslavě celé Boží církve.\n",
          " ? • Znáte výhody „třetího sloupce jistoty\"? • Chtěli byste vědět, co je bezpodmínečně nutné a co méně nutné v otázkách pojištováníse? • Vyřizujeme náhrady škod z pojištoven ve Švýcarsku, Německu, Československu • Platíte velké daně? Švýcarské bankovnictví a pojišťovnictví skýtá nejvyšší možnou záruku solidnosti a bezpečí.\n",
          " Moře je zrádné, loď se houpe, jednou je dole, jednou nahoře, fouká pokaždé odjinud, a tak by bylo nejlepší napnout všechny síly, chytit plachty i vesla a plnou parou spěchat někam do bezpečí.\n",
          "\" Na jedné straně Patrick White, jehož ústy mluví milióny, zanícené pro mír, na druhé Sacharov a Solženicyn; na jedné straně člověk, který se z pohodlného bezpečí demokratického zátiší domnívá, že zná rub mince, na druhé lidé, kteří jej znají opravdu, protože jím byli krůtě postiženi.\n",
          " Ale víc bychom uvítali, kdyby Chruščov konečně už přišel s nějakým návrhem na spolupráci, která by zajistila bezpečí stamilionů, které chodí po zemi.\n",
          " O b e c , j í ž h r o z í zkáza, cítí se v bezpečí.\n",
          "Já však V i n c e n c , v i d a to neštěstí, z p ě č o v a l j s e m se v r h n o u t d o t a k o v é h o nebezpečí a r o z m ý š l e j e co b y c h m ě l za t a k o v é situace činit a přihlížeje v í c e k s v é m u bezpečí než k o d v a z e , připojil j s e m se se s l u ž e b n i c t v e m m ý c h s p o - lečníků k P a v i j s k ý m .\n",
          " P o n ě v a d ž b y b y l o v e l m i n e b e z p e č n é c t i h o d n é m u bratru O n d ř e j i , p r a ž s k é m u b i s k u p o v i , k v ů l i králi a č e s k ý m v e l m o ž ů m v é s t s v o u při na p o d e z ř e l é m místě, sluší se, abys ty, j e h o ž rozvážnosti j s m e svěřili bezpečí j e h o o s o b y , n e j e n za nás, ale i za sebe a za t é h o ž b i s k u p a vše nutné pečlivě zařídil.\n",
          " Buďme však realističtí: lidé usilují o mír pro své domovy a o bezpečí; baží po slávě a po potlesku; snaží se získat moc a vliv; hledají přátelství a lásku.\n",
          " Protože nikdo nemůže vyprodukovat všechno, co požaduje, podporuje dosažení všech těchto cílů směna, a právě tak působí i shromažďování majetku, skýtající bezpečí a přinášející moc.\n",
          " Jelikož všakj bratislavský klub jako pořadatel utkání nemohl zaručit bezpečí členky družstva DSC Duisburg - Kaiserberg, bývalé čs.\n",
          " Švýcarské, bankovnictví a pojištovnictví skýtá nejvyšší možnou záruku solidnosti a bezpečí.\n",
          " Spolu s přijetím pozvání na konferenci Čtyř, má sovětské snaženi pravděpodobně vytčeno za úkol ukolébáni světa do falešného pocitu bezpečí a získání zajištěného zátiší k zažití spolknutých obětí.\n",
          " A jako ošklivý šprým zní přípitek presidenta Roosevelta, muže, který to tak upřímné myslil: \"Abychom dali _<aždému muži, každé ženě a každému dítěti na světě možnost bezpečí a blahobytu.\n",
          " Navzdor ušili některých účastníků konference, kteří se ještě nevzdali starých omylů a chyb, a kteří vlastně byli odpůrci mocné orga- nisace, která by střežila bezpečí a mír mezi národy, charta Spojených národů dává základ mezinárodní organisaci opravdu nového typu.\n",
          " Švýcarské, bankovnictví a pojišťovnictví skýtá nejvyšší možnou záruku solidnosti a bezpečí.\n",
          " Hebyl to kapitál, to ne, ale byla to pojistka pro všechny případy, Ü védomí tohoto finanžního bezpečí jsem pookřál a rozkvetl ténéř jako Viktoria královská.\n",
          " Švýcarské, bankovnictví a pojištovnlctví skýtá nejvyšší možnou záruku solidnosti a bezpečí.\n",
          " Švýcarské, bankovnictví a pojištovnictví skýtá nejvyšší možnou záruku solidnosti a bezpečí.\n",
          " 36  ________________ _ zpravodaj 10/98______________________ V těchto končinách je auto vzácným zjevem a jejich poháněči, ať děti, či dospělí, nechávají osly jejich osudu a běží se před námi schovat daleko do bezpečí.\n",
          "? * Znáte výhody \"třetího sloupce jistoty\"? * Chtěli byste vědět, co je bezpodmínečně nutné a co méně nutné v otázkách pojištění? * Vyřizujeme náhrady škod z pojišťoven ve CH, SRN, ČSFR * Platíte velké daně? Švýcarské bankovnictví a pojišťovnictví skýtá nejvyšší možnou záruku solidnosti a bezpečí.\n",
          " Kde mám pocit bezpečí.\n",
          " Svět, v němž se pohybují, nečpí živočišnou člověčinou, je ojíněn nostalgií vize o hřejivém lidském soužití a touhou po spočinutí v citovém bezpečí.\n",
          " Ne- mohou:trvale spočinout v teplém bezpečí opravdové, bezvýhradné lásky, neboVčlověk je nahlodán ‘povrchností a^zmarem^ a střeží jen své so- becké;zájmy.\n",
          " 66  5 Ve sbírce Vítr v síti však toto kontrap^unktické prolínání dvojího zření - totiž vědomi ohroženosti a krutosti láský,•Ústící v literatuře do tragických finále, a touha po životním bezpečí, klenoucí nad každým příběhem harmonickou duhu štěstí - není domyšleno do všech wněleckých důsledků.\n",
          "einem, jímž^bylo umožněno velkému poctu oběti komunismu dosáhnout bezpečí a založit si novy domov v naší zemi.\n",
          " Když vzácně př^de taková chvilka tepla a něhy prostě jen lidské, i ta musí být zničena : « Po dlouhé době sc cítila v jeho náruči v bezpečí a začala sladce usínat.\n",
          " Ukazuje se, že navzájem se chápat (přes onu hranici, která z občana, dělá disidenta) je v české společnosti zřejmě stále možné, ale obtížnější je vstoupit do smysluplné komunikace, když jeden nasazuje čin a druhý by byl nanejvýš ochoten v soukromí a v bezpečí nasadit slovo.\n",
          " Je jim přirozeným ontickým živlem, v němž se ke stále větší dokonalosti rozvíjí nadání vycítit v každém jsoucnu puls univerzálního života, spatřovat hrající si dítě času v bezpečí náruče věčnosti, nalézat smysluplnost lidské existence ve světě chráněnu zárukou přítomnosti Boha.\n",
          " Toto hledání mnohým připomíná počínání toho, kdo opustil bezpečí rodné zátoky pozemské konečnosti a vydal se sám na malé lodi všanc neznámému oceánu.\n",
          " je v bezpečí své záštity.\n",
          " Platíte vysoké daně? Švýcarské bankovnictví a pojištovnictví skýtá nejvyšší možnou záruku solidnosti a bezpečí.\n",
          " Úvodem se pochlubilo, že v prvním pololetí to- hoto roku \"zneškodnil na příklad jenom jeden útvar bezpečnostních or- gánů ministerstva vnit- ra 22 zahraničních agen- tů, a po tomto holdu vzorným plničúm plá- nu se rozepsalo, o ne- bezpečí, které se tají pod turistickou družbou ze Západu, Špionážní centra prý \"rozmisť ují\" do řad poctivých zahraničních turistů své agenty, po- užívajíce při tom často služeb krajanu, \"nara- zených\" jednotlivě do skupin mnoha čestných Čechů a Slováků ze za- hraničí.\n",
          " A to jsem si myslel, když jsem opustil rodnou hroudu, že jsem ve Dvoře na národním výboře zanechal v bezpečí šedou knížku vojenskou, i tu červenou knížku plnou obscenit: Foto vyděšené tváře jinocha u zdi, otisk palce primáta mužského pohlaví, 183 cm dlouhého, vlasů kaštanových, očí hnědých, pobývajícího na trvalé adrese níže označené, zasluhujícího si jídlo prací stvrzenou razítkem a připraveného k obraně vlasti v řadách útvaru jména tajného.\n",
          " Zpěv ptactva občas sice rušily rány a výstřely zátek z lahvi šampaňského, byl to ale krásný bílý den a zakončili jsine ho až  v noci jen v bezpečí a pohodlí seníku na mýtině pod hvězdnou oblohou.\n",
          " Dostal se v bezpečí do Londýna, kde se ihned účastnil druhého odboje, vedeného presidentem Benešem.\n",
          " To by jistě byla pravda - pokud by se program SDI měl stát východiskem jen pro novou zkostnatělou doktrínu vojenského myšlení, která by dávala stejně falešný pocit bezpečí (a ochromovala další vývoj prostředků obrany), jako tomu bylo u „nukleárního deštníku“.\n",
          " Švýcarské, bankovnictví a pojištovnictví skýtá nejvyšší možnou záruku solidnosti a bezpečí.\n",
          "skutečně docházelo k dosídlování dnešního pohraničí, jenomže to byli Němci, kteří zde hledali práci, demokracii a bezpečí.\n",
          "se'1c|ára||P^ nezískávají přesto naprosté bezpečí: čím víc má stáďď|jIaY,-\"’tín?dřfv spátřL - dravce, anebo taky ne, jestliže se každý jednotlivéc špbléhá na^pozomosl druhého, takže nedává pozor nikdo.\n",
          " stejně mu padne za kořist ten nejslabší a nejpomalejší jedinec ze stáda, Takže z toho je vidět, že stádo či stát neposkytuje skutečné bczpcčí,alu;jca jakousi iluzi bezpečí.\n",
          " Skupina opiátů - drog jako heroin nebo morfium vyvolává všeobecně euforický pocit bezpečí.\n",
          " Ve vratkém bezpečí našich stanů jsme naslouchali, jak medvědi po setmění tiše chodí po břehu řeky, Mike se jednou ráno vzbudil a hleděl do tváře mladé medvědici, která nahlížela do stanu.\n",
          "  Osmá strana nár o dní po l it ik a Červen 1992 Čtyř-až šestinásobné zvětšení kapitálu! Zamýšlíte podnikat? Chcete si za nízkých úrokových sazeb peníze půjčit a na vysoké je ukládat? Švýcarské bankovnictví a pojišlovnictví skýtá nejvyšši možnou záruku solidnosti a bezpečí.\n",
          " Čelme ne- bezpečí nervových šoků, které hrozí v naší skuteč- nosti každodenně všem, co nepatří k «blahosla- veným ».\n",
          " Tehdy za ním přijela z Anglie na Strž ve vojenském jee- pu dcera Thomase Manna, Erika, a chtěla ho dopravit do bezpečí.\n",
          " Trvalo dlouho, než vylezl ty dva žebříky, ale pořád ještě byl v bezpečí, v krytu posledního odpočívadla, na němž před chvílí stáli.\n",
          " Jeli dosud ve vaší moci, pokuste se dopravil je do bezpečí, cv.\n",
          " Já ale otázku trochu pootočím: nehumanizujeme „systém \" vlastně tím, že si uvě- domujeme lidskou potřebu „vyššího principu\", abych tak řekla, a snažíme se podle něj žít bez ohledu na možnosti a přání systému? Když se mluví o blahu člověka v politice, a to nejen u nás, myslí se tím blaho, které je možné si koupit nebo které může člověk dostat od státu v podobě sociálního bezpečí.\n",
          " Na stát sociálního blahobytu si však nedají sáhnout, když se začne navyklost na sociální bezpečí otřásat, dají hlasy opět Palmemu.\n",
          " Nebylo by lepší chvíli spát? Vím, že jsem v takovém bezpečí, jako ještě nikdy, jen ten nevyřešený problém mě ruší.\n",
          " ♦ Platíte vysoké daně? Švýcarské bankovnictví a pojišťovnictví skýtá nejvyšší možnou záruku solidnosti a bezpečí.\n",
          " Švýcarské, bankovnictví a pojištovnictví skýtá nejvyšší možnou záruku solidnosti a bezpečí.\n",
          " Švýcarské, bankovnictví a pojišťovnictví skýtá nejvyšší možnou záruku solidnosti a bezpečí.\n",
          " Dítě, které prožívá pocit bezpečí, se naučí důvěřovat.\n",
          " 40  * * * V tichém vanutí jara jakmile vítr hladí křehké listy když raší malý mladý život tušíme cosi co v hlubině jásá a zaručuje nekonečné bezpečí Boha, jenž je mladší než všechno mladé Boha věčné jaro a věčné mládí.\n",
          "» Jednou z provincií Mexika je Chia- pas, tam žijí Indiáni, a ti jsou ve sporu s ústřední vládou, která tam vidí ne- bezpečí komunismu, a tamní biskup mons.\n",
          " Pocítím lehký závan pohody, bezpečí, útulna.\n",
          " Takový rokokový lantkrabě se cítil v bezpečí; nemusel svého předchůdce zavraždit, nastoupil dědičně; měl věrné poddané, jeho granátníci stáli před zámkem pro parádu, ne proto, že by čekal vrahy; on měl pokdy na pomilování.\n",
          " Naplňuje mě neobyčejným pocitem; bezpečí, slibuje-li mi bezpečnost někdo, kdo si není jist bezpečností vlastní.\n",
          " Švýcarské bankovnictví a pojišťovnictví skýtá nejvyšší možnou záruku solidnosti a bezpečí.\n",
          " Graf Spee, poškozen, dorazil do bezpečí neutrálního přístavu, kde však mezinárodní pravidla mu dovolovala setrvat jen krátký čas.\n",
          "\" Mimo jiné pravil: “Nejzákladnějšími právy občanů Velké Británie jsou práva na bezpečí před zatčením a vězněním bez rozsudku soudu, na svobodu přesvědčení a náboženství, svobodu projevu, spolčování a tisku, na svrchovanost lidu a platnost zákonů.\n",
          " Trval na tom, že demokracie v Československu je v bezpečí a že není kontrolována či ovládána v žádném smyslu Ruskem.\n",
          " Jdeš živo- tem a neznáš propasti, ne- bezpečí, co tě ohrožuje, která cesta je bezpečná a která je nebezpečná? Máš jistotu, že ne- padneš do propasti bez- naděje a zoufalství? 00 ŘÍKAJÍ NAIVNÍ LÍDĚ? \"žijeme jen jednou.\n",
          "1950 všichni poběží mne vyslechnout Na tomto rozvětvení To nejkrásnější co znám je závre? A každého 25 května ке konci odpoledne starý Ęelescluze V masce srpne míří к Ohsteau-DzLau Seklo by se Že mlátí kadrami zrcadla do stínu Stále Hle padají znovu křídla patrici nespoleh-ivci Náhle klenba v celé své hrůze Vyleštěné slovo rzivé a slepice ncv-hlé Kdo hryže křešou varhan z Barbarie Není příliš brzo když se začíná uchylovat do bezpečí Forczu-Ht ž- i éniz Je ucělán z eíemér Jedni z že bi svých myšlenek které mne inspirovaly nejvíc ze soucitu Je to key ž se verí že je možné praštit stížností cos ns chr oni srnu • Jako po.\n",
          " Odpovědnosti, jíž nás násilné odnaučovali, ale jíž j oco so také často kvůli svému zdánlivému pohodlí a bezpečí vzdali.\n",
          " Život s chůvou byl střízlivý a nezáživný, skýtal ovšem bezpečí a pohodlí a Dora, odjaktěživa trochu líná, mu po čase začala přivykat.\n",
          " Znamená bezpečí, jistotu.\n",
          " „Nemyslím, že by hledala bezpečí právě touhle cestou.\n",
          " Švýcarské bankovnictví a pojišťovnictví skýtá nejvyšší možnou záruku solidnosti a bezpečí.\n",
          "Boj a konflikty nepřestanou,neexistují opravdová bezpečí, útěcha,hranice naší existence je příliš klau- strofobická.\n",
          " Lenin napsal odpověď anglicky přímo na telegrafní blanket: Pověst nepravdivá - bývalý car je v bezpečí - všechny pověsti jsou pouze lži kapitalistického tisku (14).\n",
          " ♦ Platíte vysoké daně? Švýcarské bankovnictví a pojišťovnictví skýtá nejvyšší možnou záruku solidnosti a bezpečí.\n",
          " ’ „Copak se temelínští necítí v bezpečí?“ zeptal jsem se.\n",
          " To si uvědomil pisatel těchto vzpomínek, když seděl v pokoji, upraveném prý tak, aby jeho obyvatelé byli v bezpečí.\n",
          " Bavorsko je vítáno, ale 'není podmínkou' „28 Čtyř- až šestinásobné zvětšení kapitálu! Zamýšlíte podnikat? Chcete si za nízkých úrokových sazeb peníze půjčit a na vysoké je ukládat? Švýcarské bankovnictví a pojišťovnictví skýtá nejvyšší možnou záruku solidnosti a bezpečí.\n",
          " \"NEBE\" V životě každého člověka existují okamžiky vnitřního štěstí: prožitky harmonie, bezpečí, svobody, poznání, jistoty, síly, pokoje, radosti, lásky atd.\n",
          " Myslím, že aspoň v naší do- bě mají smysl jen ty národy, které usilují o demokracii a vše, co je s ní ideálně spojené: o svobodu ducha, bezpečí těla, slušnost atd.\n",
          " kde lidi obklopuje bezpečí a hmotný blahobyt, je jen prvním znamením stísněnosti, která se všude vzdouvá.\n",
          " Tyto kontakty s obhájci lidských práv však znamenaly pro Scheura ohrožení jeho vlastního bezpečí.\n",
          " Všichni doufali, že po dobách kdy nebylo domova, bude jednota v bezpečí.\n",
          " Od té chvíle nesmírně narostlo ne- bezpečí zahraniční intervence.\n",
          "? * Znáte výhody \"třetího sloupce jistoty\"? * Chtěli byste vědět, co je bezpodmínečně nutné a co méně nutné v otázkách pojištění? * Vyřizujeme náhrady škod z pojišťoven ve CH, SRN, ČSFR * Platíte velké daně? Švýcarské bankovnictví a pojišťovnictví skýtá nejvyšší možnou záruku solidnosti a bezpečí.\n",
          " Ty budeš zatím doma v bezpečí.\n",
          " Uvnitř - zaostření na úsilí získat co možná největší pohodlí dosažitelné za daných podmínek, jako jedinou hmatatelnou míru bezpečí.\n",
          " Proto myslím, že nyní je náš dédy hezky daleko od Chicaga v bezpečí.\n",
          " Slabší, jmenovitě ženské, začali naříkat a volat na řidiče, aby je rychle vyvezl do bezpečí.\n",
          " Praví se, že je o bezpečí oné osoby postaráno mimo jiné tím, že byla vypravena v průvodu ochránců aeroplánem na pacifické pobřeží a nyní jest bezpochyby již na oceánu, na cestě do některého asijského přístavu, tedy daleko z dosahu rukou oněch členů gangu Ccsmano-Scarfagliova ,kteří při debaklu bandy zůstali ještě na svobodě.\n",
          " V situaci ochuzení a otřesu, bez příjem- ného a užitečného bezpečí, jaké skýtají univerzitní instituce, možná právě zde, kde se filosofie nedělá zároveň s kariérou, začíná se chápat, že filosofie je základní.\n",
          " Vytoužené zátiší, obal nás měkkostí bezpečí, pocitem, který jsme ztratili s bezelstností dětství.\n",
          " A kdyby to tenkrát bývalo Untungovým marxistickým pučistům vyšlo, komunismus by ted z indonéského Západního Iriánu /Nová Guinea/ znovu sahal na krk e- xulantům, kteří před ním utekli do toho nejbezpečnějšího bezpečí.\n",
          " A opět, na tak vratkých základech, na existenci kliky generálů, kteří kdysi náhodou přežili komunistický puč, závisí zčásti bezpečí \"útulku před komunismem\" na druhém konci světa.\n",
          " Ale ovšem, Timor není jedinou představitelnou hrozbou tomuto fiktivnímu bezpečí.\n",
          " Malá změna v politickém nazírání vůdců Rudé Cíny, jejíž sblížení s ideologickými bratranci v Sovětském Svazu se nedá na věky vyloučit, a kde je bezpečí australského kontinentu? Čím dříve si exulant uvědomí, že pro politického živočicha není úniku, tím větší naděje na ozdravění jeho myšlení.\n",
          " Prostě a jednoduše: hledáme bezpečí, které není z tohoto světa.\n",
          " V Moskvě jsou lidé s dobrou pamětí a ti se pamatují, co psala \"Pravda\" v roce 1968 o pronikáni západoněmeckého kapitálu do Československa: \"Ted nám hrozí stejné ne- bezpečí\", říkají.\n",
          " Je příznakem dnešní doby zmatku, že se ideologie a oceňování vlastních zájmů mění rychleji, nez kdy jindy a že zahraniční politika většiny států postrádá kontinuity, jež jediná může dáti světu klid a bezpečí.\n"
         ],
         "x": [
          88.36247253417969,
          -13.582488059997559,
          60.60203552246094,
          -64.58370208740234,
          72.8927230834961,
          85.367919921875,
          42.070064544677734,
          -23.230985641479492,
          -37.68642044067383,
          371.57391357421875,
          113.51280212402344,
          40.89397430419922,
          -77.60995483398438,
          51.810245513916016,
          85.30741882324219,
          23.137775421142578,
          -14.207473754882812,
          -46.61916732788086,
          40.89397430419922,
          83.95616912841797,
          34.659793853759766,
          -8.274099349975586,
          -64.79187774658203,
          -40.730350494384766,
          -32.934879302978516,
          -43.1595458984375,
          -113.88874816894531,
          101.82789611816406,
          -2.7508811950683594,
          15.557881355285645,
          46.39435958862305,
          -90.27439880371094,
          -49.49251174926758,
          -3.408531904220581,
          106.12371063232422,
          16.438875198364258,
          -57.33989715576172,
          40.89397430419922,
          27.73299789428711,
          -83.7183837890625,
          128.65635681152344,
          -132.9355010986328,
          -10.116739273071289,
          71.30381774902344,
          -64.48939514160156,
          15.617987632751465,
          48.745182037353516,
          -5.237812042236328,
          79.90776824951172,
          -98.17121887207031,
          -14.723222732543945,
          8.537949562072754,
          40.89397430419922,
          23.137775421142578,
          27.0269832611084,
          -90.72630310058594,
          56.358985900878906,
          -4.851571559906006,
          86.99039459228516,
          -107.2749252319336,
          -121.65302276611328,
          46.57424545288086,
          -65.12242126464844,
          102.2257308959961,
          -61.76655197143555,
          -58.66455078125,
          -12.93920612335205,
          -44.157012939453125,
          64.1735610961914,
          -13.338454246520996,
          -53.14691162109375,
          -94.11312866210938,
          43.922908782958984,
          8.537949562072754,
          32.58732986450195,
          -110.24771118164062,
          54.42170333862305,
          51.53731155395508,
          -97.62216186523438,
          -26.818424224853516,
          -35.630615234375,
          21.28281021118164,
          -90.27141571044922,
          34.659793853759766,
          62.622352600097656,
          29.157094955444336,
          89.39485168457031,
          66.49090576171875,
          -22.85822105407715,
          -5.663684844970703,
          8.685032844543457,
          -45.79844665527344,
          -48.842529296875,
          -8.126264572143555,
          -20.444128036499023,
          -3.7032787799835205,
          33.54703903198242,
          -69.00064849853516
         ],
         "y": [
          9.735064506530762,
          -44.45650100708008,
          21.71430015563965,
          10.372354507446289,
          51.27134323120117,
          -13.27181625366211,
          57.57066345214844,
          -125.94432830810547,
          -91.84510040283203,
          52.857261657714844,
          36.541053771972656,
          18.279733657836914,
          43.03461837768555,
          -102.06298065185547,
          -87.0092544555664,
          61.312164306640625,
          31.558935165405273,
          -9.857099533081055,
          18.279733657836914,
          -5.994024753570557,
          81.93724822998047,
          -120.52531433105469,
          -27.656221389770508,
          -29.54425621032715,
          -11.225303649902344,
          85.02654266357422,
          5.318226337432861,
          28.480363845825195,
          -30.934846878051758,
          -58.966243743896484,
          -48.02944564819336,
          -82.82649230957031,
          -66.84263610839844,
          10.583929061889648,
          -57.366783142089844,
          -19.713056564331055,
          -67.39949035644531,
          18.279733657836914,
          -84.80195617675781,
          -18.399158477783203,
          -13.803776741027832,
          -31.73410415649414,
          -18.04568862915039,
          -8.554875373840332,
          -82.16095733642578,
          -16.233318328857422,
          -40.79314041137695,
          -83.4217758178711,
          -57.60215377807617,
          66.7437973022461,
          56.84463882446289,
          41.20529556274414,
          18.279733657836914,
          61.312164306640625,
          83.46202850341797,
          -90.87191009521484,
          -97.73426818847656,
          -68.43913269042969,
          -42.876895904541016,
          -4.116739273071289,
          -43.782161712646484,
          5.295356750488281,
          19.67789077758789,
          64.21920013427734,
          97.92082214355469,
          45.60255432128906,
          -60.77056884765625,
          -31.489107131958008,
          101.31082916259766,
          74.43807220458984,
          -109.86921691894531,
          86.38765716552734,
          -20.783876419067383,
          41.20529556274414,
          58.904937744140625,
          -44.34738540649414,
          100.02320861816406,
          -99.1717300415039,
          41.54759216308594,
          -32.957359313964844,
          19.349365234375,
          26.050373077392578,
          -33.680789947509766,
          81.93724822998047,
          40.44425964355469,
          -10.213470458984375,
          67.10674285888672,
          -26.9627742767334,
          80.87738800048828,
          8.801826477050781,
          -102.26032257080078,
          37.229522705078125,
          59.17736053466797,
          82.83927917480469,
          19.464744567871094,
          108.10650634765625,
          -71.35580444335938,
          30.044282913208008
         ],
         "z": [
          -113.17189025878906,
          -106.19577026367188,
          -63.974143981933594,
          -48.03099060058594,
          -6.891716957092285,
          0.9678946733474731,
          -101.00875091552734,
          55.989349365234375,
          -79.98162078857422,
          61.3929557800293,
          -23.666149139404297,
          30.36367416381836,
          -16.802043914794922,
          -5.680034637451172,
          -17.200220108032227,
          -35.10531234741211,
          -117.101318359375,
          -94.83280181884766,
          30.36367416381836,
          -53.705135345458984,
          16.6863956451416,
          -23.80803680419922,
          9.273797035217285,
          73.26522064208984,
          112.41876983642578,
          -46.18082809448242,
          -38.777679443359375,
          51.820037841796875,
          76.82768249511719,
          58.170501708984375,
          21.19198226928711,
          16.3189754486084,
          44.96754455566406,
          -42.38229751586914,
          -55.10572814941406,
          -47.934688568115234,
          -24.307777404785156,
          30.36367416381836,
          -38.33931350708008,
          52.0277099609375,
          15.008988380432129,
          47.7476921081543,
          36.91339111328125,
          59.66608428955078,
          74.03533172607422,
          -9.15949821472168,
          -23.38506317138672,
          105.34700775146484,
          76.0397720336914,
          -51.65485763549805,
          104.30970001220703,
          4.825000762939453,
          30.36367416381836,
          -35.10531234741211,
          107.61788177490234,
          -56.41162109375,
          -74.6669692993164,
          12.276580810546875,
          17.294029235839844,
          22.202939987182617,
          -52.1754150390625,
          -31.511062622070312,
          30.86805534362793,
          32.2854118347168,
          57.93730926513672,
          -93.53336334228516,
          -48.124290466308594,
          -48.057456970214844,
          67.53915405273438,
          56.6212043762207,
          1.7675774097442627,
          5.5813212394714355,
          101.75531005859375,
          4.825000762939453,
          68.46959686279297,
          -6.581526279449463,
          -26.580747604370117,
          42.7882194519043,
          49.405296325683594,
          -2.7920098304748535,
          -1.8434892892837524,
          97.21517944335938,
          -94.46485137939453,
          16.6863956451416,
          94.16343688964844,
          -113.51842498779297,
          -57.53406524658203,
          -74.7527084350586,
          -2.7188735008239746,
          -85.16722869873047,
          24.189159393310547,
          -44.1700553894043,
          22.72115135192871,
          -83.2416763305664,
          54.20308303833008,
          61.1265869140625,
          -90.24561309814453,
          88.27037048339844
         ],
         "type": "scatter3d"
        }
       ],
       "layout": {
        "template": {
         "data": {
          "histogram2dcontour": [
           {
            "type": "histogram2dcontour",
            "colorbar": {
             "outlinewidth": 0,
             "ticks": ""
            },
            "colorscale": [
             [
              0.0,
              "#0d0887"
             ],
             [
              0.1111111111111111,
              "#46039f"
             ],
             [
              0.2222222222222222,
              "#7201a8"
             ],
             [
              0.3333333333333333,
              "#9c179e"
             ],
             [
              0.4444444444444444,
              "#bd3786"
             ],
             [
              0.5555555555555556,
              "#d8576b"
             ],
             [
              0.6666666666666666,
              "#ed7953"
             ],
             [
              0.7777777777777778,
              "#fb9f3a"
             ],
             [
              0.8888888888888888,
              "#fdca26"
             ],
             [
              1.0,
              "#f0f921"
             ]
            ]
           }
          ],
          "choropleth": [
           {
            "type": "choropleth",
            "colorbar": {
             "outlinewidth": 0,
             "ticks": ""
            }
           }
          ],
          "histogram2d": [
           {
            "type": "histogram2d",
            "colorbar": {
             "outlinewidth": 0,
             "ticks": ""
            },
            "colorscale": [
             [
              0.0,
              "#0d0887"
             ],
             [
              0.1111111111111111,
              "#46039f"
             ],
             [
              0.2222222222222222,
              "#7201a8"
             ],
             [
              0.3333333333333333,
              "#9c179e"
             ],
             [
              0.4444444444444444,
              "#bd3786"
             ],
             [
              0.5555555555555556,
              "#d8576b"
             ],
             [
              0.6666666666666666,
              "#ed7953"
             ],
             [
              0.7777777777777778,
              "#fb9f3a"
             ],
             [
              0.8888888888888888,
              "#fdca26"
             ],
             [
              1.0,
              "#f0f921"
             ]
            ]
           }
          ],
          "heatmap": [
           {
            "type": "heatmap",
            "colorbar": {
             "outlinewidth": 0,
             "ticks": ""
            },
            "colorscale": [
             [
              0.0,
              "#0d0887"
             ],
             [
              0.1111111111111111,
              "#46039f"
             ],
             [
              0.2222222222222222,
              "#7201a8"
             ],
             [
              0.3333333333333333,
              "#9c179e"
             ],
             [
              0.4444444444444444,
              "#bd3786"
             ],
             [
              0.5555555555555556,
              "#d8576b"
             ],
             [
              0.6666666666666666,
              "#ed7953"
             ],
             [
              0.7777777777777778,
              "#fb9f3a"
             ],
             [
              0.8888888888888888,
              "#fdca26"
             ],
             [
              1.0,
              "#f0f921"
             ]
            ]
           }
          ],
          "heatmapgl": [
           {
            "type": "heatmapgl",
            "colorbar": {
             "outlinewidth": 0,
             "ticks": ""
            },
            "colorscale": [
             [
              0.0,
              "#0d0887"
             ],
             [
              0.1111111111111111,
              "#46039f"
             ],
             [
              0.2222222222222222,
              "#7201a8"
             ],
             [
              0.3333333333333333,
              "#9c179e"
             ],
             [
              0.4444444444444444,
              "#bd3786"
             ],
             [
              0.5555555555555556,
              "#d8576b"
             ],
             [
              0.6666666666666666,
              "#ed7953"
             ],
             [
              0.7777777777777778,
              "#fb9f3a"
             ],
             [
              0.8888888888888888,
              "#fdca26"
             ],
             [
              1.0,
              "#f0f921"
             ]
            ]
           }
          ],
          "contourcarpet": [
           {
            "type": "contourcarpet",
            "colorbar": {
             "outlinewidth": 0,
             "ticks": ""
            }
           }
          ],
          "contour": [
           {
            "type": "contour",
            "colorbar": {
             "outlinewidth": 0,
             "ticks": ""
            },
            "colorscale": [
             [
              0.0,
              "#0d0887"
             ],
             [
              0.1111111111111111,
              "#46039f"
             ],
             [
              0.2222222222222222,
              "#7201a8"
             ],
             [
              0.3333333333333333,
              "#9c179e"
             ],
             [
              0.4444444444444444,
              "#bd3786"
             ],
             [
              0.5555555555555556,
              "#d8576b"
             ],
             [
              0.6666666666666666,
              "#ed7953"
             ],
             [
              0.7777777777777778,
              "#fb9f3a"
             ],
             [
              0.8888888888888888,
              "#fdca26"
             ],
             [
              1.0,
              "#f0f921"
             ]
            ]
           }
          ],
          "surface": [
           {
            "type": "surface",
            "colorbar": {
             "outlinewidth": 0,
             "ticks": ""
            },
            "colorscale": [
             [
              0.0,
              "#0d0887"
             ],
             [
              0.1111111111111111,
              "#46039f"
             ],
             [
              0.2222222222222222,
              "#7201a8"
             ],
             [
              0.3333333333333333,
              "#9c179e"
             ],
             [
              0.4444444444444444,
              "#bd3786"
             ],
             [
              0.5555555555555556,
              "#d8576b"
             ],
             [
              0.6666666666666666,
              "#ed7953"
             ],
             [
              0.7777777777777778,
              "#fb9f3a"
             ],
             [
              0.8888888888888888,
              "#fdca26"
             ],
             [
              1.0,
              "#f0f921"
             ]
            ]
           }
          ],
          "mesh3d": [
           {
            "type": "mesh3d",
            "colorbar": {
             "outlinewidth": 0,
             "ticks": ""
            }
           }
          ],
          "scatter": [
           {
            "fillpattern": {
             "fillmode": "overlay",
             "size": 10,
             "solidity": 0.2
            },
            "type": "scatter"
           }
          ],
          "parcoords": [
           {
            "type": "parcoords",
            "line": {
             "colorbar": {
              "outlinewidth": 0,
              "ticks": ""
             }
            }
           }
          ],
          "scatterpolargl": [
           {
            "type": "scatterpolargl",
            "marker": {
             "colorbar": {
              "outlinewidth": 0,
              "ticks": ""
             }
            }
           }
          ],
          "bar": [
           {
            "error_x": {
             "color": "#2a3f5f"
            },
            "error_y": {
             "color": "#2a3f5f"
            },
            "marker": {
             "line": {
              "color": "#E5ECF6",
              "width": 0.5
             },
             "pattern": {
              "fillmode": "overlay",
              "size": 10,
              "solidity": 0.2
             }
            },
            "type": "bar"
           }
          ],
          "scattergeo": [
           {
            "type": "scattergeo",
            "marker": {
             "colorbar": {
              "outlinewidth": 0,
              "ticks": ""
             }
            }
           }
          ],
          "scatterpolar": [
           {
            "type": "scatterpolar",
            "marker": {
             "colorbar": {
              "outlinewidth": 0,
              "ticks": ""
             }
            }
           }
          ],
          "histogram": [
           {
            "marker": {
             "pattern": {
              "fillmode": "overlay",
              "size": 10,
              "solidity": 0.2
             }
            },
            "type": "histogram"
           }
          ],
          "scattergl": [
           {
            "type": "scattergl",
            "marker": {
             "colorbar": {
              "outlinewidth": 0,
              "ticks": ""
             }
            }
           }
          ],
          "scatter3d": [
           {
            "type": "scatter3d",
            "line": {
             "colorbar": {
              "outlinewidth": 0,
              "ticks": ""
             }
            },
            "marker": {
             "colorbar": {
              "outlinewidth": 0,
              "ticks": ""
             }
            }
           }
          ],
          "scattermapbox": [
           {
            "type": "scattermapbox",
            "marker": {
             "colorbar": {
              "outlinewidth": 0,
              "ticks": ""
             }
            }
           }
          ],
          "scatterternary": [
           {
            "type": "scatterternary",
            "marker": {
             "colorbar": {
              "outlinewidth": 0,
              "ticks": ""
             }
            }
           }
          ],
          "scattercarpet": [
           {
            "type": "scattercarpet",
            "marker": {
             "colorbar": {
              "outlinewidth": 0,
              "ticks": ""
             }
            }
           }
          ],
          "carpet": [
           {
            "aaxis": {
             "endlinecolor": "#2a3f5f",
             "gridcolor": "white",
             "linecolor": "white",
             "minorgridcolor": "white",
             "startlinecolor": "#2a3f5f"
            },
            "baxis": {
             "endlinecolor": "#2a3f5f",
             "gridcolor": "white",
             "linecolor": "white",
             "minorgridcolor": "white",
             "startlinecolor": "#2a3f5f"
            },
            "type": "carpet"
           }
          ],
          "table": [
           {
            "cells": {
             "fill": {
              "color": "#EBF0F8"
             },
             "line": {
              "color": "white"
             }
            },
            "header": {
             "fill": {
              "color": "#C8D4E3"
             },
             "line": {
              "color": "white"
             }
            },
            "type": "table"
           }
          ],
          "barpolar": [
           {
            "marker": {
             "line": {
              "color": "#E5ECF6",
              "width": 0.5
             },
             "pattern": {
              "fillmode": "overlay",
              "size": 10,
              "solidity": 0.2
             }
            },
            "type": "barpolar"
           }
          ],
          "pie": [
           {
            "automargin": true,
            "type": "pie"
           }
          ]
         },
         "layout": {
          "autotypenumbers": "strict",
          "colorway": [
           "#636efa",
           "#EF553B",
           "#00cc96",
           "#ab63fa",
           "#FFA15A",
           "#19d3f3",
           "#FF6692",
           "#B6E880",
           "#FF97FF",
           "#FECB52"
          ],
          "font": {
           "color": "#2a3f5f"
          },
          "hovermode": "closest",
          "hoverlabel": {
           "align": "left"
          },
          "paper_bgcolor": "white",
          "plot_bgcolor": "#E5ECF6",
          "polar": {
           "bgcolor": "#E5ECF6",
           "angularaxis": {
            "gridcolor": "white",
            "linecolor": "white",
            "ticks": ""
           },
           "radialaxis": {
            "gridcolor": "white",
            "linecolor": "white",
            "ticks": ""
           }
          },
          "ternary": {
           "bgcolor": "#E5ECF6",
           "aaxis": {
            "gridcolor": "white",
            "linecolor": "white",
            "ticks": ""
           },
           "baxis": {
            "gridcolor": "white",
            "linecolor": "white",
            "ticks": ""
           },
           "caxis": {
            "gridcolor": "white",
            "linecolor": "white",
            "ticks": ""
           }
          },
          "coloraxis": {
           "colorbar": {
            "outlinewidth": 0,
            "ticks": ""
           }
          },
          "colorscale": {
           "sequential": [
            [
             0.0,
             "#0d0887"
            ],
            [
             0.1111111111111111,
             "#46039f"
            ],
            [
             0.2222222222222222,
             "#7201a8"
            ],
            [
             0.3333333333333333,
             "#9c179e"
            ],
            [
             0.4444444444444444,
             "#bd3786"
            ],
            [
             0.5555555555555556,
             "#d8576b"
            ],
            [
             0.6666666666666666,
             "#ed7953"
            ],
            [
             0.7777777777777778,
             "#fb9f3a"
            ],
            [
             0.8888888888888888,
             "#fdca26"
            ],
            [
             1.0,
             "#f0f921"
            ]
           ],
           "sequentialminus": [
            [
             0.0,
             "#0d0887"
            ],
            [
             0.1111111111111111,
             "#46039f"
            ],
            [
             0.2222222222222222,
             "#7201a8"
            ],
            [
             0.3333333333333333,
             "#9c179e"
            ],
            [
             0.4444444444444444,
             "#bd3786"
            ],
            [
             0.5555555555555556,
             "#d8576b"
            ],
            [
             0.6666666666666666,
             "#ed7953"
            ],
            [
             0.7777777777777778,
             "#fb9f3a"
            ],
            [
             0.8888888888888888,
             "#fdca26"
            ],
            [
             1.0,
             "#f0f921"
            ]
           ],
           "diverging": [
            [
             0,
             "#8e0152"
            ],
            [
             0.1,
             "#c51b7d"
            ],
            [
             0.2,
             "#de77ae"
            ],
            [
             0.3,
             "#f1b6da"
            ],
            [
             0.4,
             "#fde0ef"
            ],
            [
             0.5,
             "#f7f7f7"
            ],
            [
             0.6,
             "#e6f5d0"
            ],
            [
             0.7,
             "#b8e186"
            ],
            [
             0.8,
             "#7fbc41"
            ],
            [
             0.9,
             "#4d9221"
            ],
            [
             1,
             "#276419"
            ]
           ]
          },
          "xaxis": {
           "gridcolor": "white",
           "linecolor": "white",
           "ticks": "",
           "title": {
            "standoff": 15
           },
           "zerolinecolor": "white",
           "automargin": true,
           "zerolinewidth": 2
          },
          "yaxis": {
           "gridcolor": "white",
           "linecolor": "white",
           "ticks": "",
           "title": {
            "standoff": 15
           },
           "zerolinecolor": "white",
           "automargin": true,
           "zerolinewidth": 2
          },
          "scene": {
           "xaxis": {
            "backgroundcolor": "#E5ECF6",
            "gridcolor": "white",
            "linecolor": "white",
            "showbackground": true,
            "ticks": "",
            "zerolinecolor": "white",
            "gridwidth": 2
           },
           "yaxis": {
            "backgroundcolor": "#E5ECF6",
            "gridcolor": "white",
            "linecolor": "white",
            "showbackground": true,
            "ticks": "",
            "zerolinecolor": "white",
            "gridwidth": 2
           },
           "zaxis": {
            "backgroundcolor": "#E5ECF6",
            "gridcolor": "white",
            "linecolor": "white",
            "showbackground": true,
            "ticks": "",
            "zerolinecolor": "white",
            "gridwidth": 2
           }
          },
          "shapedefaults": {
           "line": {
            "color": "#2a3f5f"
           }
          },
          "annotationdefaults": {
           "arrowcolor": "#2a3f5f",
           "arrowhead": 0,
           "arrowwidth": 1
          },
          "geo": {
           "bgcolor": "white",
           "landcolor": "#E5ECF6",
           "subunitcolor": "white",
           "showland": true,
           "showlakes": true,
           "lakecolor": "white"
          },
          "title": {
           "x": 0.05
          },
          "mapbox": {
           "style": "light"
          }
         }
        },
        "scene": {
         "xaxis": {
          "title": {
           "text": "X Axis"
          },
          "showgrid": false,
          "showline": false,
          "zeroline": false
         },
         "yaxis": {
          "title": {
           "text": "Y Axis"
          },
          "showgrid": false,
          "showline": false,
          "zeroline": false
         },
         "zaxis": {
          "title": {
           "text": "Z Axis"
          },
          "showgrid": false,
          "showline": false,
          "zeroline": false
         }
        },
        "title": {
         "text": "Sentences with 'bezpečí' (N=98)"
        }
       },
       "config": {
        "plotlyServerURL": "https://plot.ly"
       }
      },
      "text/html": [
       "<div>                            <div id=\"6cb5c914-4f68-4efc-b68b-e6b72023bafc\" class=\"plotly-graph-div\" style=\"height:525px; width:100%;\"></div>            <script type=\"text/javascript\">                require([\"plotly\"], function(Plotly) {                    window.PLOTLYENV=window.PLOTLYENV || {};                                    if (document.getElementById(\"6cb5c914-4f68-4efc-b68b-e6b72023bafc\")) {                    Plotly.newPlot(                        \"6cb5c914-4f68-4efc-b68b-e6b72023bafc\",                        [{\"hoverinfo\":\"text\",\"marker\":{\"color\":\"purple\",\"opacity\":0.3,\"size\":5},\"mode\":\"markers\",\"text\":[\" Kdy\\u017e se kn\\u011b\\u017e\\u00ed modl\\u00ed, jak je to jejich povinnost\\u00ed, a pod\\u00e1vaj\\u00ed ob\\u011bt za 3v\\u016fj lid a za cel\\u00fd lid Bo\\u017e\\u00ed, vyzn\\u00e1vaj\\u00edce to, co \\u011b\\u011blaj\\u00ed, a pro\\u017e\\u00edvaj\\u00edce to, \\u010d\\u00edm se zab\\u00fdvaj\\u00ed, pak apo\\u0161tolsk\\u00e1 \\u010dinnost, jejl ne-  - 7 - bezpe\\u010d\\u00ed a obt\\u00ed\\u017ee jim nejsou p\\u0159ek\\u00e1\\u017ekou, ale sp\\u00ed\\u0161 je povzn\\u00e1Sej\\u00ed k dokonalej\\u0161\\u00ed svatosti, tak\\u017ee plnost vnit\\u0159n\\u00edho \\u017eivota o\\u017eivuje a pod- n\\u011bcuje jejich \\u010dinnost k oslav\\u011b cel\\u00e9 Bo\\u017e\\u00ed c\\u00edrkve.\\n\",\" ? \\u2022 Zn\\u00e1te v\\u00fdhody \\u201et\\u0159et\\u00edho sloupce jistoty\\\"? \\u2022 Cht\\u011bli byste v\\u011bd\\u011bt, co je bezpodm\\u00edne\\u010dn\\u011b nutn\\u00e9 a co m\\u00e9n\\u011b nutn\\u00e9 v ot\\u00e1zk\\u00e1ch poji\\u0161tov\\u00e1n\\u00edse? \\u2022 Vy\\u0159izujeme n\\u00e1hrady \\u0161kod z poji\\u0161toven ve \\u0160v\\u00fdcarsku, N\\u011bmecku, \\u010ceskoslovensku \\u2022 Plat\\u00edte velk\\u00e9 dan\\u011b? \\u0160v\\u00fdcarsk\\u00e9 bankovnictv\\u00ed a poji\\u0161\\u0165ovnictv\\u00ed sk\\u00fdt\\u00e1 nejvy\\u0161\\u0161\\u00ed mo\\u017enou z\\u00e1ruku solidnosti a bezpe\\u010d\\u00ed.\\n\",\" Mo\\u0159e je zr\\u00e1dn\\u00e9, lo\\u010f se houpe, jednou je dole, jednou naho\\u0159e, fouk\\u00e1 poka\\u017ed\\u00e9 odjinud, a tak by bylo nejlep\\u0161\\u00ed napnout v\\u0161echny s\\u00edly, chytit plachty i vesla a plnou parou sp\\u011bchat n\\u011bkam do bezpe\\u010d\\u00ed.\\n\",\"\\\" Na jedn\\u00e9 stran\\u011b Patrick White, jeho\\u017e \\u00fasty mluv\\u00ed mili\\u00f3ny, zan\\u00edcen\\u00e9 pro m\\u00edr, na druh\\u00e9 Sacharov a Sol\\u017eenicyn; na jedn\\u00e9 stran\\u011b \\u010dlov\\u011bk, kter\\u00fd se z pohodln\\u00e9ho bezpe\\u010d\\u00ed demokratick\\u00e9ho z\\u00e1ti\\u0161\\u00ed domn\\u00edv\\u00e1, \\u017ee zn\\u00e1 rub mince, na druh\\u00e9 lid\\u00e9, kte\\u0159\\u00ed jej znaj\\u00ed opravdu, proto\\u017ee j\\u00edm byli kr\\u016ft\\u011b posti\\u017eeni.\\n\",\" Ale v\\u00edc bychom uv\\u00edtali, kdyby Chru\\u0161\\u010dov kone\\u010dn\\u011b u\\u017e p\\u0159i\\u0161el s n\\u011bjak\\u00fdm n\\u00e1vrhem na spolupr\\u00e1ci, kter\\u00e1 by zajistila bezpe\\u010d\\u00ed stamilion\\u016f, kter\\u00e9 chod\\u00ed po zemi.\\n\",\" O b e c , j \\u00ed \\u017e h r o z \\u00ed zk\\u00e1za, c\\u00edt\\u00ed se v bezpe\\u010d\\u00ed.\\n\",\"J\\u00e1 v\\u0161ak V i n c e n c , v i d a to ne\\u0161t\\u011bst\\u00ed, z p \\u011b \\u010d o v a l j s e m se v r h n o u t d o t a k o v \\u00e9 h o nebezpe\\u010d\\u00ed a r o z m \\u00fd \\u0161 l e j e co b y c h m \\u011b l za t a k o v \\u00e9 situace \\u010dinit a p\\u0159ihl\\u00ed\\u017eeje v \\u00ed c e k s v \\u00e9 m u bezpe\\u010d\\u00ed ne\\u017e k o d v a z e , p\\u0159ipojil j s e m se se s l u \\u017e e b n i c t v e m m \\u00fd c h s p o - le\\u010dn\\u00edk\\u016f k P a v i j s k \\u00fd m .\\n\",\" P o n \\u011b v a d \\u017e b y b y l o v e l m i n e b e z p e \\u010d n \\u00e9 c t i h o d n \\u00e9 m u bratru O n d \\u0159 e j i , p r a \\u017e s k \\u00e9 m u b i s k u p o v i , k v \\u016f l i kr\\u00e1li a \\u010d e s k \\u00fd m v e l m o \\u017e \\u016f m v \\u00e9 s t s v o u p\\u0159i na p o d e z \\u0159 e l \\u00e9 m m\\u00edst\\u011b, slu\\u0161\\u00ed se, abys ty, j e h o \\u017e rozv\\u00e1\\u017enosti j s m e sv\\u011b\\u0159ili bezpe\\u010d\\u00ed j e h o o s o b y , n e j e n za n\\u00e1s, ale i za sebe a za t \\u00e9 h o \\u017e b i s k u p a v\\u0161e nutn\\u00e9 pe\\u010dliv\\u011b za\\u0159\\u00eddil.\\n\",\" Bu\\u010fme v\\u0161ak realisti\\u010dt\\u00ed: lid\\u00e9 usiluj\\u00ed o m\\u00edr pro sv\\u00e9 domovy a o bezpe\\u010d\\u00ed; ba\\u017e\\u00ed po sl\\u00e1v\\u011b a po potlesku; sna\\u017e\\u00ed se z\\u00edskat moc a vliv; hledaj\\u00ed p\\u0159\\u00e1telstv\\u00ed a l\\u00e1sku.\\n\",\" Proto\\u017ee nikdo nem\\u016f\\u017ee vyprodukovat v\\u0161echno, co po\\u017eaduje, podporuje dosa\\u017een\\u00ed v\\u0161ech t\\u011bchto c\\u00edl\\u016f sm\\u011bna, a pr\\u00e1v\\u011b tak p\\u016fsob\\u00ed i shroma\\u017e\\u010fov\\u00e1n\\u00ed majetku, sk\\u00fdtaj\\u00edc\\u00ed bezpe\\u010d\\u00ed a p\\u0159in\\u00e1\\u0161ej\\u00edc\\u00ed moc.\\n\",\" Jeliko\\u017e v\\u0161akj bratislavsk\\u00fd klub jako po\\u0159adatel utk\\u00e1n\\u00ed nemohl zaru\\u010dit bezpe\\u010d\\u00ed \\u010dlenky dru\\u017estva DSC Duisburg - Kaiserberg, b\\u00fdval\\u00e9 \\u010ds.\\n\",\" \\u0160v\\u00fdcarsk\\u00e9, bankovnictv\\u00ed a poji\\u0161tovnictv\\u00ed sk\\u00fdt\\u00e1 nejvy\\u0161\\u0161\\u00ed mo\\u017enou z\\u00e1ruku solidnosti a bezpe\\u010d\\u00ed.\\n\",\" Spolu s p\\u0159ijet\\u00edm pozv\\u00e1n\\u00ed na konferenci \\u010cty\\u0159, m\\u00e1 sov\\u011btsk\\u00e9 sna\\u017eeni pravd\\u011bpodobn\\u011b vyt\\u010deno za \\u00fakol ukol\\u00e9b\\u00e1ni sv\\u011bta do fale\\u0161n\\u00e9ho pocitu bezpe\\u010d\\u00ed a z\\u00edsk\\u00e1n\\u00ed zaji\\u0161t\\u011bn\\u00e9ho z\\u00e1ti\\u0161\\u00ed k za\\u017eit\\u00ed spolknut\\u00fdch ob\\u011bt\\u00ed.\\n\",\" A jako o\\u0161kliv\\u00fd \\u0161pr\\u00fdm zn\\u00ed p\\u0159\\u00edpitek presidenta Roosevelta, mu\\u017ee, kter\\u00fd to tak up\\u0159\\u00edmn\\u00e9 myslil: \\\"Abychom dali _\\u003ca\\u017ed\\u00e9mu mu\\u017ei, ka\\u017ed\\u00e9 \\u017een\\u011b a ka\\u017ed\\u00e9mu d\\u00edt\\u011bti na sv\\u011bt\\u011b mo\\u017enost bezpe\\u010d\\u00ed a blahobytu.\\n\",\" Navzdor u\\u0161ili n\\u011bkter\\u00fdch \\u00fa\\u010dastn\\u00edk\\u016f konference, kte\\u0159\\u00ed se je\\u0161t\\u011b nevzdali star\\u00fdch omyl\\u016f a chyb, a kte\\u0159\\u00ed vlastn\\u011b byli odp\\u016frci mocn\\u00e9 orga- nisace, kter\\u00e1 by st\\u0159e\\u017eila bezpe\\u010d\\u00ed a m\\u00edr mezi n\\u00e1rody, charta Spojen\\u00fdch n\\u00e1rod\\u016f d\\u00e1v\\u00e1 z\\u00e1klad mezin\\u00e1rodn\\u00ed organisaci opravdu nov\\u00e9ho typu.\\n\",\" \\u0160v\\u00fdcarsk\\u00e9, bankovnictv\\u00ed a poji\\u0161\\u0165ovnictv\\u00ed sk\\u00fdt\\u00e1 nejvy\\u0161\\u0161\\u00ed mo\\u017enou z\\u00e1ruku solidnosti a bezpe\\u010d\\u00ed.\\n\",\" Hebyl to kapit\\u00e1l, to ne, ale byla to pojistka pro v\\u0161echny p\\u0159\\u00edpady, \\u00dc v\\u00e9dom\\u00ed tohoto finan\\u017en\\u00edho bezpe\\u010d\\u00ed jsem pook\\u0159\\u00e1l a rozkvetl t\\u00e9n\\u00e9\\u0159 jako Viktoria kr\\u00e1lovsk\\u00e1.\\n\",\" \\u0160v\\u00fdcarsk\\u00e9, bankovnictv\\u00ed a poji\\u0161tovnlctv\\u00ed sk\\u00fdt\\u00e1 nejvy\\u0161\\u0161\\u00ed mo\\u017enou z\\u00e1ruku solidnosti a bezpe\\u010d\\u00ed.\\n\",\" \\u0160v\\u00fdcarsk\\u00e9, bankovnictv\\u00ed a poji\\u0161tovnictv\\u00ed sk\\u00fdt\\u00e1 nejvy\\u0161\\u0161\\u00ed mo\\u017enou z\\u00e1ruku solidnosti a bezpe\\u010d\\u00ed.\\n\",\" 36  ________________ _ zpravodaj 10\\u002f98______________________ V t\\u011bchto kon\\u010din\\u00e1ch je auto vz\\u00e1cn\\u00fdm zjevem a jejich poh\\u00e1n\\u011b\\u010di, a\\u0165 d\\u011bti, \\u010di dosp\\u011bl\\u00ed, nech\\u00e1vaj\\u00ed osly jejich osudu a b\\u011b\\u017e\\u00ed se p\\u0159ed n\\u00e1mi schovat daleko do bezpe\\u010d\\u00ed.\\n\",\"? * Zn\\u00e1te v\\u00fdhody \\\"t\\u0159et\\u00edho sloupce jistoty\\\"? * Cht\\u011bli byste v\\u011bd\\u011bt, co je bezpodm\\u00edne\\u010dn\\u011b nutn\\u00e9 a co m\\u00e9n\\u011b nutn\\u00e9 v ot\\u00e1zk\\u00e1ch poji\\u0161t\\u011bn\\u00ed? * Vy\\u0159izujeme n\\u00e1hrady \\u0161kod z poji\\u0161\\u0165oven ve CH, SRN, \\u010cSFR * Plat\\u00edte velk\\u00e9 dan\\u011b? \\u0160v\\u00fdcarsk\\u00e9 bankovnictv\\u00ed a poji\\u0161\\u0165ovnictv\\u00ed sk\\u00fdt\\u00e1 nejvy\\u0161\\u0161\\u00ed mo\\u017enou z\\u00e1ruku solidnosti a bezpe\\u010d\\u00ed.\\n\",\" Kde m\\u00e1m pocit bezpe\\u010d\\u00ed.\\n\",\" Sv\\u011bt, v n\\u011bm\\u017e se pohybuj\\u00ed, ne\\u010dp\\u00ed \\u017eivo\\u010di\\u0161nou \\u010dlov\\u011b\\u010dinou, je oj\\u00edn\\u011bn nostalgi\\u00ed vize o h\\u0159ejiv\\u00e9m lidsk\\u00e9m sou\\u017eit\\u00ed a touhou po spo\\u010dinut\\u00ed v citov\\u00e9m bezpe\\u010d\\u00ed.\\n\",\" Ne- mohou:trvale spo\\u010dinout v tepl\\u00e9m bezpe\\u010d\\u00ed opravdov\\u00e9, bezv\\u00fdhradn\\u00e9 l\\u00e1sky, neboV\\u010dlov\\u011bk je nahlod\\u00e1n \\u2018povrchnost\\u00ed a^zmarem^ a st\\u0159e\\u017e\\u00ed jen sv\\u00e9 so- beck\\u00e9;z\\u00e1jmy.\\n\",\" 66  5 Ve sb\\u00edrce V\\u00edtr v s\\u00edti v\\u0161ak toto kontrap^unktick\\u00e9 prol\\u00edn\\u00e1n\\u00ed dvoj\\u00edho z\\u0159en\\u00ed - toti\\u017e v\\u011bdomi ohro\\u017eenosti a krutosti l\\u00e1sk\\u00fd,\\u2022\\u00dast\\u00edc\\u00ed v literatu\\u0159e do tragick\\u00fdch fin\\u00e1le, a touha po \\u017eivotn\\u00edm bezpe\\u010d\\u00ed, klenouc\\u00ed nad ka\\u017ed\\u00fdm p\\u0159\\u00edb\\u011bhem harmonickou duhu \\u0161t\\u011bst\\u00ed - nen\\u00ed domy\\u0161leno do v\\u0161ech wn\\u011bleck\\u00fdch d\\u016fsledk\\u016f.\\n\",\"einem, j\\u00edm\\u017e^bylo umo\\u017en\\u011bno velk\\u00e9mu poctu ob\\u011bti komunismu dos\\u00e1hnout bezpe\\u010d\\u00ed a zalo\\u017eit si novy domov v na\\u0161\\u00ed zemi.\\n\",\" Kdy\\u017e vz\\u00e1cn\\u011b p\\u0159^de takov\\u00e1 chvilka tepla a n\\u011bhy prost\\u011b jen lidsk\\u00e9, i ta mus\\u00ed b\\u00fdt zni\\u010dena : \\u00ab Po dlouh\\u00e9 dob\\u011b sc c\\u00edtila v jeho n\\u00e1ru\\u010di v bezpe\\u010d\\u00ed a za\\u010dala sladce us\\u00ednat.\\n\",\" Ukazuje se, \\u017ee navz\\u00e1jem se ch\\u00e1pat (p\\u0159es onu hranici, kter\\u00e1 z ob\\u010dana, d\\u011bl\\u00e1 disidenta) je v \\u010desk\\u00e9 spole\\u010dnosti z\\u0159ejm\\u011b st\\u00e1le mo\\u017en\\u00e9, ale obt\\u00ed\\u017en\\u011bj\\u0161\\u00ed je vstoupit do smyslupln\\u00e9 komunikace, kdy\\u017e jeden nasazuje \\u010din a druh\\u00fd by byl nanejv\\u00fd\\u0161 ochoten v soukrom\\u00ed a v bezpe\\u010d\\u00ed nasadit slovo.\\n\",\" Je jim p\\u0159irozen\\u00fdm ontick\\u00fdm \\u017eivlem, v n\\u011bm\\u017e se ke st\\u00e1le v\\u011bt\\u0161\\u00ed dokonalosti rozv\\u00edj\\u00ed nad\\u00e1n\\u00ed vyc\\u00edtit v ka\\u017ed\\u00e9m jsoucnu puls univerz\\u00e1ln\\u00edho \\u017eivota, spat\\u0159ovat hraj\\u00edc\\u00ed si d\\u00edt\\u011b \\u010dasu v bezpe\\u010d\\u00ed n\\u00e1ru\\u010de v\\u011b\\u010dnosti, nal\\u00e9zat smysluplnost lidsk\\u00e9 existence ve sv\\u011bt\\u011b chr\\u00e1n\\u011bnu z\\u00e1rukou p\\u0159\\u00edtomnosti Boha.\\n\",\" Toto hled\\u00e1n\\u00ed mnoh\\u00fdm p\\u0159ipom\\u00edn\\u00e1 po\\u010d\\u00edn\\u00e1n\\u00ed toho, kdo opustil bezpe\\u010d\\u00ed rodn\\u00e9 z\\u00e1toky pozemsk\\u00e9 kone\\u010dnosti a vydal se s\\u00e1m na mal\\u00e9 lodi v\\u0161anc nezn\\u00e1m\\u00e9mu oce\\u00e1nu.\\n\",\" je v bezpe\\u010d\\u00ed sv\\u00e9 z\\u00e1\\u0161tity.\\n\",\" Plat\\u00edte vysok\\u00e9 dan\\u011b? \\u0160v\\u00fdcarsk\\u00e9 bankovnictv\\u00ed a poji\\u0161tovnictv\\u00ed sk\\u00fdt\\u00e1 nejvy\\u0161\\u0161\\u00ed mo\\u017enou z\\u00e1ruku solidnosti a bezpe\\u010d\\u00ed.\\n\",\" \\u00davodem se pochlubilo, \\u017ee v prvn\\u00edm pololet\\u00ed to- hoto roku \\\"zne\\u0161kodnil na p\\u0159\\u00edklad jenom jeden \\u00fatvar bezpe\\u010dnostn\\u00edch or- g\\u00e1n\\u016f ministerstva vnit- ra 22 zahrani\\u010dn\\u00edch agen- t\\u016f, a po tomto holdu vzorn\\u00fdm plni\\u010d\\u00fam pl\\u00e1- nu se rozepsalo, o ne- bezpe\\u010d\\u00ed, kter\\u00e9 se taj\\u00ed pod turistickou dru\\u017ebou ze Z\\u00e1padu, \\u0160pion\\u00e1\\u017en\\u00ed centra pr\\u00fd \\\"rozmis\\u0165 uj\\u00ed\\\" do \\u0159ad poctiv\\u00fdch zahrani\\u010dn\\u00edch turist\\u016f sv\\u00e9 agenty, po- u\\u017e\\u00edvaj\\u00edce p\\u0159i tom \\u010dasto slu\\u017eeb krajanu, \\\"nara- zen\\u00fdch\\\" jednotliv\\u011b do skupin mnoha \\u010destn\\u00fdch \\u010cech\\u016f a Slov\\u00e1k\\u016f ze za- hrani\\u010d\\u00ed.\\n\",\" A to jsem si myslel, kdy\\u017e jsem opustil rodnou hroudu, \\u017ee jsem ve Dvo\\u0159e na n\\u00e1rodn\\u00edm v\\u00fdbo\\u0159e zanechal v bezpe\\u010d\\u00ed \\u0161edou kn\\u00ed\\u017eku vojenskou, i tu \\u010dervenou kn\\u00ed\\u017eku plnou obscenit: Foto vyd\\u011b\\u0161en\\u00e9 tv\\u00e1\\u0159e jinocha u zdi, otisk palce prim\\u00e1ta mu\\u017esk\\u00e9ho pohlav\\u00ed, 183 cm dlouh\\u00e9ho, vlas\\u016f ka\\u0161tanov\\u00fdch, o\\u010d\\u00ed hn\\u011bd\\u00fdch, pob\\u00fdvaj\\u00edc\\u00edho na trval\\u00e9 adrese n\\u00ed\\u017ee ozna\\u010den\\u00e9, zasluhuj\\u00edc\\u00edho si j\\u00eddlo prac\\u00ed stvrzenou raz\\u00edtkem a p\\u0159ipraven\\u00e9ho k obran\\u011b vlasti v \\u0159ad\\u00e1ch \\u00fatvaru jm\\u00e9na tajn\\u00e9ho.\\n\",\" Zp\\u011bv ptactva ob\\u010das sice ru\\u0161ily r\\u00e1ny a v\\u00fdst\\u0159ely z\\u00e1tek z lahvi \\u0161ampa\\u0148sk\\u00e9ho, byl to ale kr\\u00e1sn\\u00fd b\\u00edl\\u00fd den a zakon\\u010dili jsine ho a\\u017e  v noci jen v bezpe\\u010d\\u00ed a pohodl\\u00ed sen\\u00edku na m\\u00fdtin\\u011b pod hv\\u011bzdnou oblohou.\\n\",\" Dostal se v bezpe\\u010d\\u00ed do Lond\\u00fdna, kde se ihned \\u00fa\\u010dastnil druh\\u00e9ho odboje, veden\\u00e9ho presidentem Bene\\u0161em.\\n\",\" To by jist\\u011b byla pravda - pokud by se program SDI m\\u011bl st\\u00e1t v\\u00fdchodiskem jen pro novou zkostnat\\u011blou doktr\\u00ednu vojensk\\u00e9ho my\\u0161len\\u00ed, kter\\u00e1 by d\\u00e1vala stejn\\u011b fale\\u0161n\\u00fd pocit bezpe\\u010d\\u00ed (a ochromovala dal\\u0161\\u00ed v\\u00fdvoj prost\\u0159edk\\u016f obrany), jako tomu bylo u \\u201enukle\\u00e1rn\\u00edho de\\u0161tn\\u00edku\\u201c.\\n\",\" \\u0160v\\u00fdcarsk\\u00e9, bankovnictv\\u00ed a poji\\u0161tovnictv\\u00ed sk\\u00fdt\\u00e1 nejvy\\u0161\\u0161\\u00ed mo\\u017enou z\\u00e1ruku solidnosti a bezpe\\u010d\\u00ed.\\n\",\"skute\\u010dn\\u011b doch\\u00e1zelo k dos\\u00eddlov\\u00e1n\\u00ed dne\\u0161n\\u00edho pohrani\\u010d\\u00ed, jenom\\u017ee to byli N\\u011bmci, kte\\u0159\\u00ed zde hledali pr\\u00e1ci, demokracii a bezpe\\u010d\\u00ed.\\n\",\"se'1c|\\u00e1ra||P^ nez\\u00edsk\\u00e1vaj\\u00ed p\\u0159esto naprost\\u00e9 bezpe\\u010d\\u00ed: \\u010d\\u00edm v\\u00edc m\\u00e1 st\\u00e1\\u010f\\u010f|jIaY,-\\\"\\u2019t\\u00edn?d\\u0159fv sp\\u00e1t\\u0159L - dravce, anebo taky ne, jestli\\u017ee se ka\\u017ed\\u00fd jednotliv\\u00e9c \\u0161pbl\\u00e9h\\u00e1 na^pozomosl druh\\u00e9ho, tak\\u017ee ned\\u00e1v\\u00e1 pozor nikdo.\\n\",\" stejn\\u011b mu padne za ko\\u0159ist ten nejslab\\u0161\\u00ed a nejpomalej\\u0161\\u00ed jedinec ze st\\u00e1da, Tak\\u017ee z toho je vid\\u011bt, \\u017ee st\\u00e1do \\u010di st\\u00e1t neposkytuje skute\\u010dn\\u00e9 bczpc\\u010d\\u00ed,alu;jca jakousi iluzi bezpe\\u010d\\u00ed.\\n\",\" Skupina opi\\u00e1t\\u016f - drog jako heroin nebo morfium vyvol\\u00e1v\\u00e1 v\\u0161eobecn\\u011b euforick\\u00fd pocit bezpe\\u010d\\u00ed.\\n\",\" Ve vratk\\u00e9m bezpe\\u010d\\u00ed na\\u0161ich stan\\u016f jsme naslouchali, jak medv\\u011bdi po setm\\u011bn\\u00ed ti\\u0161e chod\\u00ed po b\\u0159ehu \\u0159eky, Mike se jednou r\\u00e1no vzbudil a hled\\u011bl do tv\\u00e1\\u0159e mlad\\u00e9 medv\\u011bdici, kter\\u00e1 nahl\\u00ed\\u017eela do stanu.\\n\",\"  Osm\\u00e1 strana n\\u00e1r o dn\\u00ed po l it ik a \\u010cerven 1992 \\u010cty\\u0159-a\\u017e \\u0161estin\\u00e1sobn\\u00e9 zv\\u011bt\\u0161en\\u00ed kapit\\u00e1lu! Zam\\u00fd\\u0161l\\u00edte podnikat? Chcete si za n\\u00edzk\\u00fdch \\u00farokov\\u00fdch sazeb pen\\u00edze p\\u016fj\\u010dit a na vysok\\u00e9 je ukl\\u00e1dat? \\u0160v\\u00fdcarsk\\u00e9 bankovnictv\\u00ed a poji\\u0161lovnictv\\u00ed sk\\u00fdt\\u00e1 nejvy\\u0161\\u0161i mo\\u017enou z\\u00e1ruku solidnosti a bezpe\\u010d\\u00ed.\\n\",\" \\u010celme ne- bezpe\\u010d\\u00ed nervov\\u00fdch \\u0161ok\\u016f, kter\\u00e9 hroz\\u00ed v na\\u0161\\u00ed skute\\u010d- nosti ka\\u017edodenn\\u011b v\\u0161em, co nepat\\u0159\\u00ed k \\u00abblahosla- ven\\u00fdm \\u00bb.\\n\",\" Tehdy za n\\u00edm p\\u0159ijela z Anglie na Str\\u017e ve vojensk\\u00e9m jee- pu dcera Thomase Manna, Erika, a cht\\u011bla ho dopravit do bezpe\\u010d\\u00ed.\\n\",\" Trvalo dlouho, ne\\u017e vylezl ty dva \\u017eeb\\u0159\\u00edky, ale po\\u0159\\u00e1d je\\u0161t\\u011b byl v bezpe\\u010d\\u00ed, v krytu posledn\\u00edho odpo\\u010d\\u00edvadla, na n\\u011bm\\u017e p\\u0159ed chv\\u00edl\\u00ed st\\u00e1li.\\n\",\" Jeli dosud ve va\\u0161\\u00ed moci, pokuste se dopravil je do bezpe\\u010d\\u00ed, cv.\\n\",\" J\\u00e1 ale ot\\u00e1zku trochu pooto\\u010d\\u00edm: nehumanizujeme \\u201esyst\\u00e9m \\\" vlastn\\u011b t\\u00edm, \\u017ee si uv\\u011b- domujeme lidskou pot\\u0159ebu \\u201evy\\u0161\\u0161\\u00edho principu\\\", abych tak \\u0159ekla, a sna\\u017e\\u00edme se podle n\\u011bj \\u017e\\u00edt bez ohledu na mo\\u017enosti a p\\u0159\\u00e1n\\u00ed syst\\u00e9mu? Kdy\\u017e se mluv\\u00ed o blahu \\u010dlov\\u011bka v politice, a to nejen u n\\u00e1s, mysl\\u00ed se t\\u00edm blaho, kter\\u00e9 je mo\\u017en\\u00e9 si koupit nebo kter\\u00e9 m\\u016f\\u017ee \\u010dlov\\u011bk dostat od st\\u00e1tu v podob\\u011b soci\\u00e1ln\\u00edho bezpe\\u010d\\u00ed.\\n\",\" Na st\\u00e1t soci\\u00e1ln\\u00edho blahobytu si v\\u0161ak nedaj\\u00ed s\\u00e1hnout, kdy\\u017e se za\\u010dne navyklost na soci\\u00e1ln\\u00ed bezpe\\u010d\\u00ed ot\\u0159\\u00e1sat, daj\\u00ed hlasy op\\u011bt Palmemu.\\n\",\" Nebylo by lep\\u0161\\u00ed chv\\u00edli sp\\u00e1t? V\\u00edm, \\u017ee jsem v takov\\u00e9m bezpe\\u010d\\u00ed, jako je\\u0161t\\u011b nikdy, jen ten nevy\\u0159e\\u0161en\\u00fd probl\\u00e9m m\\u011b ru\\u0161\\u00ed.\\n\",\" \\u2666 Plat\\u00edte vysok\\u00e9 dan\\u011b? \\u0160v\\u00fdcarsk\\u00e9 bankovnictv\\u00ed a poji\\u0161\\u0165ovnictv\\u00ed sk\\u00fdt\\u00e1 nejvy\\u0161\\u0161\\u00ed mo\\u017enou z\\u00e1ruku solidnosti a bezpe\\u010d\\u00ed.\\n\",\" \\u0160v\\u00fdcarsk\\u00e9, bankovnictv\\u00ed a poji\\u0161tovnictv\\u00ed sk\\u00fdt\\u00e1 nejvy\\u0161\\u0161\\u00ed mo\\u017enou z\\u00e1ruku solidnosti a bezpe\\u010d\\u00ed.\\n\",\" \\u0160v\\u00fdcarsk\\u00e9, bankovnictv\\u00ed a poji\\u0161\\u0165ovnictv\\u00ed sk\\u00fdt\\u00e1 nejvy\\u0161\\u0161\\u00ed mo\\u017enou z\\u00e1ruku solidnosti a bezpe\\u010d\\u00ed.\\n\",\" D\\u00edt\\u011b, kter\\u00e9 pro\\u017e\\u00edv\\u00e1 pocit bezpe\\u010d\\u00ed, se nau\\u010d\\u00ed d\\u016fv\\u011b\\u0159ovat.\\n\",\" 40  * * * V tich\\u00e9m vanut\\u00ed jara jakmile v\\u00edtr hlad\\u00ed k\\u0159ehk\\u00e9 listy kdy\\u017e ra\\u0161\\u00ed mal\\u00fd mlad\\u00fd \\u017eivot tu\\u0161\\u00edme cosi co v hlubin\\u011b j\\u00e1s\\u00e1 a zaru\\u010duje nekone\\u010dn\\u00e9 bezpe\\u010d\\u00ed Boha, jen\\u017e je mlad\\u0161\\u00ed ne\\u017e v\\u0161echno mlad\\u00e9 Boha v\\u011b\\u010dn\\u00e9 jaro a v\\u011b\\u010dn\\u00e9 ml\\u00e1d\\u00ed.\\n\",\"\\u00bb Jednou z provinci\\u00ed Mexika je Chia- pas, tam \\u017eij\\u00ed Indi\\u00e1ni, a ti jsou ve sporu s \\u00fast\\u0159edn\\u00ed vl\\u00e1dou, kter\\u00e1 tam vid\\u00ed ne- bezpe\\u010d\\u00ed komunismu, a tamn\\u00ed biskup mons.\\n\",\" Poc\\u00edt\\u00edm lehk\\u00fd z\\u00e1van pohody, bezpe\\u010d\\u00ed, \\u00fatulna.\\n\",\" Takov\\u00fd rokokov\\u00fd lantkrab\\u011b se c\\u00edtil v bezpe\\u010d\\u00ed; nemusel sv\\u00e9ho p\\u0159edch\\u016fdce zavra\\u017edit, nastoupil d\\u011bdi\\u010dn\\u011b; m\\u011bl v\\u011brn\\u00e9 poddan\\u00e9, jeho gran\\u00e1tn\\u00edci st\\u00e1li p\\u0159ed z\\u00e1mkem pro par\\u00e1du, ne proto, \\u017ee by \\u010dekal vrahy; on m\\u011bl pokdy na pomilov\\u00e1n\\u00ed.\\n\",\" Napl\\u0148uje m\\u011b neoby\\u010dejn\\u00fdm pocitem; bezpe\\u010d\\u00ed, slibuje-li mi bezpe\\u010dnost n\\u011bkdo, kdo si nen\\u00ed jist bezpe\\u010dnost\\u00ed vlastn\\u00ed.\\n\",\" \\u0160v\\u00fdcarsk\\u00e9 bankovnictv\\u00ed a poji\\u0161\\u0165ovnictv\\u00ed sk\\u00fdt\\u00e1 nejvy\\u0161\\u0161\\u00ed mo\\u017enou z\\u00e1ruku solidnosti a bezpe\\u010d\\u00ed.\\n\",\" Graf Spee, po\\u0161kozen, dorazil do bezpe\\u010d\\u00ed neutr\\u00e1ln\\u00edho p\\u0159\\u00edstavu, kde v\\u0161ak mezin\\u00e1rodn\\u00ed pravidla mu dovolovala setrvat jen kr\\u00e1tk\\u00fd \\u010das.\\n\",\"\\\" Mimo jin\\u00e9 pravil: \\u201cNejz\\u00e1kladn\\u011bj\\u0161\\u00edmi pr\\u00e1vy ob\\u010dan\\u016f Velk\\u00e9 Brit\\u00e1nie jsou pr\\u00e1va na bezpe\\u010d\\u00ed p\\u0159ed zat\\u010den\\u00edm a v\\u011bzn\\u011bn\\u00edm bez rozsudku soudu, na svobodu p\\u0159esv\\u011bd\\u010den\\u00ed a n\\u00e1bo\\u017eenstv\\u00ed, svobodu projevu, spol\\u010dov\\u00e1n\\u00ed a tisku, na svrchovanost lidu a platnost z\\u00e1kon\\u016f.\\n\",\" Trval na tom, \\u017ee demokracie v \\u010ceskoslovensku je v bezpe\\u010d\\u00ed a \\u017ee nen\\u00ed kontrolov\\u00e1na \\u010di ovl\\u00e1d\\u00e1na v \\u017e\\u00e1dn\\u00e9m smyslu Ruskem.\\n\",\" Jde\\u0161 \\u017eivo- tem a nezn\\u00e1\\u0161 propasti, ne- bezpe\\u010d\\u00ed, co t\\u011b ohro\\u017euje, kter\\u00e1 cesta je bezpe\\u010dn\\u00e1 a kter\\u00e1 je nebezpe\\u010dn\\u00e1? M\\u00e1\\u0161 jistotu, \\u017ee ne- padne\\u0161 do propasti bez- nad\\u011bje a zoufalstv\\u00ed? 00 \\u0158\\u00cdKAJ\\u00cd NAIVN\\u00cd L\\u00cdD\\u011a? \\\"\\u017eijeme jen jednou.\\n\",\"1950 v\\u0161ichni pob\\u011b\\u017e\\u00ed mne vyslechnout Na tomto rozv\\u011btven\\u00ed To nejkr\\u00e1sn\\u011bj\\u0161\\u00ed co zn\\u00e1m je z\\u00e1vre? A ka\\u017ed\\u00e9ho 25 kv\\u011btna \\u043a\\u0435 konci odpoledne star\\u00fd \\u0118elescluze V masce srpne m\\u00ed\\u0159\\u00ed \\u043a Ohsteau-DzLau Seklo by se \\u017de ml\\u00e1t\\u00ed kadrami zrcadla do st\\u00ednu St\\u00e1le Hle padaj\\u00ed znovu k\\u0159\\u00eddla patrici nespoleh-ivci N\\u00e1hle klenba v cel\\u00e9 sv\\u00e9 hr\\u016fze Vyle\\u0161t\\u011bn\\u00e9 slovo rziv\\u00e9 a slepice ncv-hl\\u00e9 Kdo hry\\u017ee k\\u0159e\\u0161ou varhan z Barbarie Nen\\u00ed p\\u0159\\u00edli\\u0161 brzo kdy\\u017e se za\\u010d\\u00edn\\u00e1 uchylovat do bezpe\\u010d\\u00ed Forczu-Ht \\u017e- i \\u00e9niz Je uc\\u011bl\\u00e1n z e\\u00edem\\u00e9r Jedni z \\u017ee bi sv\\u00fdch my\\u0161lenek kter\\u00e9 mne inspirovaly nejv\\u00edc ze soucitu Je to key \\u017e se ver\\u00ed \\u017ee je mo\\u017en\\u00e9 pra\\u0161tit st\\u00ed\\u017enost\\u00ed cos ns chr oni srnu \\u2022 Jako po.\\n\",\" Odpov\\u011bdnosti, j\\u00ed\\u017e n\\u00e1s n\\u00e1siln\\u00e9 odnau\\u010dovali, ale j\\u00ed\\u017e j oco so tak\\u00e9 \\u010dasto kv\\u016fli sv\\u00e9mu zd\\u00e1nliv\\u00e9mu pohodl\\u00ed a bezpe\\u010d\\u00ed vzdali.\\n\",\" \\u017divot s ch\\u016fvou byl st\\u0159\\u00edzliv\\u00fd a nez\\u00e1\\u017eivn\\u00fd, sk\\u00fdtal ov\\u0161em bezpe\\u010d\\u00ed a pohodl\\u00ed a Dora, odjakt\\u011b\\u017eiva trochu l\\u00edn\\u00e1, mu po \\u010dase za\\u010dala p\\u0159ivykat.\\n\",\" Znamen\\u00e1 bezpe\\u010d\\u00ed, jistotu.\\n\",\" \\u201eNemysl\\u00edm, \\u017ee by hledala bezpe\\u010d\\u00ed pr\\u00e1v\\u011b touhle cestou.\\n\",\" \\u0160v\\u00fdcarsk\\u00e9 bankovnictv\\u00ed a poji\\u0161\\u0165ovnictv\\u00ed sk\\u00fdt\\u00e1 nejvy\\u0161\\u0161\\u00ed mo\\u017enou z\\u00e1ruku solidnosti a bezpe\\u010d\\u00ed.\\n\",\"Boj a konflikty nep\\u0159estanou,neexistuj\\u00ed opravdov\\u00e1 bezpe\\u010d\\u00ed, \\u00fat\\u011bcha,hranice na\\u0161\\u00ed existence je p\\u0159\\u00edli\\u0161 klau- strofobick\\u00e1.\\n\",\" Lenin napsal odpov\\u011b\\u010f anglicky p\\u0159\\u00edmo na telegrafn\\u00ed blanket: Pov\\u011bst nepravdiv\\u00e1 - b\\u00fdval\\u00fd car je v bezpe\\u010d\\u00ed - v\\u0161echny pov\\u011bsti jsou pouze l\\u017ei kapitalistick\\u00e9ho tisku (14).\\n\",\" \\u2666 Plat\\u00edte vysok\\u00e9 dan\\u011b? \\u0160v\\u00fdcarsk\\u00e9 bankovnictv\\u00ed a poji\\u0161\\u0165ovnictv\\u00ed sk\\u00fdt\\u00e1 nejvy\\u0161\\u0161\\u00ed mo\\u017enou z\\u00e1ruku solidnosti a bezpe\\u010d\\u00ed.\\n\",\" \\u2019 \\u201eCopak se temel\\u00edn\\u0161t\\u00ed nec\\u00edt\\u00ed v bezpe\\u010d\\u00ed?\\u201c zeptal jsem se.\\n\",\" To si uv\\u011bdomil pisatel t\\u011bchto vzpom\\u00ednek, kdy\\u017e sed\\u011bl v pokoji, upraven\\u00e9m pr\\u00fd tak, aby jeho obyvatel\\u00e9 byli v bezpe\\u010d\\u00ed.\\n\",\" Bavorsko je v\\u00edt\\u00e1no, ale 'nen\\u00ed podm\\u00ednkou' \\u201e28 \\u010cty\\u0159- a\\u017e \\u0161estin\\u00e1sobn\\u00e9 zv\\u011bt\\u0161en\\u00ed kapit\\u00e1lu! Zam\\u00fd\\u0161l\\u00edte podnikat? Chcete si za n\\u00edzk\\u00fdch \\u00farokov\\u00fdch sazeb pen\\u00edze p\\u016fj\\u010dit a na vysok\\u00e9 je ukl\\u00e1dat? \\u0160v\\u00fdcarsk\\u00e9 bankovnictv\\u00ed a poji\\u0161\\u0165ovnictv\\u00ed sk\\u00fdt\\u00e1 nejvy\\u0161\\u0161\\u00ed mo\\u017enou z\\u00e1ruku solidnosti a bezpe\\u010d\\u00ed.\\n\",\" \\\"NEBE\\\" V \\u017eivot\\u011b ka\\u017ed\\u00e9ho \\u010dlov\\u011bka existuj\\u00ed okam\\u017eiky vnit\\u0159n\\u00edho \\u0161t\\u011bst\\u00ed: pro\\u017eitky harmonie, bezpe\\u010d\\u00ed, svobody, pozn\\u00e1n\\u00ed, jistoty, s\\u00edly, pokoje, radosti, l\\u00e1sky atd.\\n\",\" Mysl\\u00edm, \\u017ee aspo\\u0148 v na\\u0161\\u00ed do- b\\u011b maj\\u00ed smysl jen ty n\\u00e1rody, kter\\u00e9 usiluj\\u00ed o demokracii a v\\u0161e, co je s n\\u00ed ide\\u00e1ln\\u011b spojen\\u00e9: o svobodu ducha, bezpe\\u010d\\u00ed t\\u011bla, slu\\u0161nost atd.\\n\",\" kde lidi obklopuje bezpe\\u010d\\u00ed a hmotn\\u00fd blahobyt, je jen prvn\\u00edm znamen\\u00edm st\\u00edsn\\u011bnosti, kter\\u00e1 se v\\u0161ude vzdouv\\u00e1.\\n\",\" Tyto kontakty s obh\\u00e1jci lidsk\\u00fdch pr\\u00e1v v\\u0161ak znamenaly pro Scheura ohro\\u017een\\u00ed jeho vlastn\\u00edho bezpe\\u010d\\u00ed.\\n\",\" V\\u0161ichni doufali, \\u017ee po dob\\u00e1ch kdy nebylo domova, bude jednota v bezpe\\u010d\\u00ed.\\n\",\" Od t\\u00e9 chv\\u00edle nesm\\u00edrn\\u011b narostlo ne- bezpe\\u010d\\u00ed zahrani\\u010dn\\u00ed intervence.\\n\",\"? * Zn\\u00e1te v\\u00fdhody \\\"t\\u0159et\\u00edho sloupce jistoty\\\"? * Cht\\u011bli byste v\\u011bd\\u011bt, co je bezpodm\\u00edne\\u010dn\\u011b nutn\\u00e9 a co m\\u00e9n\\u011b nutn\\u00e9 v ot\\u00e1zk\\u00e1ch poji\\u0161t\\u011bn\\u00ed? * Vy\\u0159izujeme n\\u00e1hrady \\u0161kod z poji\\u0161\\u0165oven ve CH, SRN, \\u010cSFR * Plat\\u00edte velk\\u00e9 dan\\u011b? \\u0160v\\u00fdcarsk\\u00e9 bankovnictv\\u00ed a poji\\u0161\\u0165ovnictv\\u00ed sk\\u00fdt\\u00e1 nejvy\\u0161\\u0161\\u00ed mo\\u017enou z\\u00e1ruku solidnosti a bezpe\\u010d\\u00ed.\\n\",\" Ty bude\\u0161 zat\\u00edm doma v bezpe\\u010d\\u00ed.\\n\",\" Uvnit\\u0159 - zaost\\u0159en\\u00ed na \\u00fasil\\u00ed z\\u00edskat co mo\\u017en\\u00e1 nejv\\u011bt\\u0161\\u00ed pohodl\\u00ed dosa\\u017eiteln\\u00e9 za dan\\u00fdch podm\\u00ednek, jako jedinou hmatatelnou m\\u00edru bezpe\\u010d\\u00ed.\\n\",\" Proto mysl\\u00edm, \\u017ee nyn\\u00ed je n\\u00e1\\u0161 d\\u00e9dy hezky daleko od Chicaga v bezpe\\u010d\\u00ed.\\n\",\" Slab\\u0161\\u00ed, jmenovit\\u011b \\u017eensk\\u00e9, za\\u010dali na\\u0159\\u00edkat a volat na \\u0159idi\\u010de, aby je rychle vyvezl do bezpe\\u010d\\u00ed.\\n\",\" Prav\\u00ed se, \\u017ee je o bezpe\\u010d\\u00ed on\\u00e9 osoby postar\\u00e1no mimo jin\\u00e9 t\\u00edm, \\u017ee byla vypravena v pr\\u016fvodu ochr\\u00e1nc\\u016f aeropl\\u00e1nem na pacifick\\u00e9 pob\\u0159e\\u017e\\u00ed a nyn\\u00ed jest bezpochyby ji\\u017e na oce\\u00e1nu, na cest\\u011b do n\\u011bkter\\u00e9ho asijsk\\u00e9ho p\\u0159\\u00edstavu, tedy daleko z dosahu rukou on\\u011bch \\u010dlen\\u016f gangu Ccsmano-Scarfagliova ,kte\\u0159\\u00ed p\\u0159i debaklu bandy z\\u016fstali je\\u0161t\\u011b na svobod\\u011b.\\n\",\" V situaci ochuzen\\u00ed a ot\\u0159esu, bez p\\u0159\\u00edjem- n\\u00e9ho a u\\u017eite\\u010dn\\u00e9ho bezpe\\u010d\\u00ed, jak\\u00e9 sk\\u00fdtaj\\u00ed univerzitn\\u00ed instituce, mo\\u017en\\u00e1 pr\\u00e1v\\u011b zde, kde se filosofie ned\\u011bl\\u00e1 z\\u00e1rove\\u0148 s kari\\u00e9rou, za\\u010d\\u00edn\\u00e1 se ch\\u00e1pat, \\u017ee filosofie je z\\u00e1kladn\\u00ed.\\n\",\" Vytou\\u017een\\u00e9 z\\u00e1ti\\u0161\\u00ed, obal n\\u00e1s m\\u011bkkost\\u00ed bezpe\\u010d\\u00ed, pocitem, kter\\u00fd jsme ztratili s bezelstnost\\u00ed d\\u011btstv\\u00ed.\\n\",\" A kdyby to tenkr\\u00e1t b\\u00fdvalo Untungov\\u00fdm marxistick\\u00fdm pu\\u010dist\\u016fm vy\\u0161lo, komunismus by ted z indon\\u00e9sk\\u00e9ho Z\\u00e1padn\\u00edho Iri\\u00e1nu \\u002fNov\\u00e1 Guinea\\u002f znovu sahal na krk e- xulant\\u016fm, kte\\u0159\\u00ed p\\u0159ed n\\u00edm utekli do toho nejbezpe\\u010dn\\u011bj\\u0161\\u00edho bezpe\\u010d\\u00ed.\\n\",\" A op\\u011bt, na tak vratk\\u00fdch z\\u00e1kladech, na existenci kliky gener\\u00e1l\\u016f, kte\\u0159\\u00ed kdysi n\\u00e1hodou p\\u0159e\\u017eili komunistick\\u00fd pu\\u010d, z\\u00e1vis\\u00ed z\\u010d\\u00e1sti bezpe\\u010d\\u00ed \\\"\\u00fatulku p\\u0159ed komunismem\\\" na druh\\u00e9m konci sv\\u011bta.\\n\",\" Ale ov\\u0161em, Timor nen\\u00ed jedinou p\\u0159edstavitelnou hrozbou tomuto fiktivn\\u00edmu bezpe\\u010d\\u00ed.\\n\",\" Mal\\u00e1 zm\\u011bna v politick\\u00e9m naz\\u00edr\\u00e1n\\u00ed v\\u016fdc\\u016f Rud\\u00e9 C\\u00edny, jej\\u00ed\\u017e sbl\\u00ed\\u017een\\u00ed s ideologick\\u00fdmi bratranci v Sov\\u011btsk\\u00e9m Svazu se ned\\u00e1 na v\\u011bky vylou\\u010dit, a kde je bezpe\\u010d\\u00ed australsk\\u00e9ho kontinentu? \\u010c\\u00edm d\\u0159\\u00edve si exulant uv\\u011bdom\\u00ed, \\u017ee pro politick\\u00e9ho \\u017eivo\\u010dicha nen\\u00ed \\u00faniku, t\\u00edm v\\u011bt\\u0161\\u00ed nad\\u011bje na ozdrav\\u011bn\\u00ed jeho my\\u0161len\\u00ed.\\n\",\" Prost\\u011b a jednodu\\u0161e: hled\\u00e1me bezpe\\u010d\\u00ed, kter\\u00e9 nen\\u00ed z tohoto sv\\u011bta.\\n\",\" V Moskv\\u011b jsou lid\\u00e9 s dobrou pam\\u011bt\\u00ed a ti se pamatuj\\u00ed, co psala \\\"Pravda\\\" v roce 1968 o pronik\\u00e1ni z\\u00e1padon\\u011bmeck\\u00e9ho kapit\\u00e1lu do \\u010ceskoslovenska: \\\"Ted n\\u00e1m hroz\\u00ed stejn\\u00e9 ne- bezpe\\u010d\\u00ed\\\", \\u0159\\u00edkaj\\u00ed.\\n\",\" Je p\\u0159\\u00edznakem dne\\u0161n\\u00ed doby zmatku, \\u017ee se ideologie a oce\\u0148ov\\u00e1n\\u00ed vlastn\\u00edch z\\u00e1jm\\u016f m\\u011bn\\u00ed rychleji, nez kdy jindy a \\u017ee zahrani\\u010dn\\u00ed politika v\\u011bt\\u0161iny st\\u00e1t\\u016f postr\\u00e1d\\u00e1 kontinuity, je\\u017e jedin\\u00e1 m\\u016f\\u017ee d\\u00e1ti sv\\u011btu klid a bezpe\\u010d\\u00ed.\\n\"],\"x\":[88.36247253417969,-13.582488059997559,60.60203552246094,-64.58370208740234,72.8927230834961,85.367919921875,42.070064544677734,-23.230985641479492,-37.68642044067383,371.57391357421875,113.51280212402344,40.89397430419922,-77.60995483398438,51.810245513916016,85.30741882324219,23.137775421142578,-14.207473754882812,-46.61916732788086,40.89397430419922,83.95616912841797,34.659793853759766,-8.274099349975586,-64.79187774658203,-40.730350494384766,-32.934879302978516,-43.1595458984375,-113.88874816894531,101.82789611816406,-2.7508811950683594,15.557881355285645,46.39435958862305,-90.27439880371094,-49.49251174926758,-3.408531904220581,106.12371063232422,16.438875198364258,-57.33989715576172,40.89397430419922,27.73299789428711,-83.7183837890625,128.65635681152344,-132.9355010986328,-10.116739273071289,71.30381774902344,-64.48939514160156,15.617987632751465,48.745182037353516,-5.237812042236328,79.90776824951172,-98.17121887207031,-14.723222732543945,8.537949562072754,40.89397430419922,23.137775421142578,27.0269832611084,-90.72630310058594,56.358985900878906,-4.851571559906006,86.99039459228516,-107.2749252319336,-121.65302276611328,46.57424545288086,-65.12242126464844,102.2257308959961,-61.76655197143555,-58.66455078125,-12.93920612335205,-44.157012939453125,64.1735610961914,-13.338454246520996,-53.14691162109375,-94.11312866210938,43.922908782958984,8.537949562072754,32.58732986450195,-110.24771118164062,54.42170333862305,51.53731155395508,-97.62216186523438,-26.818424224853516,-35.630615234375,21.28281021118164,-90.27141571044922,34.659793853759766,62.622352600097656,29.157094955444336,89.39485168457031,66.49090576171875,-22.85822105407715,-5.663684844970703,8.685032844543457,-45.79844665527344,-48.842529296875,-8.126264572143555,-20.444128036499023,-3.7032787799835205,33.54703903198242,-69.00064849853516],\"y\":[9.735064506530762,-44.45650100708008,21.71430015563965,10.372354507446289,51.27134323120117,-13.27181625366211,57.57066345214844,-125.94432830810547,-91.84510040283203,52.857261657714844,36.541053771972656,18.279733657836914,43.03461837768555,-102.06298065185547,-87.0092544555664,61.312164306640625,31.558935165405273,-9.857099533081055,18.279733657836914,-5.994024753570557,81.93724822998047,-120.52531433105469,-27.656221389770508,-29.54425621032715,-11.225303649902344,85.02654266357422,5.318226337432861,28.480363845825195,-30.934846878051758,-58.966243743896484,-48.02944564819336,-82.82649230957031,-66.84263610839844,10.583929061889648,-57.366783142089844,-19.713056564331055,-67.39949035644531,18.279733657836914,-84.80195617675781,-18.399158477783203,-13.803776741027832,-31.73410415649414,-18.04568862915039,-8.554875373840332,-82.16095733642578,-16.233318328857422,-40.79314041137695,-83.4217758178711,-57.60215377807617,66.7437973022461,56.84463882446289,41.20529556274414,18.279733657836914,61.312164306640625,83.46202850341797,-90.87191009521484,-97.73426818847656,-68.43913269042969,-42.876895904541016,-4.116739273071289,-43.782161712646484,5.295356750488281,19.67789077758789,64.21920013427734,97.92082214355469,45.60255432128906,-60.77056884765625,-31.489107131958008,101.31082916259766,74.43807220458984,-109.86921691894531,86.38765716552734,-20.783876419067383,41.20529556274414,58.904937744140625,-44.34738540649414,100.02320861816406,-99.1717300415039,41.54759216308594,-32.957359313964844,19.349365234375,26.050373077392578,-33.680789947509766,81.93724822998047,40.44425964355469,-10.213470458984375,67.10674285888672,-26.9627742767334,80.87738800048828,8.801826477050781,-102.26032257080078,37.229522705078125,59.17736053466797,82.83927917480469,19.464744567871094,108.10650634765625,-71.35580444335938,30.044282913208008],\"z\":[-113.17189025878906,-106.19577026367188,-63.974143981933594,-48.03099060058594,-6.891716957092285,0.9678946733474731,-101.00875091552734,55.989349365234375,-79.98162078857422,61.3929557800293,-23.666149139404297,30.36367416381836,-16.802043914794922,-5.680034637451172,-17.200220108032227,-35.10531234741211,-117.101318359375,-94.83280181884766,30.36367416381836,-53.705135345458984,16.6863956451416,-23.80803680419922,9.273797035217285,73.26522064208984,112.41876983642578,-46.18082809448242,-38.777679443359375,51.820037841796875,76.82768249511719,58.170501708984375,21.19198226928711,16.3189754486084,44.96754455566406,-42.38229751586914,-55.10572814941406,-47.934688568115234,-24.307777404785156,30.36367416381836,-38.33931350708008,52.0277099609375,15.008988380432129,47.7476921081543,36.91339111328125,59.66608428955078,74.03533172607422,-9.15949821472168,-23.38506317138672,105.34700775146484,76.0397720336914,-51.65485763549805,104.30970001220703,4.825000762939453,30.36367416381836,-35.10531234741211,107.61788177490234,-56.41162109375,-74.6669692993164,12.276580810546875,17.294029235839844,22.202939987182617,-52.1754150390625,-31.511062622070312,30.86805534362793,32.2854118347168,57.93730926513672,-93.53336334228516,-48.124290466308594,-48.057456970214844,67.53915405273438,56.6212043762207,1.7675774097442627,5.5813212394714355,101.75531005859375,4.825000762939453,68.46959686279297,-6.581526279449463,-26.580747604370117,42.7882194519043,49.405296325683594,-2.7920098304748535,-1.8434892892837524,97.21517944335938,-94.46485137939453,16.6863956451416,94.16343688964844,-113.51842498779297,-57.53406524658203,-74.7527084350586,-2.7188735008239746,-85.16722869873047,24.189159393310547,-44.1700553894043,22.72115135192871,-83.2416763305664,54.20308303833008,61.1265869140625,-90.24561309814453,88.27037048339844],\"type\":\"scatter3d\"}],                        {\"template\":{\"data\":{\"histogram2dcontour\":[{\"type\":\"histogram2dcontour\",\"colorbar\":{\"outlinewidth\":0,\"ticks\":\"\"},\"colorscale\":[[0.0,\"#0d0887\"],[0.1111111111111111,\"#46039f\"],[0.2222222222222222,\"#7201a8\"],[0.3333333333333333,\"#9c179e\"],[0.4444444444444444,\"#bd3786\"],[0.5555555555555556,\"#d8576b\"],[0.6666666666666666,\"#ed7953\"],[0.7777777777777778,\"#fb9f3a\"],[0.8888888888888888,\"#fdca26\"],[1.0,\"#f0f921\"]]}],\"choropleth\":[{\"type\":\"choropleth\",\"colorbar\":{\"outlinewidth\":0,\"ticks\":\"\"}}],\"histogram2d\":[{\"type\":\"histogram2d\",\"colorbar\":{\"outlinewidth\":0,\"ticks\":\"\"},\"colorscale\":[[0.0,\"#0d0887\"],[0.1111111111111111,\"#46039f\"],[0.2222222222222222,\"#7201a8\"],[0.3333333333333333,\"#9c179e\"],[0.4444444444444444,\"#bd3786\"],[0.5555555555555556,\"#d8576b\"],[0.6666666666666666,\"#ed7953\"],[0.7777777777777778,\"#fb9f3a\"],[0.8888888888888888,\"#fdca26\"],[1.0,\"#f0f921\"]]}],\"heatmap\":[{\"type\":\"heatmap\",\"colorbar\":{\"outlinewidth\":0,\"ticks\":\"\"},\"colorscale\":[[0.0,\"#0d0887\"],[0.1111111111111111,\"#46039f\"],[0.2222222222222222,\"#7201a8\"],[0.3333333333333333,\"#9c179e\"],[0.4444444444444444,\"#bd3786\"],[0.5555555555555556,\"#d8576b\"],[0.6666666666666666,\"#ed7953\"],[0.7777777777777778,\"#fb9f3a\"],[0.8888888888888888,\"#fdca26\"],[1.0,\"#f0f921\"]]}],\"heatmapgl\":[{\"type\":\"heatmapgl\",\"colorbar\":{\"outlinewidth\":0,\"ticks\":\"\"},\"colorscale\":[[0.0,\"#0d0887\"],[0.1111111111111111,\"#46039f\"],[0.2222222222222222,\"#7201a8\"],[0.3333333333333333,\"#9c179e\"],[0.4444444444444444,\"#bd3786\"],[0.5555555555555556,\"#d8576b\"],[0.6666666666666666,\"#ed7953\"],[0.7777777777777778,\"#fb9f3a\"],[0.8888888888888888,\"#fdca26\"],[1.0,\"#f0f921\"]]}],\"contourcarpet\":[{\"type\":\"contourcarpet\",\"colorbar\":{\"outlinewidth\":0,\"ticks\":\"\"}}],\"contour\":[{\"type\":\"contour\",\"colorbar\":{\"outlinewidth\":0,\"ticks\":\"\"},\"colorscale\":[[0.0,\"#0d0887\"],[0.1111111111111111,\"#46039f\"],[0.2222222222222222,\"#7201a8\"],[0.3333333333333333,\"#9c179e\"],[0.4444444444444444,\"#bd3786\"],[0.5555555555555556,\"#d8576b\"],[0.6666666666666666,\"#ed7953\"],[0.7777777777777778,\"#fb9f3a\"],[0.8888888888888888,\"#fdca26\"],[1.0,\"#f0f921\"]]}],\"surface\":[{\"type\":\"surface\",\"colorbar\":{\"outlinewidth\":0,\"ticks\":\"\"},\"colorscale\":[[0.0,\"#0d0887\"],[0.1111111111111111,\"#46039f\"],[0.2222222222222222,\"#7201a8\"],[0.3333333333333333,\"#9c179e\"],[0.4444444444444444,\"#bd3786\"],[0.5555555555555556,\"#d8576b\"],[0.6666666666666666,\"#ed7953\"],[0.7777777777777778,\"#fb9f3a\"],[0.8888888888888888,\"#fdca26\"],[1.0,\"#f0f921\"]]}],\"mesh3d\":[{\"type\":\"mesh3d\",\"colorbar\":{\"outlinewidth\":0,\"ticks\":\"\"}}],\"scatter\":[{\"fillpattern\":{\"fillmode\":\"overlay\",\"size\":10,\"solidity\":0.2},\"type\":\"scatter\"}],\"parcoords\":[{\"type\":\"parcoords\",\"line\":{\"colorbar\":{\"outlinewidth\":0,\"ticks\":\"\"}}}],\"scatterpolargl\":[{\"type\":\"scatterpolargl\",\"marker\":{\"colorbar\":{\"outlinewidth\":0,\"ticks\":\"\"}}}],\"bar\":[{\"error_x\":{\"color\":\"#2a3f5f\"},\"error_y\":{\"color\":\"#2a3f5f\"},\"marker\":{\"line\":{\"color\":\"#E5ECF6\",\"width\":0.5},\"pattern\":{\"fillmode\":\"overlay\",\"size\":10,\"solidity\":0.2}},\"type\":\"bar\"}],\"scattergeo\":[{\"type\":\"scattergeo\",\"marker\":{\"colorbar\":{\"outlinewidth\":0,\"ticks\":\"\"}}}],\"scatterpolar\":[{\"type\":\"scatterpolar\",\"marker\":{\"colorbar\":{\"outlinewidth\":0,\"ticks\":\"\"}}}],\"histogram\":[{\"marker\":{\"pattern\":{\"fillmode\":\"overlay\",\"size\":10,\"solidity\":0.2}},\"type\":\"histogram\"}],\"scattergl\":[{\"type\":\"scattergl\",\"marker\":{\"colorbar\":{\"outlinewidth\":0,\"ticks\":\"\"}}}],\"scatter3d\":[{\"type\":\"scatter3d\",\"line\":{\"colorbar\":{\"outlinewidth\":0,\"ticks\":\"\"}},\"marker\":{\"colorbar\":{\"outlinewidth\":0,\"ticks\":\"\"}}}],\"scattermapbox\":[{\"type\":\"scattermapbox\",\"marker\":{\"colorbar\":{\"outlinewidth\":0,\"ticks\":\"\"}}}],\"scatterternary\":[{\"type\":\"scatterternary\",\"marker\":{\"colorbar\":{\"outlinewidth\":0,\"ticks\":\"\"}}}],\"scattercarpet\":[{\"type\":\"scattercarpet\",\"marker\":{\"colorbar\":{\"outlinewidth\":0,\"ticks\":\"\"}}}],\"carpet\":[{\"aaxis\":{\"endlinecolor\":\"#2a3f5f\",\"gridcolor\":\"white\",\"linecolor\":\"white\",\"minorgridcolor\":\"white\",\"startlinecolor\":\"#2a3f5f\"},\"baxis\":{\"endlinecolor\":\"#2a3f5f\",\"gridcolor\":\"white\",\"linecolor\":\"white\",\"minorgridcolor\":\"white\",\"startlinecolor\":\"#2a3f5f\"},\"type\":\"carpet\"}],\"table\":[{\"cells\":{\"fill\":{\"color\":\"#EBF0F8\"},\"line\":{\"color\":\"white\"}},\"header\":{\"fill\":{\"color\":\"#C8D4E3\"},\"line\":{\"color\":\"white\"}},\"type\":\"table\"}],\"barpolar\":[{\"marker\":{\"line\":{\"color\":\"#E5ECF6\",\"width\":0.5},\"pattern\":{\"fillmode\":\"overlay\",\"size\":10,\"solidity\":0.2}},\"type\":\"barpolar\"}],\"pie\":[{\"automargin\":true,\"type\":\"pie\"}]},\"layout\":{\"autotypenumbers\":\"strict\",\"colorway\":[\"#636efa\",\"#EF553B\",\"#00cc96\",\"#ab63fa\",\"#FFA15A\",\"#19d3f3\",\"#FF6692\",\"#B6E880\",\"#FF97FF\",\"#FECB52\"],\"font\":{\"color\":\"#2a3f5f\"},\"hovermode\":\"closest\",\"hoverlabel\":{\"align\":\"left\"},\"paper_bgcolor\":\"white\",\"plot_bgcolor\":\"#E5ECF6\",\"polar\":{\"bgcolor\":\"#E5ECF6\",\"angularaxis\":{\"gridcolor\":\"white\",\"linecolor\":\"white\",\"ticks\":\"\"},\"radialaxis\":{\"gridcolor\":\"white\",\"linecolor\":\"white\",\"ticks\":\"\"}},\"ternary\":{\"bgcolor\":\"#E5ECF6\",\"aaxis\":{\"gridcolor\":\"white\",\"linecolor\":\"white\",\"ticks\":\"\"},\"baxis\":{\"gridcolor\":\"white\",\"linecolor\":\"white\",\"ticks\":\"\"},\"caxis\":{\"gridcolor\":\"white\",\"linecolor\":\"white\",\"ticks\":\"\"}},\"coloraxis\":{\"colorbar\":{\"outlinewidth\":0,\"ticks\":\"\"}},\"colorscale\":{\"sequential\":[[0.0,\"#0d0887\"],[0.1111111111111111,\"#46039f\"],[0.2222222222222222,\"#7201a8\"],[0.3333333333333333,\"#9c179e\"],[0.4444444444444444,\"#bd3786\"],[0.5555555555555556,\"#d8576b\"],[0.6666666666666666,\"#ed7953\"],[0.7777777777777778,\"#fb9f3a\"],[0.8888888888888888,\"#fdca26\"],[1.0,\"#f0f921\"]],\"sequentialminus\":[[0.0,\"#0d0887\"],[0.1111111111111111,\"#46039f\"],[0.2222222222222222,\"#7201a8\"],[0.3333333333333333,\"#9c179e\"],[0.4444444444444444,\"#bd3786\"],[0.5555555555555556,\"#d8576b\"],[0.6666666666666666,\"#ed7953\"],[0.7777777777777778,\"#fb9f3a\"],[0.8888888888888888,\"#fdca26\"],[1.0,\"#f0f921\"]],\"diverging\":[[0,\"#8e0152\"],[0.1,\"#c51b7d\"],[0.2,\"#de77ae\"],[0.3,\"#f1b6da\"],[0.4,\"#fde0ef\"],[0.5,\"#f7f7f7\"],[0.6,\"#e6f5d0\"],[0.7,\"#b8e186\"],[0.8,\"#7fbc41\"],[0.9,\"#4d9221\"],[1,\"#276419\"]]},\"xaxis\":{\"gridcolor\":\"white\",\"linecolor\":\"white\",\"ticks\":\"\",\"title\":{\"standoff\":15},\"zerolinecolor\":\"white\",\"automargin\":true,\"zerolinewidth\":2},\"yaxis\":{\"gridcolor\":\"white\",\"linecolor\":\"white\",\"ticks\":\"\",\"title\":{\"standoff\":15},\"zerolinecolor\":\"white\",\"automargin\":true,\"zerolinewidth\":2},\"scene\":{\"xaxis\":{\"backgroundcolor\":\"#E5ECF6\",\"gridcolor\":\"white\",\"linecolor\":\"white\",\"showbackground\":true,\"ticks\":\"\",\"zerolinecolor\":\"white\",\"gridwidth\":2},\"yaxis\":{\"backgroundcolor\":\"#E5ECF6\",\"gridcolor\":\"white\",\"linecolor\":\"white\",\"showbackground\":true,\"ticks\":\"\",\"zerolinecolor\":\"white\",\"gridwidth\":2},\"zaxis\":{\"backgroundcolor\":\"#E5ECF6\",\"gridcolor\":\"white\",\"linecolor\":\"white\",\"showbackground\":true,\"ticks\":\"\",\"zerolinecolor\":\"white\",\"gridwidth\":2}},\"shapedefaults\":{\"line\":{\"color\":\"#2a3f5f\"}},\"annotationdefaults\":{\"arrowcolor\":\"#2a3f5f\",\"arrowhead\":0,\"arrowwidth\":1},\"geo\":{\"bgcolor\":\"white\",\"landcolor\":\"#E5ECF6\",\"subunitcolor\":\"white\",\"showland\":true,\"showlakes\":true,\"lakecolor\":\"white\"},\"title\":{\"x\":0.05},\"mapbox\":{\"style\":\"light\"}}},\"scene\":{\"xaxis\":{\"title\":{\"text\":\"X Axis\"},\"showgrid\":false,\"showline\":false,\"zeroline\":false},\"yaxis\":{\"title\":{\"text\":\"Y Axis\"},\"showgrid\":false,\"showline\":false,\"zeroline\":false},\"zaxis\":{\"title\":{\"text\":\"Z Axis\"},\"showgrid\":false,\"showline\":false,\"zeroline\":false}},\"title\":{\"text\":\"Sentences with 'bezpe\\u010d\\u00ed' (N=98)\"}},                        {\"responsive\": true}                    ).then(function(){\n",
       "                            \n",
       "var gd = document.getElementById('6cb5c914-4f68-4efc-b68b-e6b72023bafc');\n",
       "var x = new MutationObserver(function (mutations, observer) {{\n",
       "        var display = window.getComputedStyle(gd).display;\n",
       "        if (!display || display === 'none') {{\n",
       "            console.log([gd, 'removed!']);\n",
       "            Plotly.purge(gd);\n",
       "            observer.disconnect();\n",
       "        }}\n",
       "}});\n",
       "\n",
       "// Listen for the removal of the full notebook cells\n",
       "var notebookContainer = gd.closest('#notebook-container');\n",
       "if (notebookContainer) {{\n",
       "    x.observe(notebookContainer, {childList: true});\n",
       "}}\n",
       "\n",
       "// Listen for the clearing of the current output cell\n",
       "var outputEl = gd.closest('.output');\n",
       "if (outputEl) {{\n",
       "    x.observe(outputEl, {childList: true});\n",
       "}}\n",
       "\n",
       "                        })                };                });            </script>        </div>"
      ]
     },
     "metadata": {},
     "output_type": "display_data"
    }
   ],
   "execution_count": 120
  },
  {
   "metadata": {},
   "cell_type": "code",
   "outputs": [],
   "execution_count": null,
   "source": "cosine_sim_matrix",
   "id": "670a93607774651c"
  },
  {
   "metadata": {},
   "cell_type": "code",
   "outputs": [],
   "execution_count": null,
   "source": [
    "import plotly\n",
    "import plotly.express as px"
   ],
   "id": "f6445d6b847745ed"
  }
 ],
 "metadata": {
  "kernelspec": {
   "display_name": "brewkernel",
   "language": "python",
   "name": "brewkernel"
  },
  "language_info": {
   "codemirror_mode": {
    "name": "ipython",
    "version": 2
   },
   "file_extension": ".py",
   "mimetype": "text/x-python",
   "name": "python",
   "nbconvert_exporter": "python",
   "pygments_lexer": "ipython2",
   "version": "2.7.6"
  }
 },
 "nbformat": 4,
 "nbformat_minor": 5
}
