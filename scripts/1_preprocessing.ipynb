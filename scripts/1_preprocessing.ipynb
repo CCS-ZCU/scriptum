{
 "cells": [
  {
   "cell_type": "code",
   "metadata": {
    "execution_time": 1,
    "ExecuteTime": {
     "end_time": "2025-05-21T10:40:31.198159Z",
     "start_time": "2025-05-21T10:40:28.328129Z"
    }
   },
   "source": [
    "import fitz\n",
    "import requests\n",
    "import io\n",
    "import pickle\n",
    "import os\n",
    "from PIL import Image\n",
    "import numpy as np\n",
    "import matplotlib.pyplot as plt\n",
    "import matplotlib.patches as patches\n",
    "import re\n",
    "from bs4 import BeautifulSoup\n",
    "import pandas as pd\n",
    "import nltk\n",
    "import stanza\n",
    "import json"
   ],
   "outputs": [],
   "execution_count": 1
  },
  {
   "metadata": {
    "ExecuteTime": {
     "end_time": "2025-05-21T10:40:31.240057Z",
     "start_time": "2025-05-21T10:40:31.229103Z"
    }
   },
   "cell_type": "code",
   "source": [
    "path = \"../data/rawtexts/\"\n",
    "filenames = os.listdir(path)\n",
    "len(filenames)"
   ],
   "outputs": [
    {
     "data": {
      "text/plain": [
       "11615"
      ]
     },
     "execution_count": 2,
     "metadata": {},
     "output_type": "execute_result"
    }
   ],
   "execution_count": 2
  },
  {
   "metadata": {
    "ExecuteTime": {
     "end_time": "2025-05-21T10:40:33.516251Z",
     "start_time": "2025-05-21T10:40:33.512499Z"
    }
   },
   "cell_type": "code",
   "source": [
    "filename = filenames[10]\n",
    "with open(path + filename) as f:\n",
    "    text = f.read()\n",
    "print(text[:10000])"
   ],
   "outputs": [
    {
     "name": "stdout",
     "output_type": "stream",
     "text": [
      "I N F O R M A C E . O C Í R K V I 1 9 8 1 Jsem -unaven a za smrt prosľrn Boha - jen nevidět u2, jak j i ita ctnost, a vynášena nicka přeubohá, a křivdju rozšlapána r:./, :.n:i?st, a oaívána zlatem nemc/ic• u; ľ .jt, a v trhu'prodávána g.1v.:í 't, a pokálena' \"bezúhonná vrvicnost, a utloukáno to, co eilnti ;j st, a umení jak .paniku v.'Ľ'dô, a doktor Blbec káže ge:i:;vVn, a lumkové'se posmívá.i.f pz-vrdě, a Ľjb;.o babě Zlu jak r.;~icj^-T důta • tím světemounaven, tak rád bych - Leč tebe zůstavit mu na pospas? William Shakespeare [pageend1]- 1 - Dojis Juliu_^abriSovii_tiskupu^v_Trnavět V Praze 6. 2. 1S81. Vaše Bxelence ! Jsem stále žádán věřícími, abych Vám sdělil toto. aši katolíci přijali velmi kladně prohlášení bratislavských bohoslovců o PIT. ITyní se s bolestí dovídáme, že bohoslovcům bylo sděleno, aby ne- nastupovali do bratislavského semináře. Prý budova praskla. Tento důvod sc nám zdá směšný; jde jistě o záminku. 0 jakou, potvrzují výslechy jednotlivých bohoslovců, které provádí STB. S rozhořčením odmítáme takové jednání. Postoj k PiT přece nemu- če být předmětem výslech«! státních orgánů, Z hlediska církevního práva tento spolek schválení nemá, jeho činnost budí všeobecný od- por věřících a o duchovní či teologické úrovni diťficile est sfiti- ram non seribere. Lstatně není arfi podle státního práva řádně ustaven. Prosíme Vás, Vaši exelence, juko místního ordinárc a předsedu sboru slovenských ordinářů, abyste rozhodně protestoval u kompe- tentních úřadu a bohoslovců se energicky zastal. Nechceme rozvířit \"podpisovou akci\" na jejich podporu, hodlíme se za ně, za Vás, ale dožadujeme se za ne práv a svobod, které jim podle státních zákonů náleží. Úryvky z promluvy pana kardinály .'Berana ke krajanům ve Washing- tonu_15._dubna_19^.6 /podle zvukového záznamu£ Z knihy i!; ovým světem1- Cesta kardinála Josef.H 'ernna do Spoje- ných státu amerických a Kanady, fdm lc>67. Přátelská slova Jsem\" bpráVďu šTastný, že jsem měl mocnost zavítat sem do ovo- bodné Ameriky mezi Vás, mezi své krajany, poněvadž i Vy jnto byli z těch, kteří svými modlitbami mě posilovali a povzbuzovali v oněch čtrnácti či patnacti letech mého internovaní. Já jsem to ne- věděl, že celý svět se za mne modlí. Teprve když jsem byl amnesto- ván, dostával jsem dopisy z celého světa Bylo o mně rozhlašováno a tvrzeno, že jsem svou tvrdohla- vostí jako beran kazil a ničil všechny pokusy o usmíření nebo něja- ké urovnání. Tedy to nebylo spravedlivé. jJá jsein jistě stál na svém, to ano. Ale bylo to v roce, myslím 1955-1956, když přišli páni z ministerstva vnitra, že se jim zdá, že pomery u nás jsou takové, že by snad mohlo dojít k nějakému urovnání. Já jsem řekl: \"Ano, beze všeho, ale musím se nějak dohodnout se svatým Otcem, s Vatikánem, s Římem. Dovolte mi do Vídně, na nunciaturu - poněvadž u nás už nunciatura nebyla - a já se pokusím nějak se dohodnout.\" \"To by nešlo'\" - odpověděli. Tak jsem řekl: -Dobře, já napíšu dopis svaté- mu Otci.\" A poněvadž bylo ode mne žádáno, abych podepsal příslib věrnosti a oddanosti, že nebudu pracovat proti předpisílm a zákonům, tak jsem připravil a přiložil letinský překlad toho příslibu. Za nějakou dobu přišli ti pani a řekli: \"UŽ je to nemožné, poněvadž se vysiťtl případ kardinála hinszentyho v Uhrách.\" Já jsem tedy nepře- kazil tu možnost, tu příležitost, která se v té době opravdu nas- kytla k jakémusi urovnání. Já jsem řekl ze své strany wAno\", žádal jsem jen schválení svatého Otce. Byl jsem pak ochoten vykonat co mi bylo možné. A i jinak jsem se snažil vždycky, abych - pokud to okolnosti dovolovaly - vycházet vstříc, když to bylo ode mne záda- no. y Když jsem v roce šedesátém třetím byl amnestovan, nastaly pome- ry trochu mírnější, lepší. Ale přece jenom nebylo možno tak úplně volně a svobodně mluvit a jednat, jak by byly okolnosti sarné vyža- dovaly. Bylo pro mne překvapením, když jsem potom obdržel dopis svatého Otce, kde mi oznamoval, že v nejbli;ší konsistoři budu jmenován kardinálem. Vláda šla přání Svatého stolce tak dalece o- chotně vstříc, že konečně dovolila, abych se odebral do íiíma s podmínkou, že se už nevrátím nazpět, lení tedy pravdou, co bylo [pageend2]- 2 - hlášeno naší radiovou stanicí, Že já sám jsem si přál, abych. už trvale zůstal v Římě. Ale doufám, že se přece jenom ty poměry tak dalece urovnají, abych se mohl vrátit k tomu lidu svému, který to- lik miluji a který se stále ¿a to modlí. Vynasnažím se i zde, ve svém nedobrovolném exilu jenom prospět svému národu. Já jsem nikdy nic špatného proti vlasti a proti národu neřekl a neřeknu. A to jsem také výslovně naosal, kdy? jsem se dozvěděl tehdy o té pod- mínce, pod kterou mi bylo dovoleno jet do Říma, že je mi líto, že musím zastat zde, v exilu, a Žc doufám, že přece jenom ty poměry se tak dalece upraví, aby to bylo k dobru toho národa, který milu- ji, a také k dobru Církve a náboženství a je to trochu v naší povaze české, Že nedovedeme spolupracovat tak sjednoceni, jak by toho vyžadovaly okolnosti naší doby. Í.odlím se hodně na ten úmysl a včera, v promluvě v kostele svatého Václa- va v-Baltimore, jsem to výslovně řekl: \"Svatý Václav, když umíral, tak se modlil za svého bratra: -To ti Půh odpust, bratře;\" I'y bí musíme také navzájem odpouštět, i když nám je ublíženo někdy oprav- du nespravedlivě. Eůh odměňuje sílu té lusky vzájemné - i za tako- vých okolností, - hojnou svou pomocí a hojným E?v$m požohnáním. Co si máme představit pod pojmy: posmrtný život, zmrtvýchvstání, r<2b§_? Nedávno přišli televizní reportéři za belgickým kardinálem Suenensem a položili mu otázku: »'Co »čekáváte vy po smrti?Kardi- nám odpověděl: <'Ct čekám po smrti, to není jen otázka pro kněze n biskupy. To je otázka pro každého člověka, protože podle toho, jak si na ni člověk odpoví, určuje a ovlivňuje zpiioob jeho života. Po- vím vám, jak to bylo se mnou. Jako každý mladý člověk, i j:5. jsem stál před otázkou, co to znamená věčnost, je-li Bůh. A řekl jsem si, že existuje-li nekonečno /tak tomu říkali učitelé matematiky/, existuje-li věčnost /tak tomu říkal náš pan farái, , pak se na té věčnosti chci podílet, a to dobře podílet. A pochopil jsem, že nej- lepší cestou, jak dosáhnout dobré věčnosti pro sebe, je nepochybně pomáhat lc dobré věčnosti jiným. Proto jsem se rozhodl, že budu knč- zem. A byla to také otázka lidského utrpení, která v mém rozhodnutí a uvažování hrála úlohu, iemá-li být lidské utrpení nesmyslné, ab- surdní, nemůže být koncem všeho, posledním slovem lid3ké existence. Utrpení a umírání mají smysl jako lidské porodní bolesti plnějšího života. Jistě rozumíte, v jakém smyslu to říkám: Dítě žije v lůně matky, ale íe to život neúplný, má smysl jen ja- ko růst pro život vyšší, plnější. Bolestmi rozené dítě pak vstupuje do tohoto plnějšího života. A já si představuji, že to tak je i dál. I náš život zde na světě je neúplný, je to jen zrání a průprava k třetí formě existence, k plné existenci v Bohu. iY{y jsme se vlastně ještě plně nenarodili, ještě nemáme plné lidství, ještě jsme embryi Božího člověčenství. Ještě nás čekají porodní bolesti, t.j, těles- ná smrt, jako brána do plného bytí Božího,\" Toto řekl reportérovi kardinál Suenens. Všimli jste si, že ne- mluvil o žádném onom světě ? On dobře ví, že je to matoucí výraz, Bůh stvořil jeden svět, jeden jediný a jednotný kosmos a vše, co je, do něho patří. Podstatou toho jsoucna, je bůh, je jeho Počátkem^ Moudrostí, Zákonem, Životem, láskou i Cílem i Koncom všeho. Z jeh* lásky se vše rodí a vše, co v jeho lásce setrvává, to zas s jeho věčnou láskou nakonec splyne. Všechna líčení, všechno mluvení, co je za naší smrtí, je jen po- dobenství, mluva obrazná. Tam naše lidslcá zkušenost ještě nesahá. Ani bible nemluví jinak než v lidských představách, v obrazech. Ale stačí to k pochopení, že ptá-li se mne někdo, má-li člověk budouc- nost i za smrtí, mohu odpovědět: budoucností člověka je Bůh. 21eptá- [pageend3]- 3 - li se mně někdo: Kde Žijí naši 2emřelí ? - ení odpověd: v Boží lásce. Kdo za svého života usiluje o víru, naději a lásku, kdo ji hle- dá, kdo vytrvale zápolí s nejistotou víry v Boha neviditelného, vzdáleného, ten za prehem věčnosti Boha uvidí, ten se s Bohem setká. Bůh bude v Ježíši Kristu na věky s ním, pro něj přítomen. Nebešťanům je Ježíš \"vším ve všem\"... Mysleme na ně nejen dnes - bučíme s nimi ve spojení - vždy t spolu s nimi chceme jednou Boha os- lavovat a být dokonale štastni v jeho lásce. £®ĚlS2slovensko_ Uveřejňujeme protest, který v říjnu poslali televizi mladí za Slozrenska po vysílání pořadu \"Od mýtů k vědě\": Vážená televize, hlásíme se Vám, my mladí, abychom Vám poděkovali za program v televizi: i;0d mýtů k vědě*'. Ovšem neděkujeme Vám za program jako takový, ale za to, že jste'nám otevřeli oěi. My mladí jsme kritič- tí, my mladí přemýšlíme. A došli jsme k závěru, žc kdyby nebylo Boha, neměl by ateismus co popírat. Jaká protiva sledovat po tomto programu film o Martinů Xlnsovi, vysílaný na I. programu : To nás zauj.ilo. To nás strhlo. On milo- val všechny, bojoval za svobodu všech. Netrpěl diskriminaci. Jeho slova, že věří, že přijde den, kdy si černí i bílí, lcatolící, židé a křestané a nevěřící podají ruce a budou spolu společně' zpívat: Jsme svobodni i A k čemu spěje Vaše vyomívání, urážení církve ,,? řložná, že by- chom ještě dnes byli divoši, kdyby právě církev nebyla šířila v Evropě kulturu. Děkujeme Vám, že nám otvíráte oči a nutíte nAfl uvažovat. Jen dejte ještě několik takových toriálíi a budeme všich- ni věřit v Ježíše, který založil á církev. On žil - to je falct i Fantastická skutečnost ! Bal se za své učení ukřižovat a vstal z mrtvých a tak potvrdil svou nauku. Jestliže ae i Vy dáte za své přesvědčení ukřižovat, uvěříme Vám. / Soudruzi a soudružky, kteří nás' takto vychováváte k morálce i Ruku na srdce a zadívejte se nám do mladých očí ; Proč to děláte ? Nemusíte i Vy odpovídat jako ti ve filmu o ringoví: \"Protože nám za to zaplatili: ? Ano, za peníze je člověk schopen umlčet i své svědomí. A člověk, at je černý nebo bílý, chudý nebo bohatý, svědo- mí má, má je vepsané v tom, \n"
     ]
    }
   ],
   "execution_count": 3
  },
  {
   "metadata": {
    "ExecuteTime": {
     "end_time": "2025-05-21T10:40:35.506344Z",
     "start_time": "2025-05-21T10:40:35.502424Z"
    }
   },
   "cell_type": "code",
   "source": "text.count(\"[pageend\")",
   "outputs": [
    {
     "data": {
      "text/plain": [
       "10"
      ]
     },
     "execution_count": 4,
     "metadata": {},
     "output_type": "execute_result"
    }
   ],
   "execution_count": 4
  },
  {
   "metadata": {
    "ExecuteTime": {
     "end_time": "2025-05-21T10:40:43.480044Z",
     "start_time": "2025-05-21T10:40:39.014839Z"
    }
   },
   "cell_type": "code",
   "source": "nlp = stanza.Pipeline(\"cs\")",
   "outputs": [
    {
     "name": "stderr",
     "output_type": "stream",
     "text": [
      "2025-05-21 12:40:39 INFO: Checking for updates to resources.json in case models have been updated.  Note: this behavior can be turned off with download_method=None or download_method=DownloadMethod.REUSE_RESOURCES\n"
     ]
    },
    {
     "data": {
      "text/plain": [
       "Downloading https://raw.githubusercontent.com/stanfordnlp/stanza-resources/main/resources_1.10.0.json:   0%|  …"
      ],
      "application/vnd.jupyter.widget-view+json": {
       "version_major": 2,
       "version_minor": 0,
       "model_id": "0a145570419e477bb9cba6799f1444f7"
      }
     },
     "metadata": {},
     "output_type": "display_data"
    },
    {
     "name": "stderr",
     "output_type": "stream",
     "text": [
      "2025-05-21 12:40:39 INFO: Downloaded file to /home/jupyter-vojta/stanza_resources/resources.json\n",
      "2025-05-21 12:40:39 INFO: Loading these models for language: cs (Czech):\n",
      "============================\n",
      "| Processor | Package      |\n",
      "----------------------------\n",
      "| tokenize  | pdt          |\n",
      "| mwt       | pdt          |\n",
      "| pos       | pdt_nocharlm |\n",
      "| lemma     | pdt_nocharlm |\n",
      "| depparse  | pdt_nocharlm |\n",
      "============================\n",
      "\n",
      "2025-05-21 12:40:39 INFO: Using device: cuda\n",
      "2025-05-21 12:40:39 INFO: Loading: tokenize\n",
      "/srv/venvs/default_venv/lib/python3.12/site-packages/torch/cuda/__init__.py:789: UserWarning: Can't initialize NVML\n",
      "  warnings.warn(\"Can't initialize NVML\")\n",
      "2025-05-21 12:40:41 INFO: Loading: mwt\n",
      "2025-05-21 12:40:41 INFO: Loading: pos\n",
      "2025-05-21 12:40:42 INFO: Loading: lemma\n",
      "2025-05-21 12:40:43 INFO: Loading: depparse\n",
      "2025-05-21 12:40:43 INFO: Done loading processors!\n"
     ]
    }
   ],
   "execution_count": 5
  },
  {
   "cell_type": "code",
   "metadata": {
    "execution_time": 45,
    "ExecuteTime": {
     "end_time": "2025-05-01T09:47:40.014943Z",
     "start_time": "2025-05-01T09:47:37.584396Z"
    }
   },
   "source": [
    "%%time\n",
    "doc = nlp(text)"
   ],
   "outputs": [
    {
     "name": "stdout",
     "output_type": "stream",
     "text": [
      "CPU times: user 4.55 s, sys: 247 ms, total: 4.79 s\n",
      "Wall time: 2.43 s\n"
     ]
    }
   ],
   "execution_count": 7
  },
  {
   "cell_type": "code",
   "metadata": {
    "execution_time": 46,
    "ExecuteTime": {
     "end_time": "2025-05-01T09:54:09.959833Z",
     "start_time": "2025-05-01T09:54:09.947764Z"
    }
   },
   "source": [
    "lemmatized_sents = []\n",
    "doc_sents_data = []\n",
    "for sent in doc.sentences:\n",
    "    lemmatized_sents.append([t.lemma for t in sent.words if t.upos in [\"PROPN\", \"NOUN\", \"VERB\", \"ADJ\"]])\n",
    "    doc_sents_data.append((sent.text, [(w.text, w.lemma, w.upos, ((w.start_char or 0) - (sent.tokens[0].start_char or 0), (w.end_char or 0) - (sent.tokens[0].start_char or 0))) for w in sent.words]))\n",
    "\n",
    "\n",
    "print(lemmatized_sents[100:110])"
   ],
   "outputs": [
    {
     "name": "stdout",
     "output_type": "stream",
     "text": [
      "[['chtít', 'maskovat', 'skutečnost'], ['ja', 'ko', 'hrob', 'pěkný', 'zelený', 'travička', 'pach', 'zápach', 'hen', 'loba', 'kost'], ['vést'], ['chtít', 'svoboda', 'svoboda', 'svo', 'bod', 'myšlení', 'slovo'], ['přijít', 'jediný', 'pravý', 'věč', 'ná', 'svoboda', 'bůh', 'popírat', 'svědčit'], ['vynakládat', 'velký', 'úsilí', 'existovat'], ['utvrzovat', 'víra', 'bůh', 'jo', 'říkat', 'náboženství', 'vymyslit', 'otrokář', 'otrok', 'čekat', 'osvoboditel'], ['Á', 'existovat', 'velký', 'otroctví', 'moderní'], ['stát', 'otrok', 'xnusit', 'mluvit', 'psát'], ['nadiktovat']]\n"
     ]
    }
   ],
   "execution_count": 15
  },
  {
   "metadata": {
    "ExecuteTime": {
     "end_time": "2025-05-01T09:54:27.261702Z",
     "start_time": "2025-05-01T09:54:27.248491Z"
    }
   },
   "cell_type": "code",
   "source": "doc_sents_data[:10]",
   "outputs": [
    {
     "data": {
      "text/plain": [
       "[('I N F O R M A C E . O C Í R K V I 1 9 8 1 Jsem -unaven a za smrt prosľrn Boha - jen nevidět u2, jak j i ita ctnost, a vynášena nicka přeubohá, a křivdju rozšlapána r:./, :.n:i?st, a oaívána zlatem nemc/ic• u; ľ .jt, a v trhu\\'prodávána g.1v.:í \\'t, a pokálena\\' \"bezúhonná vrvicnost, a utloukáno to, co eilnti ;j st, a umení jak .paniku v.\\'Ľ\\'dô, a doktor Blbec káže ge:i:;',\n",
       "  [('I', 'i', 'CCONJ', (0, 1)),\n",
       "   ('N', 'N', 'NOUN', (2, 3)),\n",
       "   ('F', 'F', 'NOUN', (4, 5)),\n",
       "   ('O', 'O', 'NOUN', (6, 7)),\n",
       "   ('R', 'R', 'NOUN', (8, 9)),\n",
       "   ('M', 'M', 'NOUN', (10, 11)),\n",
       "   ('A', 'A', 'NOUN', (12, 13)),\n",
       "   ('C', 'C', 'NOUN', (14, 15)),\n",
       "   ('E', 'E', 'NOUN', (16, 17)),\n",
       "   ('.', '.', 'PUNCT', (18, 19)),\n",
       "   ('O', 'o', 'ADP', (20, 21)),\n",
       "   ('C', 'C', 'NOUN', (22, 23)),\n",
       "   ('Í', '\"', 'PUNCT', (24, 25)),\n",
       "   ('R', 'R', 'NOUN', (26, 27)),\n",
       "   ('K', 'K', 'NOUN', (28, 29)),\n",
       "   ('V', 'V', 'NOUN', (30, 31)),\n",
       "   ('I', 'I', 'NOUN', (32, 33)),\n",
       "   ('1', '1', 'NUM', (34, 35)),\n",
       "   ('9', '9', 'NUM', (36, 37)),\n",
       "   ('8', '8', 'NUM', (38, 39)),\n",
       "   ('1', '1', 'NUM', (40, 41)),\n",
       "   ('Jsem', 'být', 'AUX', (42, 46)),\n",
       "   ('-', '-', 'PUNCT', (47, 48)),\n",
       "   ('unaven', 'unavený', 'ADJ', (48, 54)),\n",
       "   ('a', 'a', 'CCONJ', (55, 56)),\n",
       "   ('za', 'za', 'ADP', (57, 59)),\n",
       "   ('smrt', 'smrt', 'NOUN', (60, 64)),\n",
       "   ('prosľrn', 'prosľrn', 'NOUN', (65, 72)),\n",
       "   ('Boha', 'bůh', 'NOUN', (73, 77)),\n",
       "   ('-', '-', 'PUNCT', (78, 79)),\n",
       "   ('jen', 'jen', 'PART', (80, 83)),\n",
       "   ('nevidět', 'vidět', 'VERB', (84, 91)),\n",
       "   ('u', 'u', 'ADP', (92, 93)),\n",
       "   ('2', '2', 'NUM', (93, 94)),\n",
       "   (',', ',', 'PUNCT', (94, 95)),\n",
       "   ('jak', 'jak', 'ADV', (96, 99)),\n",
       "   ('j', 'j', 'NOUN', (100, 101)),\n",
       "   ('i', 'i', 'CCONJ', (102, 103)),\n",
       "   ('ita', 'ita', 'NOUN', (104, 107)),\n",
       "   ('ctnost', 'ctnost', 'NOUN', (108, 114)),\n",
       "   (',', ',', 'PUNCT', (114, 115)),\n",
       "   ('a', 'a', 'CCONJ', (116, 117)),\n",
       "   ('vynášena', 'vynášený', 'ADJ', (118, 126)),\n",
       "   ('nicka', 'nicka', 'NOUN', (127, 132)),\n",
       "   ('přeubohá', 'přeubohat', 'VERB', (133, 141)),\n",
       "   (',', ',', 'PUNCT', (141, 142)),\n",
       "   ('a', 'a', 'CCONJ', (143, 144)),\n",
       "   ('křivdju', 'křivda', 'NOUN', (145, 152)),\n",
       "   ('rozšlapána', 'rozšlapaný', 'ADJ', (153, 163)),\n",
       "   ('r', 'rok', 'NOUN', (164, 165)),\n",
       "   (':', ':', 'PUNCT', (165, 166)),\n",
       "   ('.', '.', 'PUNCT', (166, 167)),\n",
       "   ('/', '/', 'PUNCT', (167, 168)),\n",
       "   (',', ',', 'PUNCT', (168, 169)),\n",
       "   (':', ':', 'PUNCT', (170, 171)),\n",
       "   ('.', '.', 'PUNCT', (171, 172)),\n",
       "   ('n', 'n', 'NOUN', (172, 173)),\n",
       "   (':', ':', 'PUNCT', (173, 174)),\n",
       "   ('i', 'i', 'CCONJ', (174, 175)),\n",
       "   ('?', '?', 'PUNCT', (175, 176)),\n",
       "   ('s', 's', 'ADP', (176, 177)),\n",
       "   ('t', 't', 'NOUN', (177, 178)),\n",
       "   (',', ',', 'PUNCT', (178, 179)),\n",
       "   ('a', 'a', 'CCONJ', (180, 181)),\n",
       "   ('oaívána', 'oaívaný', 'ADJ', (182, 189)),\n",
       "   ('zlatem', 'zlato', 'NOUN', (190, 196)),\n",
       "   ('nemc', 'nemc', 'NOUN', (197, 201)),\n",
       "   ('/', '/', 'PUNCT', (201, 202)),\n",
       "   ('ic•', 'ic•', 'NOUN', (202, 205)),\n",
       "   ('u', 'u', 'ADP', (206, 207)),\n",
       "   (';', ';', 'PUNCT', (207, 208)),\n",
       "   ('ľ', 'ľpolečnost', 'NOUN', (209, 210)),\n",
       "   ('.', '.', 'PUNCT', (211, 212)),\n",
       "   ('j', 'j', 'NOUN', (212, 213)),\n",
       "   ('t', 't', 'NOUN', (213, 214)),\n",
       "   (',', ',', 'PUNCT', (214, 215)),\n",
       "   ('a', 'a', 'CCONJ', (216, 217)),\n",
       "   ('v', 'v', 'ADP', (218, 219)),\n",
       "   ('trhu', 'trh', 'NOUN', (220, 224)),\n",
       "   (\"'\", \"'\", 'PUNCT', (224, 225)),\n",
       "   ('prodávána', 'prodávaný', 'ADJ', (225, 234)),\n",
       "   ('g', 'g', 'NOUN', (235, 236)),\n",
       "   ('.', '.', 'PUNCT', (236, 237)),\n",
       "   ('1v', '1v', 'NOUN', (237, 239)),\n",
       "   ('.', '.', 'PUNCT', (239, 240)),\n",
       "   (':', ':', 'PUNCT', (240, 241)),\n",
       "   ('í', 'í', 'NOUN', (241, 242)),\n",
       "   (\"'\", \"'\", 'PUNCT', (243, 244)),\n",
       "   ('t', 't', 'NOUN', (244, 245)),\n",
       "   (',', ',', 'PUNCT', (245, 246)),\n",
       "   ('a', 'a', 'CCONJ', (247, 248)),\n",
       "   ('pokálena', 'pokálený', 'ADJ', (249, 257)),\n",
       "   (\"'\", \"'\", 'PUNCT', (257, 258)),\n",
       "   ('\"', '\"', 'PUNCT', (259, 260)),\n",
       "   ('bezúhonná', 'bezúhonný', 'ADJ', (260, 269)),\n",
       "   ('vrvicnost', 'vrvicnost', 'NOUN', (270, 279)),\n",
       "   (',', ',', 'PUNCT', (279, 280)),\n",
       "   ('a', 'a', 'CCONJ', (281, 282)),\n",
       "   ('utloukáno', 'utloukaný', 'ADJ', (283, 292)),\n",
       "   ('to', 'ten', 'DET', (293, 295)),\n",
       "   (',', ',', 'PUNCT', (295, 296)),\n",
       "   ('co', 'co', 'PRON', (297, 299)),\n",
       "   ('eilnti', 'eilnt', 'NOUN', (300, 306)),\n",
       "   (';', ';', 'PUNCT', (307, 308)),\n",
       "   ('j', 'j', 'NOUN', (308, 309)),\n",
       "   ('st', 'stupeň', 'NOUN', (310, 312)),\n",
       "   (',', ',', 'PUNCT', (312, 313)),\n",
       "   ('a', 'a', 'CCONJ', (314, 315)),\n",
       "   ('umení', 'umení', 'NOUN', (316, 321)),\n",
       "   ('jak', 'jak', 'ADV', (322, 325)),\n",
       "   ('.', '.', 'PUNCT', (326, 327)),\n",
       "   ('paniku', 'panika', 'NOUN', (327, 333)),\n",
       "   ('v', 'v', 'NOUN', (334, 335)),\n",
       "   ('.', '.', 'PUNCT', (335, 336)),\n",
       "   (\"'\", \"'\", 'PUNCT', (336, 337)),\n",
       "   ('Ľ', 'Ľ', 'PROPN', (337, 338)),\n",
       "   (\"'\", \"'\", 'PUNCT', (338, 339)),\n",
       "   ('d', 'd', 'NOUN', (339, 340)),\n",
       "   ('ô', 'ô', 'X', (340, 341)),\n",
       "   (',', ',', 'PUNCT', (341, 342)),\n",
       "   ('a', 'a', 'CCONJ', (343, 344)),\n",
       "   ('doktor', 'doktor', 'NOUN', (345, 351)),\n",
       "   ('Blbec', 'Blbec', 'PROPN', (352, 357)),\n",
       "   ('káže', 'kázat', 'VERB', (358, 362)),\n",
       "   ('ge', 'ge', 'NOUN', (363, 365)),\n",
       "   (':', ':', 'PUNCT', (365, 366)),\n",
       "   ('i', 'i', 'CCONJ', (366, 367)),\n",
       "   (':', ':', 'PUNCT', (367, 368)),\n",
       "   (';', ';', 'PUNCT', (368, 369))]),\n",
       " (\"vVn, a lumkové'se posmívá.i.f pz-vrdě, a Ľjb;.o babě\",\n",
       "  [('vVn', 'vVn', 'NOUN', (0, 3)),\n",
       "   (',', ',', 'PUNCT', (3, 4)),\n",
       "   ('a', 'a', 'CCONJ', (5, 6)),\n",
       "   ('lumkové', 'lumkový', 'ADJ', (7, 14)),\n",
       "   (\"'\", \"'\", 'PUNCT', (14, 15)),\n",
       "   ('se', 'se', 'PRON', (15, 17)),\n",
       "   ('posmívá', 'posmívat', 'VERB', (18, 25)),\n",
       "   ('.', '.', 'PUNCT', (25, 26)),\n",
       "   ('i', 'i', 'NOUN', (26, 27)),\n",
       "   ('.', '.', 'PUNCT', (27, 28)),\n",
       "   ('f', 'f', 'NOUN', (28, 29)),\n",
       "   ('pz', 'pz', 'NOUN', (30, 32)),\n",
       "   ('-', '-', 'PUNCT', (32, 33)),\n",
       "   ('vrdě', 'vrd', 'PROPN', (33, 37)),\n",
       "   (',', ',', 'PUNCT', (37, 38)),\n",
       "   ('a', 'a', 'CCONJ', (39, 40)),\n",
       "   ('Ľjb', 'Ľjb', 'PROPN', (41, 44)),\n",
       "   (';', ';', 'PUNCT', (44, 45)),\n",
       "   ('.', '.', 'PUNCT', (45, 46)),\n",
       "   ('o', 'o', 'ADP', (46, 47)),\n",
       "   ('babě', 'baba', 'NOUN', (48, 52))]),\n",
       " ('Zlu jak r.;~icj^-T důta • tím světemounaven, tak rád bych - Leč tebe zůstavit mu na pospas?',\n",
       "  [('Zlu', 'Zlu', 'NOUN', (0, 3)),\n",
       "   ('jak', 'jak', 'ADV', (4, 7)),\n",
       "   ('r', 'rok', 'NOUN', (8, 9)),\n",
       "   ('.', '.', 'PUNCT', (9, 10)),\n",
       "   (';', ';', 'PUNCT', (10, 11)),\n",
       "   ('~icj^', '~icj^', 'PROPN', (11, 16)),\n",
       "   ('-', '-', 'PUNCT', (16, 17)),\n",
       "   ('T', 'T', 'NOUN', (17, 18)),\n",
       "   ('důta', 'důta', 'PROPN', (19, 23)),\n",
       "   ('•', '•', 'PUNCT', (24, 25)),\n",
       "   ('tím', 'ten', 'DET', (26, 29)),\n",
       "   ('světemounaven', 'světemounavna', 'NOUN', (30, 43)),\n",
       "   (',', ',', 'PUNCT', (43, 44)),\n",
       "   ('tak', 'tak', 'ADV', (45, 48)),\n",
       "   ('rád', 'rád', 'ADJ', (49, 52)),\n",
       "   ('bych', 'být', 'AUX', (53, 57)),\n",
       "   ('-', '-', 'PUNCT', (58, 59)),\n",
       "   ('Leč', 'leč', 'CCONJ', (60, 63)),\n",
       "   ('tebe', 'ty', 'PRON', (64, 68)),\n",
       "   ('zůstavit', 'zůstavit', 'VERB', (69, 77)),\n",
       "   ('mu', 'on', 'PRON', (78, 80)),\n",
       "   ('na', 'na', 'ADP', (81, 83)),\n",
       "   ('pospas', 'pospas', 'NOUN', (84, 90)),\n",
       "   ('?', '?', 'PUNCT', (90, 91))]),\n",
       " ('William Shakespeare [pageend1]- 1 - Dojis Juliu_^abri',\n",
       "  [('William', 'William', 'PROPN', (0, 7)),\n",
       "   ('Shakespeare', 'Shakespeare', 'PROPN', (8, 19)),\n",
       "   ('[', '[', 'PUNCT', (20, 21)),\n",
       "   ('pageen', 'pageen', 'PROPN', (21, 27)),\n",
       "   ('d', 'd', 'NOUN', (27, 28)),\n",
       "   ('1', '1', 'NUM', (28, 29)),\n",
       "   (']', ']', 'PUNCT', (29, 30)),\n",
       "   ('-', '-', 'PUNCT', (30, 31)),\n",
       "   ('1', '1', 'NUM', (32, 33)),\n",
       "   ('-', '-', 'PUNCT', (34, 35)),\n",
       "   ('Dojis', 'Dojis', 'PROPN', (36, 41)),\n",
       "   ('Juliu_^abri', 'Juliu_^abri', 'PROPN', (42, 53))]),\n",
       " ('Sovii_tiskupu^v_',\n",
       "  [('Sovii_tiskupu^v_', 'Sovii_tiskupu^v_', 'PROPN', (0, 16))]),\n",
       " ('Trnavět V Praze 6. 2. 1S81.',\n",
       "  [('Trnavět', 'Trnavět', 'PROPN', (0, 7)),\n",
       "   ('V', 'v', 'ADP', (8, 9)),\n",
       "   ('Praze', 'Praha', 'PROPN', (10, 15)),\n",
       "   ('6', '6', 'NUM', (16, 17)),\n",
       "   ('.', '.', 'PUNCT', (17, 18)),\n",
       "   ('2', '2', 'NUM', (19, 20)),\n",
       "   ('.', '.', 'PUNCT', (20, 21)),\n",
       "   ('1S81', '1S81', 'NUM', (22, 26)),\n",
       "   ('.', '.', 'PUNCT', (26, 27))]),\n",
       " ('Vaše Bxelence !',\n",
       "  [('Vaše', 'váš', 'DET', (0, 4)),\n",
       "   ('Bxelence', 'Bxelenka', 'PROPN', (5, 13)),\n",
       "   ('!', '!', 'PUNCT', (14, 15))]),\n",
       " ('Jsem stále žádán věřícími, abych Vám sdělil toto.',\n",
       "  [('Jsem', 'být', 'AUX', (0, 4)),\n",
       "   ('stále', 'stále', 'ADV', (5, 10)),\n",
       "   ('žádán', 'žádaný', 'ADJ', (11, 16)),\n",
       "   ('věřícími', 'věřící', 'ADJ', (17, 25)),\n",
       "   (',', ',', 'PUNCT', (25, 26)),\n",
       "   ('aby', 'aby', 'SCONJ', (-627, -627)),\n",
       "   ('bych', 'být', 'AUX', (-627, -627)),\n",
       "   ('Vám', 'vy', 'PRON', (33, 36)),\n",
       "   ('sdělil', 'sdělit', 'VERB', (37, 43)),\n",
       "   ('toto', 'tento', 'DET', (44, 48)),\n",
       "   ('.', '.', 'PUNCT', (48, 49))]),\n",
       " ('aši katolíci přijali velmi kladně prohlášení bratislavských bohoslovců o PIT.',\n",
       "  [('aši', 'aši', 'NOUN', (0, 3)),\n",
       "   ('katolíci', 'katolík', 'NOUN', (4, 12)),\n",
       "   ('přijali', 'přijmout', 'VERB', (13, 20)),\n",
       "   ('velmi', 'velmi', 'ADV', (21, 26)),\n",
       "   ('kladně', 'kladně', 'ADV', (27, 33)),\n",
       "   ('prohlášení', 'prohlášení', 'NOUN', (34, 44)),\n",
       "   ('bratislavských', 'bratislavský', 'ADJ', (45, 59)),\n",
       "   ('bohoslovců', 'bohoslovec', 'NOUN', (60, 70)),\n",
       "   ('o', 'o', 'ADP', (71, 72)),\n",
       "   ('PIT', 'PIT', 'NOUN', (73, 76)),\n",
       "   ('.', '.', 'PUNCT', (76, 77))]),\n",
       " ('ITyní se s bolestí dovídáme, že bohoslovcům bylo sděleno, aby ne- nastupovali do bratislavského semináře.',\n",
       "  [('ITyní', 'Ityní', 'PROPN', (0, 5)),\n",
       "   ('se', 'se', 'PRON', (6, 8)),\n",
       "   ('s', 's', 'ADP', (9, 10)),\n",
       "   ('bolestí', 'bolest', 'NOUN', (11, 18)),\n",
       "   ('dovídáme', 'dovídat', 'VERB', (19, 27)),\n",
       "   (',', ',', 'PUNCT', (27, 28)),\n",
       "   ('že', 'že', 'SCONJ', (29, 31)),\n",
       "   ('bohoslovcům', 'bohoslovec', 'NOUN', (32, 43)),\n",
       "   ('bylo', 'být', 'AUX', (44, 48)),\n",
       "   ('sděleno', 'sdělený', 'ADJ', (49, 56)),\n",
       "   (',', ',', 'PUNCT', (56, 57)),\n",
       "   ('aby', 'aby', 'SCONJ', (-755, -755)),\n",
       "   ('by', 'být', 'AUX', (-755, -755)),\n",
       "   ('ne', 'ne', 'PART', (62, 64)),\n",
       "   ('-', '-', 'PUNCT', (64, 65)),\n",
       "   ('nastupovali', 'nastupovat', 'VERB', (66, 77)),\n",
       "   ('do', 'do', 'ADP', (78, 80)),\n",
       "   ('bratislavského', 'bratislavský', 'ADJ', (81, 95)),\n",
       "   ('semináře', 'seminář', 'NOUN', (96, 104)),\n",
       "   ('.', '.', 'PUNCT', (104, 105))])]"
      ]
     },
     "execution_count": 16,
     "metadata": {},
     "output_type": "execute_result"
    }
   ],
   "execution_count": 16
  },
  {
   "metadata": {
    "ExecuteTime": {
     "end_time": "2025-05-02T13:18:15.700167Z",
     "start_time": "2025-05-02T13:18:15.696541Z"
    }
   },
   "cell_type": "code",
   "source": [
    "os.makedirs(\"../data/lemsents/\", exist_ok=True)\n",
    "os.makedirs(\"/srv/data/scriptum/sents_data/\", exist_ok=True)"
   ],
   "outputs": [],
   "execution_count": 6
  },
  {
   "cell_type": "code",
   "metadata": {
    "execution_time": 47,
    "ExecuteTime": {
     "end_time": "2025-05-21T10:40:58.860497Z",
     "start_time": "2025-05-21T10:40:58.854123Z"
    }
   },
   "source": [
    "processed = []\n",
    "def get_lemmatized_sentences(filename):\n",
    "    with open(path + filename, encoding='utf-8', errors='replace') as f:\n",
    "        text = f.read()\n",
    "    if filename not in []: # \"studie_1990_132_ocr.pdf\"]:\n",
    "        ready = os.listdir(\"../data/lemsents/\")\n",
    "        if filename not in ready:\n",
    "            lemmatized_sents = []\n",
    "            doc_sents_data = []\n",
    "            try:\n",
    "                text = re.sub(r\"\\[pageend\\d+\\]\", \" \", text)\n",
    "                chunks = re.findall(r'.{0,50000}\\.\\s', text, re.DOTALL)\n",
    "                chunks_end = sum([len(chunk) for chunk in chunks])\n",
    "                chunks.append(text[chunks_end:])\n",
    "                docs = [nlp(chunk) for chunk in chunks]\n",
    "                for doc in docs:\n",
    "                    for sent in doc.sentences:\n",
    "                        lemmatized_sents.append(\" \".join([t.lemma for t in sent.words if t.upos in [\"PROPN\", \"NOUN\", \"VERB\", \"ADJ\"]]) + \"\\n\")\n",
    "                        doc_sents_data.append((filename, sent.text, [(w.text, w.lemma, w.upos, ((w.start_char or 0) - (sent.tokens[0].start_char or 0), (w.end_char or 0) - (sent.tokens[0].start_char or 0))) for w in sent.words]))\n",
    "            except:\n",
    "                pass\n",
    "            processed.append(filename)\n",
    "            pathfn = \"../data/lemsents/\" + filename\n",
    "            with open(pathfn, 'w') as f:\n",
    "                f.writelines(lemmatized_sents)\n",
    "            jsons_pathfn = \"/srv/data/scriptum/sents_data/\" + filename.replace(\".txt\", \".json\")\n",
    "            with open(jsons_pathfn, \"w\") as f:\n",
    "                json.dump(doc_sents_data, f)\n",
    "            if len(ready) in range(0, len(filenames), 100):\n",
    "                print(len(ready))"
   ],
   "outputs": [],
   "execution_count": 6
  },
  {
   "metadata": {
    "ExecuteTime": {
     "end_time": "2025-05-01T10:15:42.370096Z",
     "start_time": "2025-05-01T10:15:16.123417Z"
    }
   },
   "cell_type": "code",
   "source": [
    "filename = filenames[0]\n",
    "get_lemmatized_sentences(filename)"
   ],
   "outputs": [],
   "execution_count": 52
  },
  {
   "metadata": {
    "ExecuteTime": {
     "end_time": "2025-05-01T10:15:42.446564Z",
     "start_time": "2025-05-01T10:15:42.441061Z"
    }
   },
   "cell_type": "code",
   "source": [
    "with open(\"../data/lemsents/\" + filename, \"r\") as f:\n",
    "    sents = f.readlines()\n",
    "sents[:5]"
   ],
   "execution_count": 54,
   "outputs": [
    {
     "data": {
      "text/plain": [
       "['P b b Wi klub kulturní měsíčník ČECH Slovák Rakousko obsah ČR senát lékař hrozit obrat preference strana SR rok skromnost Slovensko strana Havel mezera zákon prosoukávat podvodník strana\\n',\n",
       " 'prezidentův syn čekat Rakousko strana vyšetřování odsun brněnský Němec skončený strana\\n',\n",
       " 'opožděný návrat dům Kazachstán strana kulturní klub Čech Slovák zvát valný hromada kulturní klub Čech Slovák Rakousko leden středa klubovní hospoda Schlösselgass Vídeň\\n',\n",
       " 'mít přijít strana leden ročník český slovenský Vídeň kulturní klub cech Slovák Rakousko zvát valný hromada leden středa klubovní hospoda Schlösselgass Vídeň\\n',\n",
       " 'vidět schůzování smysluplný trávení čas vyžadovat stanovy najejichž dodržování spolkový policie dohlížet\\n']"
      ]
     },
     "execution_count": 54,
     "metadata": {},
     "output_type": "execute_result"
    }
   ]
  },
  {
   "metadata": {
    "ExecuteTime": {
     "end_time": "2025-05-01T10:16:19.458168Z",
     "start_time": "2025-05-01T10:16:19.339425Z"
    }
   },
   "cell_type": "code",
   "source": [
    "with open(\"/srv/data/scriptum/sents_data/\" + filename.replace(\".txt\", \".json\"), \"r\") as f:\n",
    "    doc_sents_data = json.load(f)\n",
    "doc_sents_data[:5]"
   ],
   "outputs": [
    {
     "data": {
      "text/plain": [
       "[['kulturni-klub_1996_01-10_ocr.txt',\n",
       "  'P.b.b. Erscheinungsort und Verlagspostamt — 1090 Wi KLUB 10 KULTURNÍ MĚSÍČNÍK ČECHŮ A SLOVÁKŮ V RAKOUSKU Z OBSAHU: ČR: Kam se senátem, lékaři znovu hrozí, obrat v preferencích strana 3 SR: \"Rok skromnosti\" pre Slovensko strana 4 Havel: Mezerami v zákonech se prosoukávají podvodníci vzhůru strana 5',\n",
       "  [['P', 'P', 'NOUN', [0, 1]],\n",
       "   ['.', '.', 'PUNCT', [1, 2]],\n",
       "   ['b', 'b', 'NOUN', [2, 3]],\n",
       "   ['.', '.', 'PUNCT', [3, 4]],\n",
       "   ['b', 'b', 'NOUN', [4, 5]],\n",
       "   ['.', '.', 'PUNCT', [5, 6]],\n",
       "   ['Erscheinungsort', 'Erscheinungsort', 'X', [7, 22]],\n",
       "   ['und', 'und', 'X', [23, 26]],\n",
       "   ['Verlagspostamt', 'Verlagspostamt', 'X', [27, 41]],\n",
       "   ['—', '—', 'PUNCT', [42, 43]],\n",
       "   ['1090', '1090', 'NUM', [44, 48]],\n",
       "   ['Wi', 'Wi', 'NOUN', [49, 51]],\n",
       "   ['KLUB', 'klub', 'NOUN', [52, 56]],\n",
       "   ['10', '10', 'NUM', [57, 59]],\n",
       "   ['KULTURNÍ', 'kulturní', 'ADJ', [60, 68]],\n",
       "   ['MĚSÍČNÍK', 'měsíčník', 'ADJ', [69, 77]],\n",
       "   ['ČECHŮ', 'ČECH', 'PROPN', [78, 83]],\n",
       "   ['A', 'a', 'CCONJ', [84, 85]],\n",
       "   ['SLOVÁKŮ', 'Slovák', 'PROPN', [86, 93]],\n",
       "   ['V', 'v', 'ADP', [94, 95]],\n",
       "   ['RAKOUSKU', 'Rakousko', 'PROPN', [96, 104]],\n",
       "   ['Z', 'z', 'ADP', [105, 106]],\n",
       "   ['OBSAHU', 'obsah', 'NOUN', [107, 113]],\n",
       "   [':', ':', 'PUNCT', [113, 114]],\n",
       "   ['ČR', 'ČR', 'PROPN', [115, 117]],\n",
       "   [':', ':', 'PUNCT', [117, 118]],\n",
       "   ['Kam', 'kam', 'ADV', [119, 122]],\n",
       "   ['se', 's', 'ADP', [123, 125]],\n",
       "   ['senátem', 'senát', 'NOUN', [126, 133]],\n",
       "   [',', ',', 'PUNCT', [133, 134]],\n",
       "   ['lékaři', 'lékař', 'NOUN', [135, 141]],\n",
       "   ['znovu', 'znovu', 'ADV', [142, 147]],\n",
       "   ['hrozí', 'hrozit', 'VERB', [148, 153]],\n",
       "   [',', ',', 'PUNCT', [153, 154]],\n",
       "   ['obrat', 'obrat', 'NOUN', [155, 160]],\n",
       "   ['v', 'v', 'ADP', [161, 162]],\n",
       "   ['preferencích', 'preference', 'NOUN', [163, 175]],\n",
       "   ['strana', 'strana', 'NOUN', [176, 182]],\n",
       "   ['3', '3', 'NUM', [183, 184]],\n",
       "   ['SR', 'SR', 'PROPN', [185, 187]],\n",
       "   [':', ':', 'PUNCT', [187, 188]],\n",
       "   ['\"', '\"', 'PUNCT', [189, 190]],\n",
       "   ['Rok', 'rok', 'NOUN', [190, 193]],\n",
       "   ['skromnosti', 'skromnost', 'NOUN', [194, 204]],\n",
       "   ['\"', '\"', 'PUNCT', [204, 205]],\n",
       "   ['pre', 'pre', 'X', [206, 209]],\n",
       "   ['Slovensko', 'Slovensko', 'PROPN', [210, 219]],\n",
       "   ['strana', 'strana', 'NOUN', [220, 226]],\n",
       "   ['4', '4', 'NUM', [227, 228]],\n",
       "   ['Havel', 'Havel', 'PROPN', [229, 234]],\n",
       "   [':', ':', 'PUNCT', [234, 235]],\n",
       "   ['Mezerami', 'mezera', 'NOUN', [236, 244]],\n",
       "   ['v', 'v', 'ADP', [245, 246]],\n",
       "   ['zákonech', 'zákon', 'NOUN', [247, 255]],\n",
       "   ['se', 'se', 'PRON', [256, 258]],\n",
       "   ['prosoukávají', 'prosoukávat', 'VERB', [259, 271]],\n",
       "   ['podvodníci', 'podvodník', 'NOUN', [272, 282]],\n",
       "   ['vzhůru', 'vzhůru', 'ADV', [283, 289]],\n",
       "   ['strana', 'strana', 'NOUN', [290, 296]],\n",
       "   ['5', '5', 'NUM', [297, 298]]]],\n",
       " ['kulturni-klub_1996_01-10_ocr.txt',\n",
       "  'Prezidentův syn čeká v Rakousku co bude strana 6 Vyšetřování odsunu brněnských Němců skončeno strana8',\n",
       "  [['Prezidentův', 'prezidentův', 'ADJ', [0, 11]],\n",
       "   ['syn', 'syn', 'NOUN', [12, 15]],\n",
       "   ['čeká', 'čekat', 'VERB', [16, 20]],\n",
       "   ['v', 'v', 'ADP', [21, 22]],\n",
       "   ['Rakousku', 'Rakousko', 'PROPN', [23, 31]],\n",
       "   ['co', 'co', 'PRON', [32, 34]],\n",
       "   ['bude', 'být', 'AUX', [35, 39]],\n",
       "   ['strana', 'strana', 'NOUN', [40, 46]],\n",
       "   ['6', '6', 'NUM', [47, 48]],\n",
       "   ['Vyšetřování', 'vyšetřování', 'NOUN', [49, 60]],\n",
       "   ['odsunu', 'odsun', 'NOUN', [61, 67]],\n",
       "   ['brněnských', 'brněnský', 'ADJ', [68, 78]],\n",
       "   ['Němců', 'Němec', 'PROPN', [79, 84]],\n",
       "   ['skončeno', 'skončený', 'ADJ', [85, 93]],\n",
       "   ['strana', 'strana', 'NOUN', [94, 100]],\n",
       "   ['8', '8', 'NUM', [100, 101]]]],\n",
       " ['kulturni-klub_1996_01-10_ocr.txt',\n",
       "  'Opožděný návrat domů z Kazachstánu strana 9 Kulturní klub Čechů a Slováků Vás zve na Valnou hromadu Kulturního klubu Čechů a Slováků v Rakousku 31. ledna 1996 (středa) v 19.30 v klubovní hospodě Zur böhmischen Kuchel, Schlösselgasse 18, Vídeň 8.',\n",
       "  [['Opožděný', 'opožděný', 'ADJ', [0, 8]],\n",
       "   ['návrat', 'návrat', 'NOUN', [9, 15]],\n",
       "   ['domů', 'dům', 'NOUN', [16, 20]],\n",
       "   ['z', 'z', 'ADP', [21, 22]],\n",
       "   ['Kazachstánu', 'Kazachstán', 'PROPN', [23, 34]],\n",
       "   ['strana', 'strana', 'NOUN', [35, 41]],\n",
       "   ['9', '9', 'NUM', [42, 43]],\n",
       "   ['Kulturní', 'kulturní', 'ADJ', [44, 52]],\n",
       "   ['klub', 'klub', 'NOUN', [53, 57]],\n",
       "   ['Čechů', 'Čech', 'PROPN', [58, 63]],\n",
       "   ['a', 'a', 'CCONJ', [64, 65]],\n",
       "   ['Slováků', 'Slovák', 'PROPN', [66, 73]],\n",
       "   ['Vás', 'vy', 'PRON', [74, 77]],\n",
       "   ['zve', 'zvát', 'VERB', [78, 81]],\n",
       "   ['na', 'na', 'ADP', [82, 84]],\n",
       "   ['Valnou', 'valný', 'ADJ', [85, 91]],\n",
       "   ['hromadu', 'hromada', 'NOUN', [92, 99]],\n",
       "   ['Kulturního', 'kulturní', 'ADJ', [100, 110]],\n",
       "   ['klubu', 'klub', 'NOUN', [111, 116]],\n",
       "   ['Čechů', 'Čech', 'PROPN', [117, 122]],\n",
       "   ['a', 'a', 'CCONJ', [123, 124]],\n",
       "   ['Slováků', 'Slovák', 'PROPN', [125, 132]],\n",
       "   ['v', 'v', 'ADP', [133, 134]],\n",
       "   ['Rakousku', 'Rakousko', 'PROPN', [135, 143]],\n",
       "   ['31', '31', 'NUM', [144, 146]],\n",
       "   ['.', '.', 'PUNCT', [146, 147]],\n",
       "   ['ledna', 'leden', 'NOUN', [148, 153]],\n",
       "   ['1996', '1996', 'NUM', [154, 158]],\n",
       "   ['(', '(', 'PUNCT', [159, 160]],\n",
       "   ['středa', 'středa', 'NOUN', [160, 166]],\n",
       "   [')', ')', 'PUNCT', [166, 167]],\n",
       "   ['v', 'v', 'ADP', [168, 169]],\n",
       "   ['19.30', '19.30', 'NUM', [170, 175]],\n",
       "   ['v', 'v', 'ADP', [176, 177]],\n",
       "   ['klubovní', 'klubovní', 'ADJ', [178, 186]],\n",
       "   ['hospodě', 'hospoda', 'NOUN', [187, 194]],\n",
       "   ['Zur', 'Zur', 'X', [195, 198]],\n",
       "   ['böhmischen', 'böhmischen', 'X', [199, 209]],\n",
       "   ['Kuchel', 'Kuchel', 'X', [210, 216]],\n",
       "   [',', ',', 'PUNCT', [216, 217]],\n",
       "   ['Schlösselgasse', 'Schlösselgass', 'PROPN', [218, 232]],\n",
       "   ['18', '18', 'NUM', [233, 235]],\n",
       "   [',', ',', 'PUNCT', [235, 236]],\n",
       "   ['Vídeň', 'Vídeň', 'PROPN', [237, 242]],\n",
       "   ['8', '8', 'NUM', [243, 244]],\n",
       "   ['.', '.', 'PUNCT', [244, 245]]]],\n",
       " ['kulturni-klub_1996_01-10_ocr.txt',\n",
       "  '(Proč byste měli přijít na straně 2) leden 1996 15. ročník  z české a slovenské Vídně Kulturní klub Cechů a Slováků v Rakousku Vás zve na Valnou hromadu 31. ledna 1996 (středa) v 19.30 v klubovní hospodě Zur böhmischen Kuchel, Schlösselgasse 18, Vídeň 8.',\n",
       "  [['(', '(', 'PUNCT', [0, 1]],\n",
       "   ['Proč', 'proč', 'ADV', [1, 5]],\n",
       "   ['byste', 'být', 'AUX', [6, 11]],\n",
       "   ['měli', 'mít', 'VERB', [12, 16]],\n",
       "   ['přijít', 'přijít', 'VERB', [17, 23]],\n",
       "   ['na', 'na', 'ADP', [24, 26]],\n",
       "   ['straně', 'strana', 'NOUN', [27, 33]],\n",
       "   ['2', '2', 'NUM', [34, 35]],\n",
       "   [')', ')', 'PUNCT', [35, 36]],\n",
       "   ['leden', 'leden', 'NOUN', [37, 42]],\n",
       "   ['1996', '1996', 'NUM', [43, 47]],\n",
       "   ['15', '15', 'NUM', [48, 50]],\n",
       "   ['.', '.', 'PUNCT', [50, 51]],\n",
       "   ['ročník', 'ročník', 'NOUN', [52, 58]],\n",
       "   ['z', 'z', 'ADP', [60, 61]],\n",
       "   ['české', 'český', 'ADJ', [62, 67]],\n",
       "   ['a', 'a', 'CCONJ', [68, 69]],\n",
       "   ['slovenské', 'slovenský', 'ADJ', [70, 79]],\n",
       "   ['Vídně', 'Vídeň', 'PROPN', [80, 85]],\n",
       "   ['Kulturní', 'kulturní', 'ADJ', [86, 94]],\n",
       "   ['klub', 'klub', 'NOUN', [95, 99]],\n",
       "   ['Cechů', 'cech', 'NOUN', [100, 105]],\n",
       "   ['a', 'a', 'CCONJ', [106, 107]],\n",
       "   ['Slováků', 'Slovák', 'PROPN', [108, 115]],\n",
       "   ['v', 'v', 'ADP', [116, 117]],\n",
       "   ['Rakousku', 'Rakousko', 'PROPN', [118, 126]],\n",
       "   ['Vás', 'vy', 'PRON', [127, 130]],\n",
       "   ['zve', 'zvát', 'VERB', [131, 134]],\n",
       "   ['na', 'na', 'ADP', [135, 137]],\n",
       "   ['Valnou', 'valný', 'ADJ', [138, 144]],\n",
       "   ['hromadu', 'hromada', 'NOUN', [145, 152]],\n",
       "   ['31', '31', 'NUM', [153, 155]],\n",
       "   ['.', '.', 'PUNCT', [155, 156]],\n",
       "   ['ledna', 'leden', 'NOUN', [157, 162]],\n",
       "   ['1996', '1996', 'NUM', [163, 167]],\n",
       "   ['(', '(', 'PUNCT', [168, 169]],\n",
       "   ['středa', 'středa', 'NOUN', [169, 175]],\n",
       "   [')', ')', 'PUNCT', [175, 176]],\n",
       "   ['v', 'v', 'ADP', [177, 178]],\n",
       "   ['19.30', '19.30', 'NUM', [179, 184]],\n",
       "   ['v', 'v', 'ADP', [185, 186]],\n",
       "   ['klubovní', 'klubovní', 'ADJ', [187, 195]],\n",
       "   ['hospodě', 'hospoda', 'NOUN', [196, 203]],\n",
       "   ['Zur', 'Zur', 'X', [204, 207]],\n",
       "   ['böhmischen', 'böhmischen', 'X', [208, 218]],\n",
       "   ['Kuchel', 'Kuchel', 'X', [219, 225]],\n",
       "   [',', ',', 'PUNCT', [225, 226]],\n",
       "   ['Schlösselgasse', 'Schlösselgass', 'PROPN', [227, 241]],\n",
       "   ['18', '18', 'NUM', [242, 244]],\n",
       "   [',', ',', 'PUNCT', [244, 245]],\n",
       "   ['Vídeň', 'Vídeň', 'PROPN', [246, 251]],\n",
       "   ['8', '8', 'NUM', [252, 253]],\n",
       "   ['.', '.', 'PUNCT', [253, 254]]]],\n",
       " ['kulturni-klub_1996_01-10_ocr.txt',\n",
       "  'I když nikdo z nás nevidí ve schůzování smysluplné trávení času, vyžadují to stanovy, najejichž dodržování spolková policie přísně dohlíží.',\n",
       "  [['I', 'i', 'CCONJ', [0, 1]],\n",
       "   ['když', 'když', 'SCONJ', [2, 6]],\n",
       "   ['nikdo', 'nikdo', 'PRON', [7, 12]],\n",
       "   ['z', 'z', 'ADP', [13, 14]],\n",
       "   ['nás', 'my', 'PRON', [15, 18]],\n",
       "   ['nevidí', 'vidět', 'VERB', [19, 25]],\n",
       "   ['ve', 'v', 'ADP', [26, 28]],\n",
       "   ['schůzování', 'schůzování', 'NOUN', [29, 39]],\n",
       "   ['smysluplné', 'smysluplný', 'ADJ', [40, 50]],\n",
       "   ['trávení', 'trávení', 'NOUN', [51, 58]],\n",
       "   ['času', 'čas', 'NOUN', [59, 63]],\n",
       "   [',', ',', 'PUNCT', [63, 64]],\n",
       "   ['vyžadují', 'vyžadovat', 'VERB', [65, 73]],\n",
       "   ['to', 'ten', 'DET', [74, 76]],\n",
       "   ['stanovy', 'stanovy', 'NOUN', [77, 84]],\n",
       "   [',', ',', 'PUNCT', [84, 85]],\n",
       "   ['najejichž', 'najejichž', 'NOUN', [86, 95]],\n",
       "   ['dodržování', 'dodržování', 'NOUN', [96, 106]],\n",
       "   ['spolková', 'spolkový', 'ADJ', [107, 115]],\n",
       "   ['policie', 'policie', 'NOUN', [116, 123]],\n",
       "   ['přísně', 'přísně', 'ADV', [124, 130]],\n",
       "   ['dohlíží', 'dohlížet', 'VERB', [131, 138]],\n",
       "   ['.', '.', 'PUNCT', [138, 139]]]]]"
      ]
     },
     "execution_count": 57,
     "metadata": {},
     "output_type": "execute_result"
    }
   ],
   "execution_count": 57
  },
  {
   "metadata": {
    "jupyter": {
     "is_executing": true
    },
    "ExecuteTime": {
     "start_time": "2025-05-02T13:20:05.374477Z"
    }
   },
   "cell_type": "code",
   "source": [
    "for filename in filenames[6750:]:\n",
    "    get_lemmatized_sentences(filename)"
   ],
   "outputs": [],
   "execution_count": null
  },
  {
   "cell_type": "code",
   "execution_count": null,
   "metadata": {
    "execution_time": 61
   },
   "outputs": [],
   "source": "print(\"hello\")"
  },
  {
   "metadata": {
    "ExecuteTime": {
     "end_time": "2025-05-21T10:41:44.031742Z",
     "start_time": "2025-05-21T10:41:44.023983Z"
    }
   },
   "cell_type": "code",
   "source": "len(os.listdir(\"../data/lemsents/\"))",
   "outputs": [
    {
     "data": {
      "text/plain": [
       "9418"
      ]
     },
     "execution_count": 8,
     "metadata": {},
     "output_type": "execute_result"
    }
   ],
   "execution_count": 8
  },
  {
   "metadata": {
    "ExecuteTime": {
     "end_time": "2025-05-21T10:42:05.399454Z",
     "start_time": "2025-05-21T10:42:05.390389Z"
    }
   },
   "cell_type": "code",
   "source": "len(os.listdir(\"/srv/data/scriptum/sents_data/\"))",
   "outputs": [
    {
     "data": {
      "text/plain": [
       "9418"
      ]
     },
     "execution_count": 10,
     "metadata": {},
     "output_type": "execute_result"
    }
   ],
   "execution_count": 10
  },
  {
   "metadata": {},
   "cell_type": "code",
   "outputs": [],
   "execution_count": null,
   "source": ""
  }
 ],
 "metadata": {
  "colab": {
   "include_colab_link": true,
   "provenance": []
  },
  "kernelspec": {
   "display_name": "Python 3 (ipykernel)",
   "language": "python",
   "name": "python3"
  }
 },
 "nbformat": 4,
 "nbformat_minor": 0
}
