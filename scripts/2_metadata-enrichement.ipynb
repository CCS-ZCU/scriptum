{
 "cells": [
  {
   "metadata": {
    "ExecuteTime": {
     "end_time": "2025-04-30T09:49:08.587531Z",
     "start_time": "2025-04-30T09:49:00.990123Z"
    }
   },
   "cell_type": "code",
   "source": [
    "import os\n",
    "import pandas as pd\n",
    "import nltk\n",
    "import re\n",
    "import stanza\n",
    "import numpy as np\n",
    "#stanza.download(\"cs\")\n",
    "nlp = stanza.Pipeline(\"cs\")"
   ],
   "id": "f183c93867b3a006",
   "outputs": [
    {
     "name": "stderr",
     "output_type": "stream",
     "text": [
      "/srv/venvs/default_venv/lib/python3.12/site-packages/tqdm/auto.py:21: TqdmWarning: IProgress not found. Please update jupyter and ipywidgets. See https://ipywidgets.readthedocs.io/en/stable/user_install.html\n",
      "  from .autonotebook import tqdm as notebook_tqdm\n",
      "2025-04-30 11:49:03 INFO: Checking for updates to resources.json in case models have been updated.  Note: this behavior can be turned off with download_method=None or download_method=DownloadMethod.REUSE_RESOURCES\n",
      "Downloading https://raw.githubusercontent.com/stanfordnlp/stanza-resources/main/resources_1.10.0.json: 426kB [00:00, 93.2MB/s]                    \n",
      "2025-04-30 11:49:03 INFO: Downloaded file to /home/jupyter-vojta/stanza_resources/resources.json\n",
      "2025-04-30 11:49:04 INFO: Loading these models for language: cs (Czech):\n",
      "============================\n",
      "| Processor | Package      |\n",
      "----------------------------\n",
      "| tokenize  | pdt          |\n",
      "| mwt       | pdt          |\n",
      "| pos       | pdt_nocharlm |\n",
      "| lemma     | pdt_nocharlm |\n",
      "| depparse  | pdt_nocharlm |\n",
      "============================\n",
      "\n",
      "2025-04-30 11:49:04 INFO: Using device: cuda\n",
      "2025-04-30 11:49:04 INFO: Loading: tokenize\n",
      "2025-04-30 11:49:05 INFO: Loading: mwt\n",
      "2025-04-30 11:49:05 INFO: Loading: pos\n",
      "2025-04-30 11:49:06 INFO: Loading: lemma\n",
      "2025-04-30 11:49:08 INFO: Loading: depparse\n",
      "2025-04-30 11:49:08 INFO: Done loading processors!\n"
     ]
    }
   ],
   "execution_count": 1
  },
  {
   "metadata": {
    "ExecuteTime": {
     "end_time": "2025-04-30T09:49:20.375079Z",
     "start_time": "2025-04-30T09:49:20.332026Z"
    }
   },
   "cell_type": "code",
   "source": "files_df = pd.read_json(\"../data/files_df.json\")",
   "id": "b427190f8c977536",
   "outputs": [],
   "execution_count": 2
  },
  {
   "metadata": {
    "ExecuteTime": {
     "end_time": "2025-04-30T09:49:29.686502Z",
     "start_time": "2025-04-30T09:49:29.678300Z"
    }
   },
   "cell_type": "code",
   "source": "files_df.shape",
   "id": "4c603d3599a01a8a",
   "outputs": [
    {
     "data": {
      "text/plain": [
       "(11617, 5)"
      ]
     },
     "execution_count": 3,
     "metadata": {},
     "output_type": "execute_result"
    }
   ],
   "execution_count": 3
  },
  {
   "metadata": {
    "ExecuteTime": {
     "end_time": "2025-04-30T09:50:17.482538Z",
     "start_time": "2025-04-30T09:50:17.473909Z"
    }
   },
   "cell_type": "code",
   "source": "files_df[\"filename\"] = files_df[\"file_url\"].apply(lambda x: x.rpartition(\"/\")[2].replace(\".pdf\", \".txt\"))",
   "id": "3f4fcee5bb6d660",
   "outputs": [],
   "execution_count": 5
  },
  {
   "metadata": {
    "ExecuteTime": {
     "end_time": "2025-04-30T09:50:18.981348Z",
     "start_time": "2025-04-30T09:50:18.971958Z"
    }
   },
   "cell_type": "code",
   "source": "files_df.drop_duplicates(subset=\"filename\", keep=\"first\", inplace=True)",
   "id": "ffd19e1828688018",
   "outputs": [],
   "execution_count": 6
  },
  {
   "metadata": {
    "ExecuteTime": {
     "end_time": "2025-04-30T09:50:28.222849Z",
     "start_time": "2025-04-30T09:50:28.217740Z"
    }
   },
   "cell_type": "code",
   "source": [
    "x = \"psi_1986_2_vina_ocr.txt\"\n",
    "re.search(r\"19\\d{2}\", x).group()"
   ],
   "id": "2b1ff32fff383f1a",
   "outputs": [
    {
     "data": {
      "text/plain": [
       "'1986'"
      ]
     },
     "execution_count": 8,
     "metadata": {},
     "output_type": "execute_result"
    }
   ],
   "execution_count": 8
  },
  {
   "metadata": {
    "ExecuteTime": {
     "end_time": "2025-04-30T09:50:37.534130Z",
     "start_time": "2025-04-30T09:50:37.518943Z"
    }
   },
   "cell_type": "code",
   "source": [
    "def year_from_filename(filename):\n",
    "    try:\n",
    "        return int(re.search(r\"19\\d{2}\", filename).group())\n",
    "    except:\n",
    "        return None\n",
    "files_df[\"year\"] = files_df[\"filename\"].apply(year_from_filename)"
   ],
   "id": "3fada90d1ed8d969",
   "outputs": [],
   "execution_count": 10
  },
  {
   "metadata": {
    "ExecuteTime": {
     "end_time": "2025-04-30T09:50:39.191273Z",
     "start_time": "2025-04-30T09:50:38.804877Z"
    }
   },
   "cell_type": "code",
   "source": [
    "decade_bins = np.arange(files_df[\"year\"].min(), files_df[\"year\"].max() + 10, 10)\n",
    "files_df[\"year\"].hist(bins=decade_bins)"
   ],
   "id": "8629764273ad55c3",
   "outputs": [
    {
     "data": {
      "text/plain": [
       "<Axes: >"
      ]
     },
     "execution_count": 11,
     "metadata": {},
     "output_type": "execute_result"
    },
    {
     "data": {
      "text/plain": [
       "<Figure size 640x480 with 1 Axes>"
      ],
      "image/png": "[encoded data removed]"
     },
     "metadata": {},
     "output_type": "display_data"
    }
   ],
   "execution_count": 11
  },
  {
   "metadata": {
    "ExecuteTime": {
     "end_time": "2025-04-30T09:50:51.968579Z",
     "start_time": "2025-04-30T09:50:51.959614Z"
    }
   },
   "cell_type": "code",
   "source": [
    "path = \"../data/rawtexts/\"\n",
    "filenames = os.listdir(path)\n",
    "len(filenames)"
   ],
   "id": "2d48fce9b9498d99",
   "outputs": [
    {
     "data": {
      "text/plain": [
       "11615"
      ]
     },
     "execution_count": 12,
     "metadata": {},
     "output_type": "execute_result"
    }
   ],
   "execution_count": 12
  },
  {
   "metadata": {
    "ExecuteTime": {
     "end_time": "2025-04-30T09:50:55.232217Z",
     "start_time": "2025-04-30T09:50:54.744990Z"
    }
   },
   "cell_type": "code",
   "outputs": [
    {
     "data": {
      "text/plain": [
       "np.int64(11614)"
      ]
     },
     "execution_count": 13,
     "metadata": {},
     "output_type": "execute_result"
    }
   ],
   "execution_count": 13,
   "source": "files_df[\"filename\"].apply(lambda x: x in filenames).sum()",
   "id": "2e049f35820f920f"
  },
  {
   "metadata": {
    "ExecuteTime": {
     "end_time": "2024-04-03T20:11:37.714134Z",
     "start_time": "2024-04-03T20:11:37.710415Z"
    }
   },
   "cell_type": "code",
   "outputs": [],
   "execution_count": 21,
   "source": [
    "filename = filenames[16]\n",
    "with open(path + filename) as f:\n",
    "    text = f.read()"
   ],
   "id": "d7a13e5b70c33a2b"
  },
  {
   "metadata": {
    "ExecuteTime": {
     "end_time": "2025-04-30T09:52:54.849093Z",
     "start_time": "2025-04-30T09:52:54.843858Z"
    }
   },
   "cell_type": "code",
   "source": [
    "path = \"../data/rawtexts/\"\n",
    "\n",
    "def get_numbers(filename):\n",
    "    try:\n",
    "        with open(path + filename) as f:\n",
    "            text = f.read()\n",
    "        pages_N = len(re.findall(r\"\\[pageend\\d+\\]\", text))\n",
    "        text = re.sub(r\"\\[pageend\\d+\\]\", \" \", text)\n",
    "        text = re.sub(r'(\\w+)- (\\w+)', r'\\1\\2', text)\n",
    "        tokens = nltk.word_tokenize(text)\n",
    "        tokens_N = len(tokens)\n",
    "        return pages_N, tokens_N \n",
    "    except:\n",
    "        return 0, 0"
   ],
   "id": "af6bd8f4fbd4eaa4",
   "outputs": [],
   "execution_count": 15
  },
  {
   "metadata": {
    "ExecuteTime": {
     "end_time": "2025-04-30T10:03:37.572944Z",
     "start_time": "2025-04-30T09:53:23.556489Z"
    }
   },
   "cell_type": "code",
   "source": "files_df[['pages_N', 'tokens_N']] = files_df['filename'].apply(get_numbers).apply(pd.Series)",
   "id": "ce2851266ba58f9d",
   "outputs": [],
   "execution_count": 16
  },
  {
   "metadata": {
    "ExecuteTime": {
     "end_time": "2025-04-30T10:20:16.082107Z",
     "start_time": "2025-04-30T10:20:16.071304Z"
    }
   },
   "cell_type": "code",
   "source": "files_df.head(10)",
   "id": "afc786e23e9b8e11",
   "outputs": [
    {
     "data": {
      "text/plain": [
       "  periodical_category                             periodical_href  \\\n",
       "0            samizdat                        /cs/periodika/ps-psi   \n",
       "1            samizdat                        /cs/periodika/ps-psi   \n",
       "2            samizdat                        /cs/periodika/ps-psi   \n",
       "3            samizdat                        /cs/periodika/ps-psi   \n",
       "4            samizdat              /cs/periodika/abecedni-casopis   \n",
       "5            samizdat              /cs/periodika/abecedni-casopis   \n",
       "6            samizdat              /cs/periodika/abecedni-casopis   \n",
       "7            samizdat  /cs/periodika/acta-incognitorum-eruditorum   \n",
       "8            samizdat  /cs/periodika/acta-incognitorum-eruditorum   \n",
       "9            samizdat  /cs/periodika/acta-incognitorum-eruditorum   \n",
       "\n",
       "               periodical_title  \\\n",
       "0                       Ψ [Psí]   \n",
       "1                       Ψ [Psí]   \n",
       "2                       Ψ [Psí]   \n",
       "3                       Ψ [Psí]   \n",
       "4              Abecední časopis   \n",
       "5              Abecední časopis   \n",
       "6              Abecední časopis   \n",
       "7  Acta incognitorum eruditorum   \n",
       "8  Acta incognitorum eruditorum   \n",
       "9  Acta incognitorum eruditorum   \n",
       "\n",
       "                               periodical_basic_info  \\\n",
       "0        [,  [Praha] ,  1985 – 1989 ,  1 × ročně , ]   \n",
       "1        [,  [Praha] ,  1985 – 1989 ,  1 × ročně , ]   \n",
       "2        [,  [Praha] ,  1985 – 1989 ,  1 × ročně , ]   \n",
       "3        [,  [Praha] ,  1985 – 1989 ,  1 × ročně , ]   \n",
       "4       [,  Praha ,  1985 - 1986 ,  nepravidelně , ]   \n",
       "5       [,  Praha ,  1985 - 1986 ,  nepravidelně , ]   \n",
       "6       [,  Praha ,  1985 - 1986 ,  nepravidelně , ]   \n",
       "7  [,  [Praha] ,  1976 – 1988 ,  měsíčně vyjma če...   \n",
       "8  [,  [Praha] ,  1976 – 1988 ,  měsíčně vyjma če...   \n",
       "9  [,  [Praha] ,  1976 – 1988 ,  měsíčně vyjma če...   \n",
       "\n",
       "                                            file_url  \\\n",
       "0  https://files.scriptum.cz/scriptum/%5Bnode%5D/...   \n",
       "1  https://files.scriptum.cz/scriptum/%5Bnode%5D/...   \n",
       "2  https://files.scriptum.cz/scriptum/%5Bnode%5D/...   \n",
       "3  https://files.scriptum.cz/scriptum/%5Bnode%5D/...   \n",
       "4  https://files.scriptum.cz/scriptum/abecedni-ca...   \n",
       "5  https://files.scriptum.cz/scriptum/abecedni-ca...   \n",
       "6  https://files.scriptum.cz/scriptum/abecedni-ca...   \n",
       "7  https://files.scriptum.cz/scriptum/acta-incogn...   \n",
       "8  https://files.scriptum.cz/scriptum/acta-incogn...   \n",
       "9  https://files.scriptum.cz/scriptum/acta-incogn...   \n",
       "\n",
       "                                            filename    year  pages_N  \\\n",
       "0                            psi_1986_2_vina_ocr.txt  1986.0       36   \n",
       "1           psi_1987_3_freud-a-psychoanalyza_ocr.txt  1987.0       42   \n",
       "2  psi_1988_4_sluzba-zivotu_rok-blahoslavene-anez...  1988.0       25   \n",
       "3           psi_1989_5_vira-v-modernim-svete_ocr.txt  1989.0       36   \n",
       "4  abecedni-casopis_1986_2_bonifac_tit-str-obsah_...  1986.0        2   \n",
       "5  abecedni-casopis_1986_3_drozd_tit-str-obsah_oc...  1986.0        2   \n",
       "6  abecedni-casopis_1986_4_cestmir_tit-str-obsah_...  1986.0        2   \n",
       "7           acta-incognitorum_1976_r01_01-02_ocr.txt  1976.0      225   \n",
       "8            acta-incognitorum_02_1976_01-02_ocr.txt  1976.0      236   \n",
       "9        acta-incognitorum_1976-77_r02_03-04_ocr.txt  1976.0      266   \n",
       "\n",
       "   tokens_N  \n",
       "0     24524  \n",
       "1     21575  \n",
       "2     14764  \n",
       "3     23867  \n",
       "4        87  \n",
       "5       216  \n",
       "6       203  \n",
       "7     60128  \n",
       "8     60814  \n",
       "9     65411  "
      ],
      "text/html": [
       "<div>\n",
       "<style scoped>\n",
       "    .dataframe tbody tr th:only-of-type {\n",
       "        vertical-align: middle;\n",
       "    }\n",
       "\n",
       "    .dataframe tbody tr th {\n",
       "        vertical-align: top;\n",
       "    }\n",
       "\n",
       "    .dataframe thead th {\n",
       "        text-align: right;\n",
       "    }\n",
       "</style>\n",
       "<table border=\"1\" class=\"dataframe\">\n",
       "  <thead>\n",
       "    <tr style=\"text-align: right;\">\n",
       "      <th></th>\n",
       "      <th>periodical_category</th>\n",
       "      <th>periodical_href</th>\n",
       "      <th>periodical_title</th>\n",
       "      <th>periodical_basic_info</th>\n",
       "      <th>file_url</th>\n",
       "      <th>filename</th>\n",
       "      <th>year</th>\n",
       "      <th>pages_N</th>\n",
       "      <th>tokens_N</th>\n",
       "    </tr>\n",
       "  </thead>\n",
       "  <tbody>\n",
       "    <tr>\n",
       "      <th>0</th>\n",
       "      <td>samizdat</td>\n",
       "      <td>/cs/periodika/ps-psi</td>\n",
       "      <td>Ψ [Psí]</td>\n",
       "      <td>[,  [Praha] ,  1985 – 1989 ,  1 × ročně , ]</td>\n",
       "      <td>https://files.scriptum.cz/scriptum/%5Bnode%5D/...</td>\n",
       "      <td>psi_1986_2_vina_ocr.txt</td>\n",
       "      <td>1986.0</td>\n",
       "      <td>36</td>\n",
       "      <td>24524</td>\n",
       "    </tr>\n",
       "    <tr>\n",
       "      <th>1</th>\n",
       "      <td>samizdat</td>\n",
       "      <td>/cs/periodika/ps-psi</td>\n",
       "      <td>Ψ [Psí]</td>\n",
       "      <td>[,  [Praha] ,  1985 – 1989 ,  1 × ročně , ]</td>\n",
       "      <td>https://files.scriptum.cz/scriptum/%5Bnode%5D/...</td>\n",
       "      <td>psi_1987_3_freud-a-psychoanalyza_ocr.txt</td>\n",
       "      <td>1987.0</td>\n",
       "      <td>42</td>\n",
       "      <td>21575</td>\n",
       "    </tr>\n",
       "    <tr>\n",
       "      <th>2</th>\n",
       "      <td>samizdat</td>\n",
       "      <td>/cs/periodika/ps-psi</td>\n",
       "      <td>Ψ [Psí]</td>\n",
       "      <td>[,  [Praha] ,  1985 – 1989 ,  1 × ročně , ]</td>\n",
       "      <td>https://files.scriptum.cz/scriptum/%5Bnode%5D/...</td>\n",
       "      <td>psi_1988_4_sluzba-zivotu_rok-blahoslavene-anez...</td>\n",
       "      <td>1988.0</td>\n",
       "      <td>25</td>\n",
       "      <td>14764</td>\n",
       "    </tr>\n",
       "    <tr>\n",
       "      <th>3</th>\n",
       "      <td>samizdat</td>\n",
       "      <td>/cs/periodika/ps-psi</td>\n",
       "      <td>Ψ [Psí]</td>\n",
       "      <td>[,  [Praha] ,  1985 – 1989 ,  1 × ročně , ]</td>\n",
       "      <td>https://files.scriptum.cz/scriptum/%5Bnode%5D/...</td>\n",
       "      <td>psi_1989_5_vira-v-modernim-svete_ocr.txt</td>\n",
       "      <td>1989.0</td>\n",
       "      <td>36</td>\n",
       "      <td>23867</td>\n",
       "    </tr>\n",
       "    <tr>\n",
       "      <th>4</th>\n",
       "      <td>samizdat</td>\n",
       "      <td>/cs/periodika/abecedni-casopis</td>\n",
       "      <td>Abecední časopis</td>\n",
       "      <td>[,  Praha ,  1985 - 1986 ,  nepravidelně , ]</td>\n",
       "      <td>https://files.scriptum.cz/scriptum/abecedni-ca...</td>\n",
       "      <td>abecedni-casopis_1986_2_bonifac_tit-str-obsah_...</td>\n",
       "      <td>1986.0</td>\n",
       "      <td>2</td>\n",
       "      <td>87</td>\n",
       "    </tr>\n",
       "    <tr>\n",
       "      <th>5</th>\n",
       "      <td>samizdat</td>\n",
       "      <td>/cs/periodika/abecedni-casopis</td>\n",
       "      <td>Abecední časopis</td>\n",
       "      <td>[,  Praha ,  1985 - 1986 ,  nepravidelně , ]</td>\n",
       "      <td>https://files.scriptum.cz/scriptum/abecedni-ca...</td>\n",
       "      <td>abecedni-casopis_1986_3_drozd_tit-str-obsah_oc...</td>\n",
       "      <td>1986.0</td>\n",
       "      <td>2</td>\n",
       "      <td>216</td>\n",
       "    </tr>\n",
       "    <tr>\n",
       "      <th>6</th>\n",
       "      <td>samizdat</td>\n",
       "      <td>/cs/periodika/abecedni-casopis</td>\n",
       "      <td>Abecední časopis</td>\n",
       "      <td>[,  Praha ,  1985 - 1986 ,  nepravidelně , ]</td>\n",
       "      <td>https://files.scriptum.cz/scriptum/abecedni-ca...</td>\n",
       "      <td>abecedni-casopis_1986_4_cestmir_tit-str-obsah_...</td>\n",
       "      <td>1986.0</td>\n",
       "      <td>2</td>\n",
       "      <td>203</td>\n",
       "    </tr>\n",
       "    <tr>\n",
       "      <th>7</th>\n",
       "      <td>samizdat</td>\n",
       "      <td>/cs/periodika/acta-incognitorum-eruditorum</td>\n",
       "      <td>Acta incognitorum eruditorum</td>\n",
       "      <td>[,  [Praha] ,  1976 – 1988 ,  měsíčně vyjma če...</td>\n",
       "      <td>https://files.scriptum.cz/scriptum/acta-incogn...</td>\n",
       "      <td>acta-incognitorum_1976_r01_01-02_ocr.txt</td>\n",
       "      <td>1976.0</td>\n",
       "      <td>225</td>\n",
       "      <td>60128</td>\n",
       "    </tr>\n",
       "    <tr>\n",
       "      <th>8</th>\n",
       "      <td>samizdat</td>\n",
       "      <td>/cs/periodika/acta-incognitorum-eruditorum</td>\n",
       "      <td>Acta incognitorum eruditorum</td>\n",
       "      <td>[,  [Praha] ,  1976 – 1988 ,  měsíčně vyjma če...</td>\n",
       "      <td>https://files.scriptum.cz/scriptum/acta-incogn...</td>\n",
       "      <td>acta-incognitorum_02_1976_01-02_ocr.txt</td>\n",
       "      <td>1976.0</td>\n",
       "      <td>236</td>\n",
       "      <td>60814</td>\n",
       "    </tr>\n",
       "    <tr>\n",
       "      <th>9</th>\n",
       "      <td>samizdat</td>\n",
       "      <td>/cs/periodika/acta-incognitorum-eruditorum</td>\n",
       "      <td>Acta incognitorum eruditorum</td>\n",
       "      <td>[,  [Praha] ,  1976 – 1988 ,  měsíčně vyjma če...</td>\n",
       "      <td>https://files.scriptum.cz/scriptum/acta-incogn...</td>\n",
       "      <td>acta-incognitorum_1976-77_r02_03-04_ocr.txt</td>\n",
       "      <td>1976.0</td>\n",
       "      <td>266</td>\n",
       "      <td>65411</td>\n",
       "    </tr>\n",
       "  </tbody>\n",
       "</table>\n",
       "</div>"
      ]
     },
     "execution_count": 17,
     "metadata": {},
     "output_type": "execute_result"
    }
   ],
   "execution_count": 17
  },
  {
   "metadata": {
    "ExecuteTime": {
     "end_time": "2025-04-30T10:20:40.936527Z",
     "start_time": "2025-04-30T10:20:40.912163Z"
    }
   },
   "cell_type": "code",
   "source": "files_df.to_json(\"../data/files_df.json\")\n",
   "id": "175e2e897469e77a",
   "outputs": [],
   "execution_count": 18
  },
  {
   "metadata": {},
   "cell_type": "code",
   "outputs": [],
   "execution_count": null,
   "source": "",
   "id": "8516981334183ae1"
  },
  {
   "metadata": {},
   "cell_type": "code",
   "outputs": [],
   "execution_count": null,
   "source": "",
   "id": "1932527d5936b8fd"
  }
 ],
 "metadata": {
  "kernelspec": {
   "display_name": "Python 3 (ipykernel)",
   "language": "python",
   "name": "python3"
  },
  "language_info": {
   "codemirror_mode": {
    "name": "ipython",
    "version": 2
   },
   "file_extension": ".py",
   "mimetype": "text/x-python",
   "name": "python",
   "nbconvert_exporter": "python",
   "pygments_lexer": "ipython2",
   "version": "2.7.6"
  }
 },
 "nbformat": 4,
 "nbformat_minor": 5
}
